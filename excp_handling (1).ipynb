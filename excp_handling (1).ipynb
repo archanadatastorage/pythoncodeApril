{
 "cells": [
  {
   "cell_type": "code",
   "execution_count": 4,
   "id": "cc6f113f",
   "metadata": {},
   "outputs": [],
   "source": [
    "num1 =100\n",
    "num2 =0"
   ]
  },
  {
   "cell_type": "code",
   "execution_count": 5,
   "id": "4079145c",
   "metadata": {},
   "outputs": [
    {
     "ename": "ZeroDivisionError",
     "evalue": "division by zero",
     "output_type": "error",
     "traceback": [
      "\u001b[1;31m---------------------------------------------------------------------------\u001b[0m",
      "\u001b[1;31mZeroDivisionError\u001b[0m                         Traceback (most recent call last)",
      "\u001b[1;32m~\\AppData\\Local\\Temp\\ipykernel_22828\\1051994461.py\u001b[0m in \u001b[0;36m<module>\u001b[1;34m\u001b[0m\n\u001b[1;32m----> 1\u001b[1;33m \u001b[0mnum1\u001b[0m\u001b[1;33m/\u001b[0m\u001b[0mnum2\u001b[0m\u001b[1;33m\u001b[0m\u001b[1;33m\u001b[0m\u001b[0m\n\u001b[0m",
      "\u001b[1;31mZeroDivisionError\u001b[0m: division by zero"
     ]
    }
   ],
   "source": [
    "num1/num2"
   ]
  },
  {
   "cell_type": "code",
   "execution_count": 3,
   "id": "a7316387",
   "metadata": {},
   "outputs": [
    {
     "data": {
      "text/plain": [
       "20.0"
      ]
     },
     "execution_count": 3,
     "metadata": {},
     "output_type": "execute_result"
    }
   ],
   "source": [
    "num1/num2"
   ]
  },
  {
   "cell_type": "code",
   "execution_count": 6,
   "id": "d32ad657",
   "metadata": {},
   "outputs": [
    {
     "ename": "SyntaxError",
     "evalue": "EOL while scanning string literal (2734633800.py, line 1)",
     "output_type": "error",
     "traceback": [
      "\u001b[1;36m  File \u001b[1;32m\"C:\\Users\\Krishna\\AppData\\Local\\Temp\\ipykernel_22828\\2734633800.py\"\u001b[1;36m, line \u001b[1;32m1\u001b[0m\n\u001b[1;33m    \"India\u001b[0m\n\u001b[1;37m          ^\u001b[0m\n\u001b[1;31mSyntaxError\u001b[0m\u001b[1;31m:\u001b[0m EOL while scanning string literal\n"
     ]
    }
   ],
   "source": [
    "\"India"
   ]
  },
  {
   "cell_type": "code",
   "execution_count": 7,
   "id": "a9fe3b71",
   "metadata": {},
   "outputs": [
    {
     "data": {
      "text/plain": [
       "100"
      ]
     },
     "execution_count": 7,
     "metadata": {},
     "output_type": "execute_result"
    }
   ],
   "source": [
    "num1"
   ]
  },
  {
   "cell_type": "code",
   "execution_count": 8,
   "id": "87817f0f",
   "metadata": {},
   "outputs": [],
   "source": [
    "val2 = \"20\""
   ]
  },
  {
   "cell_type": "code",
   "execution_count": 9,
   "id": "85872592",
   "metadata": {},
   "outputs": [
    {
     "ename": "TypeError",
     "evalue": "unsupported operand type(s) for +: 'int' and 'str'",
     "output_type": "error",
     "traceback": [
      "\u001b[1;31m---------------------------------------------------------------------------\u001b[0m",
      "\u001b[1;31mTypeError\u001b[0m                                 Traceback (most recent call last)",
      "\u001b[1;32m~\\AppData\\Local\\Temp\\ipykernel_22828\\239493099.py\u001b[0m in \u001b[0;36m<module>\u001b[1;34m\u001b[0m\n\u001b[1;32m----> 1\u001b[1;33m \u001b[0mnum1\u001b[0m \u001b[1;33m+\u001b[0m \u001b[0mval2\u001b[0m\u001b[1;33m\u001b[0m\u001b[1;33m\u001b[0m\u001b[0m\n\u001b[0m",
      "\u001b[1;31mTypeError\u001b[0m: unsupported operand type(s) for +: 'int' and 'str'"
     ]
    }
   ],
   "source": [
    "num1 + val2"
   ]
  },
  {
   "cell_type": "code",
   "execution_count": 10,
   "id": "f890815f",
   "metadata": {},
   "outputs": [],
   "source": [
    "l1 =[2,3,4,5,6]"
   ]
  },
  {
   "cell_type": "code",
   "execution_count": 11,
   "id": "d2c1c3e5",
   "metadata": {},
   "outputs": [
    {
     "data": {
      "text/plain": [
       "5"
      ]
     },
     "execution_count": 11,
     "metadata": {},
     "output_type": "execute_result"
    }
   ],
   "source": [
    "len(l1)"
   ]
  },
  {
   "cell_type": "code",
   "execution_count": 12,
   "id": "79ad99e5",
   "metadata": {},
   "outputs": [
    {
     "data": {
      "text/plain": [
       "2"
      ]
     },
     "execution_count": 12,
     "metadata": {},
     "output_type": "execute_result"
    }
   ],
   "source": [
    "l1[0]"
   ]
  },
  {
   "cell_type": "code",
   "execution_count": 13,
   "id": "d381eada",
   "metadata": {},
   "outputs": [
    {
     "ename": "IndexError",
     "evalue": "list index out of range",
     "output_type": "error",
     "traceback": [
      "\u001b[1;31m---------------------------------------------------------------------------\u001b[0m",
      "\u001b[1;31mIndexError\u001b[0m                                Traceback (most recent call last)",
      "\u001b[1;32m~\\AppData\\Local\\Temp\\ipykernel_22828\\901076641.py\u001b[0m in \u001b[0;36m<module>\u001b[1;34m\u001b[0m\n\u001b[1;32m----> 1\u001b[1;33m \u001b[0ml1\u001b[0m\u001b[1;33m[\u001b[0m\u001b[1;36m10\u001b[0m\u001b[1;33m]\u001b[0m\u001b[1;33m\u001b[0m\u001b[1;33m\u001b[0m\u001b[0m\n\u001b[0m",
      "\u001b[1;31mIndexError\u001b[0m: list index out of range"
     ]
    }
   ],
   "source": [
    "l1[10]"
   ]
  },
  {
   "cell_type": "code",
   "execution_count": 20,
   "id": "67081eb8",
   "metadata": {},
   "outputs": [],
   "source": [
    "population = {\"India\":23678,\"uk\":123}"
   ]
  },
  {
   "cell_type": "code",
   "execution_count": 15,
   "id": "f03d3c2b",
   "metadata": {},
   "outputs": [
    {
     "data": {
      "text/plain": [
       "123"
      ]
     },
     "execution_count": 15,
     "metadata": {},
     "output_type": "execute_result"
    }
   ],
   "source": [
    "population[\"uk\"]"
   ]
  },
  {
   "cell_type": "code",
   "execution_count": 16,
   "id": "224170b6",
   "metadata": {},
   "outputs": [
    {
     "ename": "KeyError",
     "evalue": "'uK'",
     "output_type": "error",
     "traceback": [
      "\u001b[1;31m---------------------------------------------------------------------------\u001b[0m",
      "\u001b[1;31mKeyError\u001b[0m                                  Traceback (most recent call last)",
      "\u001b[1;32m~\\AppData\\Local\\Temp\\ipykernel_22828\\1256453952.py\u001b[0m in \u001b[0;36m<module>\u001b[1;34m\u001b[0m\n\u001b[1;32m----> 1\u001b[1;33m \u001b[0mpopulation\u001b[0m\u001b[1;33m[\u001b[0m\u001b[1;34m\"uK\"\u001b[0m\u001b[1;33m]\u001b[0m\u001b[1;33m\u001b[0m\u001b[1;33m\u001b[0m\u001b[0m\n\u001b[0m",
      "\u001b[1;31mKeyError\u001b[0m: 'uK'"
     ]
    }
   ],
   "source": [
    "population[\"uK\"]"
   ]
  },
  {
   "cell_type": "code",
   "execution_count": 30,
   "id": "7aabcfb3",
   "metadata": {},
   "outputs": [],
   "source": [
    "a =100\n",
    "b= 0\n",
    "c=\"20\""
   ]
  },
  {
   "cell_type": "code",
   "execution_count": 28,
   "id": "d957c3cf",
   "metadata": {},
   "outputs": [
    {
     "name": "stdout",
     "output_type": "stream",
     "text": [
      " Not allowed\n"
     ]
    }
   ],
   "source": [
    "try:\n",
    "    res = a/b\n",
    "    print(\" Result is : \",res)\n",
    "except :\n",
    "    print(\" Not allowed\")"
   ]
  },
  {
   "cell_type": "code",
   "execution_count": 32,
   "id": "931ef3d0",
   "metadata": {},
   "outputs": [
    {
     "name": "stdout",
     "output_type": "stream",
     "text": [
      "unsupported operand type(s) for /: 'int' and 'str'\n"
     ]
    }
   ],
   "source": [
    "try:\n",
    "    res = a/c\n",
    "    print(\" Result is : \",res)\n",
    "except ZeroDivisionError as e :\n",
    "    print(\" Not allowed\" ,e)\n",
    "except TypeError as e:\n",
    "    print(e)"
   ]
  },
  {
   "cell_type": "code",
   "execution_count": 34,
   "id": "09c47085",
   "metadata": {},
   "outputs": [
    {
     "name": "stdout",
     "output_type": "stream",
     "text": [
      "division by zero\n"
     ]
    }
   ],
   "source": [
    "try:\n",
    "    res = a/b\n",
    "    print(\" Result is : \",res)\n",
    "except (ZeroDivisionError,TypeError) as e:\n",
    "    print(e)"
   ]
  },
  {
   "cell_type": "code",
   "execution_count": 36,
   "id": "54ae6d44",
   "metadata": {},
   "outputs": [
    {
     "name": "stdout",
     "output_type": "stream",
     "text": [
      " Result is :  10.0\n",
      "finally done\n"
     ]
    }
   ],
   "source": [
    "#finally \n",
    "try:\n",
    "    res = a/10\n",
    "    print(\" Result is : \",res)\n",
    "except (ZeroDivisionError,TypeError) as e:\n",
    "    print(e)\n",
    "finally:\n",
    "    print(\"finally done\")"
   ]
  },
  {
   "cell_type": "code",
   "execution_count": 38,
   "id": "2c947ca4",
   "metadata": {},
   "outputs": [
    {
     "name": "stdout",
     "output_type": "stream",
     "text": [
      " Result is :  10.0\n",
      "Else stmt\n"
     ]
    }
   ],
   "source": [
    "#else\n",
    "try:\n",
    "    res = a/10\n",
    "    print(\" Result is : \",res)\n",
    "except (ZeroDivisionError,TypeError) as e:\n",
    "    print(e)\n",
    "else :\n",
    "    print(\"Else stmt\")"
   ]
  },
  {
   "cell_type": "code",
   "execution_count": 39,
   "id": "7eafb2ec",
   "metadata": {},
   "outputs": [
    {
     "name": "stdout",
     "output_type": "stream",
     "text": [
      " Result is :  10.0\n",
      "Else stmt\n",
      "finally done\n",
      "I am outside\n"
     ]
    }
   ],
   "source": [
    "#try...except..else...finally + no exception raised\n",
    "try:\n",
    "    res = a/10\n",
    "    print(\" Result is : \",res)\n",
    "except (ZeroDivisionError,TypeError) as e:\n",
    "    print(e)\n",
    "else :\n",
    "    print(\"Else stmt\")\n",
    "finally:\n",
    "    print(\"finally done\")\n",
    "\n",
    "print(\"I am outside\")"
   ]
  },
  {
   "cell_type": "code",
   "execution_count": 40,
   "id": "50e92f60",
   "metadata": {},
   "outputs": [
    {
     "name": "stdout",
     "output_type": "stream",
     "text": [
      "unsupported operand type(s) for /: 'int' and 'str'\n",
      "finally done\n",
      "I am outside\n"
     ]
    }
   ],
   "source": [
    "#try...except..else...finally + exception raised\n",
    "try:\n",
    "    res = a/c\n",
    "    print(\" Result is : \",res)\n",
    "except (ZeroDivisionError,TypeError) as e:\n",
    "    print(e)\n",
    "else :\n",
    "    print(\"Else stmt\")\n",
    "finally:\n",
    "    print(\"finally done\")\n",
    "\n",
    "print(\"I am outside\")"
   ]
  },
  {
   "cell_type": "code",
   "execution_count": 46,
   "id": "ea1708e5",
   "metadata": {},
   "outputs": [
    {
     "name": "stdout",
     "output_type": "stream",
     "text": [
      "unsupported operand type(s) for /: 'int' and 'str'\n",
      "<class 'TypeError'>\n",
      "finally done\n",
      "I am outside\n"
     ]
    }
   ],
   "source": [
    "#print the name of exception clas and its info\n",
    "try:\n",
    "    res = a/c\n",
    "    print(\" Result is : \",res)\n",
    "except Exception as e:\n",
    "    print(e)\n",
    "    print(e.__class__ )\n",
    "else :\n",
    "    print(\"Else stmt\")\n",
    "finally:\n",
    "    print(\"finally done\")\n",
    "\n",
    "print(\"I am outside\")"
   ]
  },
  {
   "cell_type": "code",
   "execution_count": 47,
   "id": "eb79c923",
   "metadata": {},
   "outputs": [
    {
     "name": "stdout",
     "output_type": "stream",
     "text": [
      "division by zero\n",
      "<class 'ZeroDivisionError'>\n",
      "finally done\n",
      "I am outside\n"
     ]
    }
   ],
   "source": [
    "#print the name of exception clas and its info\n",
    "try:\n",
    "    res = a/0\n",
    "    print(\" Result is : \",res)\n",
    "except Exception as e:\n",
    "    print(e)\n",
    "    print(e.__class__ )\n",
    "else :\n",
    "    print(\"Else stmt\")\n",
    "finally:\n",
    "    print(\"finally done\")\n",
    "\n",
    "print(\"I am outside\")"
   ]
  },
  {
   "cell_type": "code",
   "execution_count": 51,
   "id": "a759ada5",
   "metadata": {},
   "outputs": [
    {
     "name": "stdout",
     "output_type": "stream",
     "text": [
      "(<class 'TypeError'>, TypeError(\"unsupported operand type(s) for /: 'int' and 'str'\"), <traceback object at 0x0000016A2E49D280>)\n",
      "finally done\n",
      "I am outside\n"
     ]
    }
   ],
   "source": [
    "#print the name of exception clas and its info\n",
    "import sys\n",
    "try:\n",
    "    res = a/c\n",
    "    print(\" Result is : \",res)\n",
    "except Exception as e:\n",
    "    print(sys.exc_info())\n",
    "    #print(e.__class__ )\n",
    "else :\n",
    "    print(\"Else stmt\")\n",
    "finally:\n",
    "    print(\"finally done\")\n",
    "\n",
    "print(\"I am outside\")"
   ]
  },
  {
   "cell_type": "code",
   "execution_count": 58,
   "id": "f344e4f7",
   "metadata": {},
   "outputs": [
    {
     "name": "stdout",
     "output_type": "stream",
     "text": [
      " Age mustn't be -ve or zero\n"
     ]
    }
   ],
   "source": [
    "#raise\n",
    "a=-10\n",
    "try:\n",
    "    if a<0:\n",
    "        raise ZeroDivisionError\n",
    "    print ( \" hello you {} years old\".format(a))\n",
    "except ZeroDivisionError :\n",
    "    print( \" Age mustn't be -ve or zero\")"
   ]
  },
  {
   "cell_type": "code",
   "execution_count": 59,
   "id": "a0ca1c3a",
   "metadata": {},
   "outputs": [
    {
     "name": "stdout",
     "output_type": "stream",
     "text": [
      " Age mustn't be -ve or zero\n"
     ]
    }
   ],
   "source": [
    "#raise\n",
    "a=-10\n",
    "try:\n",
    "    if a<0:\n",
    "        raise ZeroDivisionError(\" Age mustn't be -ve or zero\")\n",
    "    print ( \" hello you {} years old\".format(a))\n",
    "except ZeroDivisionError as e :\n",
    "    print(e )"
   ]
  },
  {
   "cell_type": "code",
   "execution_count": 60,
   "id": "23175281",
   "metadata": {},
   "outputs": [
    {
     "name": "stdout",
     "output_type": "stream",
     "text": [
      "division by zero\n"
     ]
    }
   ],
   "source": [
    "class Mycode:\n",
    "    try :\n",
    "        a=100\n",
    "        b=0\n",
    "        res = a/b\n",
    "        print(\"Sum is :\",red)\n",
    "    except Exception as e:\n",
    "        print(e)\n",
    "        "
   ]
  },
  {
   "cell_type": "code",
   "execution_count": 18,
   "id": "78d4483b",
   "metadata": {},
   "outputs": [],
   "source": [
    "#User definied Exception\n",
    "class Myexcep(Exception):\n",
    "    def __init__(self,message,errcode):\n",
    "        super().__init__(message)\n",
    "        self.errcode=errcode\n",
    "        self.message=message\n",
    "    def __str__(self):\n",
    "        return f'{self.message} : Error code {self.errcode}'"
   ]
  },
  {
   "cell_type": "code",
   "execution_count": 19,
   "id": "e88d6a59",
   "metadata": {},
   "outputs": [],
   "source": [
    "def divide(x,y):\n",
    "    if x==0:\n",
    "        raise Myexcep('should no be zero',100)\n",
    "    return x/y"
   ]
  },
  {
   "cell_type": "code",
   "execution_count": 20,
   "id": "50b5205a",
   "metadata": {},
   "outputs": [
    {
     "data": {
      "text/plain": [
       "10.0"
      ]
     },
     "execution_count": 20,
     "metadata": {},
     "output_type": "execute_result"
    }
   ],
   "source": [
    "divide(30,3)"
   ]
  },
  {
   "cell_type": "code",
   "execution_count": 21,
   "id": "1f7b4caa",
   "metadata": {},
   "outputs": [
    {
     "name": "stdout",
     "output_type": "stream",
     "text": [
      "error : Error code 900\n"
     ]
    }
   ],
   "source": [
    "ex = Myexcep('error',900)\n",
    "print(ex)"
   ]
  },
  {
   "cell_type": "code",
   "execution_count": 22,
   "id": "d013bc2a",
   "metadata": {},
   "outputs": [
    {
     "name": "stdout",
     "output_type": "stream",
     "text": [
      "should no be zero : Error code 100\n"
     ]
    }
   ],
   "source": [
    "try:\n",
    "    r=divide(0,8)\n",
    "    print(\"Result :\",r)\n",
    "except Myexcep as e:\n",
    "    print(e)"
   ]
  },
  {
   "cell_type": "code",
   "execution_count": 26,
   "id": "6a4917f0",
   "metadata": {},
   "outputs": [
    {
     "name": "stdout",
     "output_type": "stream",
     "text": [
      "age must be above 0 : Error code 200\n"
     ]
    }
   ],
   "source": [
    "age=-10\n",
    "try:\n",
    "    if age<0:\n",
    "        raise Myexcep('age must be above 0',200)\n",
    "    print('hello ', age)\n",
    "except Myexcep as e:\n",
    "    print(e)\n",
    "    "
   ]
  },
  {
   "cell_type": "code",
   "execution_count": null,
   "id": "ddbff1bf",
   "metadata": {},
   "outputs": [],
   "source": []
  }
 ],
 "metadata": {
  "kernelspec": {
   "display_name": "Python 3 (ipykernel)",
   "language": "python",
   "name": "python3"
  },
  "language_info": {
   "codemirror_mode": {
    "name": "ipython",
    "version": 3
   },
   "file_extension": ".py",
   "mimetype": "text/x-python",
   "name": "python",
   "nbconvert_exporter": "python",
   "pygments_lexer": "ipython3",
   "version": "3.9.13"
  }
 },
 "nbformat": 4,
 "nbformat_minor": 5
}
