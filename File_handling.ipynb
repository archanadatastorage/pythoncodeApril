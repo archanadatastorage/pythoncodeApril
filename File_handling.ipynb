{
 "cells": [
  {
   "cell_type": "code",
   "execution_count": 1,
   "id": "1bb0faff",
   "metadata": {},
   "outputs": [],
   "source": [
    "f= open(r\"C:\\Users\\Krishna\\data\\python_code\\test.txt\",\"r\")"
   ]
  },
  {
   "cell_type": "code",
   "execution_count": 2,
   "id": "a9cdd230",
   "metadata": {},
   "outputs": [
    {
     "data": {
      "text/plain": [
       "'r'"
      ]
     },
     "execution_count": 2,
     "metadata": {},
     "output_type": "execute_result"
    }
   ],
   "source": [
    "f.mode"
   ]
  },
  {
   "cell_type": "code",
   "execution_count": 3,
   "id": "8f3c6632",
   "metadata": {},
   "outputs": [
    {
     "data": {
      "text/plain": [
       "'C:\\\\Users\\\\Krishna\\\\data\\\\python_code\\\\test.txt'"
      ]
     },
     "execution_count": 3,
     "metadata": {},
     "output_type": "execute_result"
    }
   ],
   "source": [
    "f.name"
   ]
  },
  {
   "cell_type": "code",
   "execution_count": 4,
   "id": "f40dce71",
   "metadata": {},
   "outputs": [
    {
     "data": {
      "text/plain": [
       "0"
      ]
     },
     "execution_count": 4,
     "metadata": {},
     "output_type": "execute_result"
    }
   ],
   "source": [
    "f.tell()"
   ]
  },
  {
   "cell_type": "code",
   "execution_count": 5,
   "id": "4f43aafe",
   "metadata": {},
   "outputs": [],
   "source": [
    "f.close()"
   ]
  },
  {
   "cell_type": "code",
   "execution_count": 6,
   "id": "4a8ef04d",
   "metadata": {},
   "outputs": [],
   "source": [
    "with open(r\"C:\\Users\\Krishna\\data\\python_code\\test.txt\",\"r\") as f:\n",
    "    pass"
   ]
  },
  {
   "cell_type": "code",
   "execution_count": 7,
   "id": "fb99dede",
   "metadata": {},
   "outputs": [
    {
     "data": {
      "text/plain": [
       "<_io.TextIOWrapper name='C:\\\\Users\\\\Krishna\\\\data\\\\python_code\\\\test.txt' mode='r' encoding='cp1252'>"
      ]
     },
     "execution_count": 7,
     "metadata": {},
     "output_type": "execute_result"
    }
   ],
   "source": [
    "f"
   ]
  },
  {
   "cell_type": "code",
   "execution_count": 8,
   "id": "10bb5ccf",
   "metadata": {},
   "outputs": [
    {
     "data": {
      "text/plain": [
       "True"
      ]
     },
     "execution_count": 8,
     "metadata": {},
     "output_type": "execute_result"
    }
   ],
   "source": [
    "f.closed"
   ]
  },
  {
   "cell_type": "code",
   "execution_count": 9,
   "id": "02ba3e09",
   "metadata": {},
   "outputs": [
    {
     "ename": "ValueError",
     "evalue": "I/O operation on closed file.",
     "output_type": "error",
     "traceback": [
      "\u001b[1;31m---------------------------------------------------------------------------\u001b[0m",
      "\u001b[1;31mValueError\u001b[0m                                Traceback (most recent call last)",
      "\u001b[1;32m~\\AppData\\Local\\Temp\\ipykernel_32616\\3059900045.py\u001b[0m in \u001b[0;36m<module>\u001b[1;34m\u001b[0m\n\u001b[1;32m----> 1\u001b[1;33m \u001b[0mf\u001b[0m\u001b[1;33m.\u001b[0m\u001b[0mread\u001b[0m\u001b[1;33m(\u001b[0m\u001b[1;33m)\u001b[0m\u001b[1;33m\u001b[0m\u001b[1;33m\u001b[0m\u001b[0m\n\u001b[0m",
      "\u001b[1;31mValueError\u001b[0m: I/O operation on closed file."
     ]
    }
   ],
   "source": [
    "f.read()"
   ]
  },
  {
   "cell_type": "code",
   "execution_count": null,
   "id": "cf37082d",
   "metadata": {},
   "outputs": [],
   "source": [
    "with open(r\"C:\\Users\\Krishna\\data\\python_code\\test.txt\",\"r\") as f:\n",
    "    print(f.read())"
   ]
  },
  {
   "cell_type": "code",
   "execution_count": null,
   "id": "4ce0ca85",
   "metadata": {},
   "outputs": [],
   "source": [
    "with open(r\"C:\\Users\\Krishna\\data\\python_code\\test.txt\",\"r\") as f:\n",
    "    f_content = f.readlines()\n",
    "    print(f_content)"
   ]
  },
  {
   "cell_type": "code",
   "execution_count": null,
   "id": "02b63954",
   "metadata": {},
   "outputs": [],
   "source": [
    "with open(r\"C:\\Users\\Krishna\\data\\python_code\\test.txt\",\"r\") as f:\n",
    "    for line in f:\n",
    "        print(line,len(line))\n",
    "   "
   ]
  },
  {
   "cell_type": "code",
   "execution_count": 10,
   "id": "7eeee325",
   "metadata": {},
   "outputs": [
    {
     "name": "stdout",
     "output_type": "stream",
     "text": [
      "1) This is* a test fi*le\n",
      "2) With* multiple *lines of d*ata...\n",
      "3) *Third line*\n",
      "4) Fourth* line\n",
      "5) F*ifth line\n",
      "*6) Sixth l*ine\n",
      "7) Sev*enth line\n",
      "*8) Eighth *line\n",
      "9) Ni*nth line\n",
      "1*0) Tenth l*ine*"
     ]
    }
   ],
   "source": [
    "with open(r\"C:\\Users\\Krishna\\data\\python_code\\test.txt\",\"r\") as f:\n",
    "    size_to_read =10\n",
    "    f_cotent = f.read(size_to_read)\n",
    "    while len(f_cotent)>0:\n",
    "        print(f_cotent,end='*')\n",
    "        f_cotent = f.read(size_to_read)"
   ]
  },
  {
   "cell_type": "code",
   "execution_count": 15,
   "id": "5ee5fb9c",
   "metadata": {},
   "outputs": [
    {
     "name": "stdout",
     "output_type": "stream",
     "text": [
      "0\n",
      "1) This is 10\n",
      " multiple  40\n"
     ]
    }
   ],
   "source": [
    "with open(r\"C:\\Users\\Krishna\\data\\python_code\\test.txt\",\"r\") as f:\n",
    "    size_to_read =10\n",
    "    print(f.tell())\n",
    "    f_cotent = f.read(size_to_read)\n",
    "    print(f_cotent,end=' ')\n",
    "    print(f.tell())\n",
    "    f.seek(30)\n",
    "    f_cotent = f.read(size_to_read)\n",
    "    print(f_cotent,end=' ')\n",
    "    print(f.tell())"
   ]
  },
  {
   "cell_type": "code",
   "execution_count": 22,
   "id": "31227ca4",
   "metadata": {},
   "outputs": [],
   "source": [
    "with open(r\"C:\\Users\\Krishna\\data\\python_code\\new_test.txt\",'w') as f:\n",
    "    f.write(\"Test\")\n",
    "    f.write(\"hello\")\n",
    "    f.seek(0)\n",
    "    f.write('R')"
   ]
  },
  {
   "cell_type": "code",
   "execution_count": 23,
   "id": "8f786ff8",
   "metadata": {},
   "outputs": [
    {
     "name": "stdout",
     "output_type": "stream",
     "text": [
      "9\n"
     ]
    }
   ],
   "source": [
    "with open(r\"C:\\Users\\Krishna\\data\\python_code\\new_test.txt\",'a') as f:\n",
    "    print(f.tell())\n",
    "    f.write(\"Test\")\n",
    "    f.write(\"hello\")\n",
    "    "
   ]
  },
  {
   "cell_type": "code",
   "execution_count": 24,
   "id": "43f51e4c",
   "metadata": {},
   "outputs": [],
   "source": [
    "with open(r\"C:\\Users\\Krishna\\data\\python_code\\test.txt\") as readf:\n",
    "    with open(r\"C:\\Users\\Krishna\\data\\python_code\\cptest.txt\",'w') as writef:\n",
    "        for line in readf:\n",
    "            writef.write(line)"
   ]
  },
  {
   "cell_type": "code",
   "execution_count": 27,
   "id": "3fae378b",
   "metadata": {},
   "outputs": [],
   "source": [
    "with open(r\"C:\\Users\\Krishna\\data\\python_code\\Dog_Breeds.jpg\",'rb') as dogf:\n",
    "    with open (r\"C:\\Users\\Krishna\\data\\python_code\\cp_dog.jpg\",\"wb\") as dogw:\n",
    "        for line in dogf:\n",
    "            dogw.write(line)"
   ]
  },
  {
   "cell_type": "code",
   "execution_count": 30,
   "id": "75e1c907",
   "metadata": {},
   "outputs": [
    {
     "name": "stdout",
     "output_type": "stream",
     "text": [
      "1) This is a test file\n",
      "2) With multiple lines of data...\n",
      "3) Third line\n",
      "4) Fourth line\n",
      "5) Fifth line\n",
      "6) Sixth line\n",
      "7) Seventh line\n",
      "8) Eighth line\n",
      "9) Ninth line\n",
      "10) Tenth linethis is extra linethis is extra linethis is extra line\n"
     ]
    }
   ],
   "source": [
    "with open(r\"C:\\Users\\Krishna\\data\\python_code\\test.txt\",\"a+\") as readf:\n",
    "    readf.write(\"this is extra line\")\n",
    "    readf.seek(0)\n",
    "    print(readf.read())"
   ]
  },
  {
   "cell_type": "code",
   "execution_count": 31,
   "id": "a3af9312",
   "metadata": {},
   "outputs": [],
   "source": [
    "import csv"
   ]
  },
  {
   "cell_type": "code",
   "execution_count": 33,
   "id": "df9c1572",
   "metadata": {},
   "outputs": [
    {
     "name": "stdout",
     "output_type": "stream",
     "text": [
      "['first_name', 'last_name', 'email']\n",
      "['John', 'Doe', 'john-doe@bogusemail.com']\n",
      "['Mary', 'Smith-Robinson', 'maryjacobs@bogusemail.com']\n",
      "['Dave', 'Smith', 'davesmith@bogusemail.com']\n",
      "['Jane', 'Stuart', 'janestuart@bogusemail.com']\n",
      "['Tom', 'Wright', 'tomwright@bogusemail.com']\n",
      "['Steve', 'Robinson', 'steverobinson@bogusemail.com']\n",
      "['Nicole', 'Jacobs', 'nicolejacobs@bogusemail.com']\n",
      "['Jane', 'Wright', 'janewright@bogusemail.com']\n",
      "['Jane', 'Doe', 'janedoe@bogusemail.com']\n",
      "['Kurt', 'Wright', 'kurtwright@bogusemail.com']\n",
      "['Kurt', 'Robinson', 'kurtrobinson@bogusemail.com']\n",
      "['Jane', 'Jenkins', 'janejenkins@bogusemail.com']\n",
      "['Neil', 'Robinson', 'neilrobinson@bogusemail.com']\n",
      "['Tom', 'Patterson', 'tompatterson@bogusemail.com']\n",
      "['Sam', 'Jenkins', 'samjenkins@bogusemail.com']\n",
      "['Steve', 'Stuart', 'stevestuart@bogusemail.com']\n",
      "['Maggie', 'Patterson', 'maggiepatterson@bogusemail.com']\n",
      "['Maggie', 'Stuart', 'maggiestuart@bogusemail.com']\n",
      "['Jane', 'Doe', 'janedoe@bogusemail.com']\n",
      "['Steve', 'Patterson', 'stevepatterson@bogusemail.com']\n",
      "['Dave', 'Smith', 'davesmith@bogusemail.com']\n",
      "['Sam', 'Wilks', 'samwilks@bogusemail.com']\n",
      "['Kurt', 'Jefferson', 'kurtjefferson@bogusemail.com']\n",
      "['Sam', 'Stuart', 'samstuart@bogusemail.com']\n",
      "['Jane', 'Stuart', 'janestuart@bogusemail.com']\n",
      "['Dave', 'Davis', 'davedavis@bogusemail.com']\n",
      "['Sam', 'Patterson', 'sampatterson@bogusemail.com']\n",
      "['Tom', 'Jefferson', 'tomjefferson@bogusemail.com']\n",
      "['Jane', 'Stuart', 'janestuart@bogusemail.com']\n",
      "['Maggie', 'Jefferson', 'maggiejefferson@bogusemail.com']\n",
      "['Mary', 'Wilks', 'marywilks@bogusemail.com']\n",
      "['Neil', 'Patterson', 'neilpatterson@bogusemail.com']\n",
      "['Corey', 'Davis', 'coreydavis@bogusemail.com']\n",
      "['Steve', 'Jacobs', 'stevejacobs@bogusemail.com']\n",
      "['Jane', 'Jenkins', 'janejenkins@bogusemail.com']\n",
      "['John', 'Jacobs', 'johnjacobs@bogusemail.com']\n",
      "['Neil', 'Smith', 'neilsmith@bogusemail.com']\n",
      "['Corey', 'Wilks', 'coreywilks@bogusemail.com']\n",
      "['Corey', 'Smith', 'coreysmith@bogusemail.com']\n",
      "['Mary', 'Patterson', 'marypatterson@bogusemail.com']\n",
      "['Jane', 'Stuart', 'janestuart@bogusemail.com']\n",
      "['Travis', 'Arnold', 'travisarnold@bogusemail.com']\n",
      "['John', 'Robinson', 'johnrobinson@bogusemail.com']\n",
      "['Travis', 'Arnold', 'travisarnold@bogusemail.com']\n"
     ]
    }
   ],
   "source": [
    "with open(r'C:\\Users\\Krishna\\data\\python_code\\names.csv') as names:\n",
    "    csv_reader = csv.reader(names)\n",
    "    for line in csv_reader:\n",
    "        print(line)"
   ]
  },
  {
   "cell_type": "code",
   "execution_count": 35,
   "id": "7dc9a690",
   "metadata": {},
   "outputs": [
    {
     "name": "stdout",
     "output_type": "stream",
     "text": [
      "email\n",
      "john-doe@bogusemail.com\n",
      "maryjacobs@bogusemail.com\n",
      "davesmith@bogusemail.com\n",
      "janestuart@bogusemail.com\n",
      "tomwright@bogusemail.com\n",
      "steverobinson@bogusemail.com\n",
      "nicolejacobs@bogusemail.com\n",
      "janewright@bogusemail.com\n",
      "janedoe@bogusemail.com\n",
      "kurtwright@bogusemail.com\n",
      "kurtrobinson@bogusemail.com\n",
      "janejenkins@bogusemail.com\n",
      "neilrobinson@bogusemail.com\n",
      "tompatterson@bogusemail.com\n",
      "samjenkins@bogusemail.com\n",
      "stevestuart@bogusemail.com\n",
      "maggiepatterson@bogusemail.com\n",
      "maggiestuart@bogusemail.com\n",
      "janedoe@bogusemail.com\n",
      "stevepatterson@bogusemail.com\n",
      "davesmith@bogusemail.com\n",
      "samwilks@bogusemail.com\n",
      "kurtjefferson@bogusemail.com\n",
      "samstuart@bogusemail.com\n",
      "janestuart@bogusemail.com\n",
      "davedavis@bogusemail.com\n",
      "sampatterson@bogusemail.com\n",
      "tomjefferson@bogusemail.com\n",
      "janestuart@bogusemail.com\n",
      "maggiejefferson@bogusemail.com\n",
      "marywilks@bogusemail.com\n",
      "neilpatterson@bogusemail.com\n",
      "coreydavis@bogusemail.com\n",
      "stevejacobs@bogusemail.com\n",
      "janejenkins@bogusemail.com\n",
      "johnjacobs@bogusemail.com\n",
      "neilsmith@bogusemail.com\n",
      "coreywilks@bogusemail.com\n",
      "coreysmith@bogusemail.com\n",
      "marypatterson@bogusemail.com\n",
      "janestuart@bogusemail.com\n",
      "travisarnold@bogusemail.com\n",
      "johnrobinson@bogusemail.com\n",
      "travisarnold@bogusemail.com\n"
     ]
    }
   ],
   "source": [
    "with open(r'C:\\Users\\Krishna\\data\\python_code\\names.csv') as names:\n",
    "    csv_reader = csv.reader(names)\n",
    "    for line in csv_reader:\n",
    "        print(line[2])"
   ]
  },
  {
   "cell_type": "code",
   "execution_count": 36,
   "id": "91969d10",
   "metadata": {},
   "outputs": [
    {
     "name": "stdout",
     "output_type": "stream",
     "text": [
      "john-doe@bogusemail.com\n",
      "maryjacobs@bogusemail.com\n",
      "davesmith@bogusemail.com\n",
      "janestuart@bogusemail.com\n",
      "tomwright@bogusemail.com\n",
      "steverobinson@bogusemail.com\n",
      "nicolejacobs@bogusemail.com\n",
      "janewright@bogusemail.com\n",
      "janedoe@bogusemail.com\n",
      "kurtwright@bogusemail.com\n",
      "kurtrobinson@bogusemail.com\n",
      "janejenkins@bogusemail.com\n",
      "neilrobinson@bogusemail.com\n",
      "tompatterson@bogusemail.com\n",
      "samjenkins@bogusemail.com\n",
      "stevestuart@bogusemail.com\n",
      "maggiepatterson@bogusemail.com\n",
      "maggiestuart@bogusemail.com\n",
      "janedoe@bogusemail.com\n",
      "stevepatterson@bogusemail.com\n",
      "davesmith@bogusemail.com\n",
      "samwilks@bogusemail.com\n",
      "kurtjefferson@bogusemail.com\n",
      "samstuart@bogusemail.com\n",
      "janestuart@bogusemail.com\n",
      "davedavis@bogusemail.com\n",
      "sampatterson@bogusemail.com\n",
      "tomjefferson@bogusemail.com\n",
      "janestuart@bogusemail.com\n",
      "maggiejefferson@bogusemail.com\n",
      "marywilks@bogusemail.com\n",
      "neilpatterson@bogusemail.com\n",
      "coreydavis@bogusemail.com\n",
      "stevejacobs@bogusemail.com\n",
      "janejenkins@bogusemail.com\n",
      "johnjacobs@bogusemail.com\n",
      "neilsmith@bogusemail.com\n",
      "coreywilks@bogusemail.com\n",
      "coreysmith@bogusemail.com\n",
      "marypatterson@bogusemail.com\n",
      "janestuart@bogusemail.com\n",
      "travisarnold@bogusemail.com\n",
      "johnrobinson@bogusemail.com\n",
      "travisarnold@bogusemail.com\n"
     ]
    }
   ],
   "source": [
    "with open(r'C:\\Users\\Krishna\\data\\python_code\\names.csv') as names:\n",
    "    csv_reader = csv.reader(names)\n",
    "    next(csv_reader)\n",
    "    for line in csv_reader:\n",
    "        print(line[2])"
   ]
  },
  {
   "cell_type": "code",
   "execution_count": 39,
   "id": "57edd3b7",
   "metadata": {},
   "outputs": [],
   "source": [
    "with open(r'C:\\Users\\Krishna\\data\\python_code\\names.csv') as readf:\n",
    "    csv_reader= csv.reader(readf)\n",
    "    with open(r\"C:\\Users\\Krishna\\data\\python_code\\cp_names.csv\",\"w\") as f:\n",
    "        csv_writer = csv.writer(f)\n",
    "        for line in csv_reader:\n",
    "            csv_writer.writerow(line)\n",
    "    "
   ]
  },
  {
   "cell_type": "code",
   "execution_count": 42,
   "id": "3ded5aa2",
   "metadata": {},
   "outputs": [],
   "source": [
    "with open(r'C:\\Users\\Krishna\\data\\python_code\\names.csv') as readf:\n",
    "    csv_reader= csv.reader(readf)\n",
    "    with open(r\"C:\\Users\\Krishna\\data\\python_code\\cpdash_names.tsv\",\"w\") as f:\n",
    "        csv_writer = csv.writer(f,delimiter=\"\\t\")\n",
    "        for line in csv_reader:\n",
    "            csv_writer.writerow(line)"
   ]
  },
  {
   "cell_type": "code",
   "execution_count": 45,
   "id": "30f2354b",
   "metadata": {},
   "outputs": [
    {
     "name": "stdout",
     "output_type": "stream",
     "text": [
      "['first_name', 'last_name', 'email']\n",
      "['John', 'Doe', 'john-doe@bogusemail.com']\n",
      "['Mary', 'Smith-Robinson', 'maryjacobs@bogusemail.com']\n",
      "['Dave', 'Smith', 'davesmith@bogusemail.com']\n",
      "['Jane', 'Stuart', 'janestuart@bogusemail.com']\n",
      "['Tom', 'Wright', 'tomwright@bogusemail.com']\n",
      "['Steve', 'Robinson', 'steverobinson@bogusemail.com']\n",
      "['Nicole', 'Jacobs', 'nicolejacobs@bogusemail.com']\n",
      "['Jane', 'Wright', 'janewright@bogusemail.com']\n",
      "['Jane', 'Doe', 'janedoe@bogusemail.com']\n",
      "['Kurt', 'Wright', 'kurtwright@bogusemail.com']\n",
      "['Kurt', 'Robinson', 'kurtrobinson@bogusemail.com']\n",
      "['Jane', 'Jenkins', 'janejenkins@bogusemail.com']\n",
      "['Neil', 'Robinson', 'neilrobinson@bogusemail.com']\n",
      "['Tom', 'Patterson', 'tompatterson@bogusemail.com']\n",
      "['Sam', 'Jenkins', 'samjenkins@bogusemail.com']\n",
      "['Steve', 'Stuart', 'stevestuart@bogusemail.com']\n",
      "['Maggie', 'Patterson', 'maggiepatterson@bogusemail.com']\n",
      "['Maggie', 'Stuart', 'maggiestuart@bogusemail.com']\n",
      "['Jane', 'Doe', 'janedoe@bogusemail.com']\n",
      "['Steve', 'Patterson', 'stevepatterson@bogusemail.com']\n",
      "['Dave', 'Smith', 'davesmith@bogusemail.com']\n",
      "['Sam', 'Wilks', 'samwilks@bogusemail.com']\n",
      "['Kurt', 'Jefferson', 'kurtjefferson@bogusemail.com']\n",
      "['Sam', 'Stuart', 'samstuart@bogusemail.com']\n",
      "['Jane', 'Stuart', 'janestuart@bogusemail.com']\n",
      "['Dave', 'Davis', 'davedavis@bogusemail.com']\n",
      "['Sam', 'Patterson', 'sampatterson@bogusemail.com']\n",
      "['Tom', 'Jefferson', 'tomjefferson@bogusemail.com']\n",
      "['Jane', 'Stuart', 'janestuart@bogusemail.com']\n",
      "['Maggie', 'Jefferson', 'maggiejefferson@bogusemail.com']\n",
      "['Mary', 'Wilks', 'marywilks@bogusemail.com']\n",
      "['Neil', 'Patterson', 'neilpatterson@bogusemail.com']\n",
      "['Corey', 'Davis', 'coreydavis@bogusemail.com']\n",
      "['Steve', 'Jacobs', 'stevejacobs@bogusemail.com']\n",
      "['Jane', 'Jenkins', 'janejenkins@bogusemail.com']\n",
      "['John', 'Jacobs', 'johnjacobs@bogusemail.com']\n",
      "['Neil', 'Smith', 'neilsmith@bogusemail.com']\n",
      "['Corey', 'Wilks', 'coreywilks@bogusemail.com']\n",
      "['Corey', 'Smith', 'coreysmith@bogusemail.com']\n",
      "['Mary', 'Patterson', 'marypatterson@bogusemail.com']\n",
      "['Jane', 'Stuart', 'janestuart@bogusemail.com']\n",
      "['Travis', 'Arnold', 'travisarnold@bogusemail.com']\n",
      "['John', 'Robinson', 'johnrobinson@bogusemail.com']\n",
      "['Travis', 'Arnold', 'travisarnold@bogusemail.com']\n"
     ]
    }
   ],
   "source": [
    " with open(r\"C:\\Users\\Krishna\\data\\python_code\\cpdash_names.tsv\",\"r\") as f:\n",
    "        csv_reader = csv.reader(f,delimiter='\\t')\n",
    "        for line in csv_reader:\n",
    "            print(line)"
   ]
  },
  {
   "cell_type": "code",
   "execution_count": 52,
   "id": "e7247312",
   "metadata": {},
   "outputs": [
    {
     "name": "stdout",
     "output_type": "stream",
     "text": [
      "john-doe@bogusemail.com \t John\n",
      "maryjacobs@bogusemail.com \t Mary\n",
      "davesmith@bogusemail.com \t Dave\n",
      "janestuart@bogusemail.com \t Jane\n",
      "tomwright@bogusemail.com \t Tom\n",
      "steverobinson@bogusemail.com \t Steve\n",
      "nicolejacobs@bogusemail.com \t Nicole\n",
      "janewright@bogusemail.com \t Jane\n",
      "janedoe@bogusemail.com \t Jane\n",
      "kurtwright@bogusemail.com \t Kurt\n",
      "kurtrobinson@bogusemail.com \t Kurt\n",
      "janejenkins@bogusemail.com \t Jane\n",
      "neilrobinson@bogusemail.com \t Neil\n",
      "tompatterson@bogusemail.com \t Tom\n",
      "samjenkins@bogusemail.com \t Sam\n",
      "stevestuart@bogusemail.com \t Steve\n",
      "maggiepatterson@bogusemail.com \t Maggie\n",
      "maggiestuart@bogusemail.com \t Maggie\n",
      "janedoe@bogusemail.com \t Jane\n",
      "stevepatterson@bogusemail.com \t Steve\n",
      "davesmith@bogusemail.com \t Dave\n",
      "samwilks@bogusemail.com \t Sam\n",
      "kurtjefferson@bogusemail.com \t Kurt\n",
      "samstuart@bogusemail.com \t Sam\n",
      "janestuart@bogusemail.com \t Jane\n",
      "davedavis@bogusemail.com \t Dave\n",
      "sampatterson@bogusemail.com \t Sam\n",
      "tomjefferson@bogusemail.com \t Tom\n",
      "janestuart@bogusemail.com \t Jane\n",
      "maggiejefferson@bogusemail.com \t Maggie\n",
      "marywilks@bogusemail.com \t Mary\n",
      "neilpatterson@bogusemail.com \t Neil\n",
      "coreydavis@bogusemail.com \t Corey\n",
      "stevejacobs@bogusemail.com \t Steve\n",
      "janejenkins@bogusemail.com \t Jane\n",
      "johnjacobs@bogusemail.com \t John\n",
      "neilsmith@bogusemail.com \t Neil\n",
      "coreywilks@bogusemail.com \t Corey\n",
      "coreysmith@bogusemail.com \t Corey\n",
      "marypatterson@bogusemail.com \t Mary\n",
      "janestuart@bogusemail.com \t Jane\n",
      "travisarnold@bogusemail.com \t Travis\n",
      "johnrobinson@bogusemail.com \t John\n",
      "travisarnold@bogusemail.com \t Travis\n"
     ]
    }
   ],
   "source": [
    "with open(r'C:\\Users\\Krishna\\data\\python_code\\names.csv') as readf:\n",
    "    csv_reader = csv.DictReader(readf)\n",
    "    for line in csv_reader:\n",
    "        print(line['email'],\"\\t\",line['first_name'])"
   ]
  },
  {
   "cell_type": "code",
   "execution_count": 53,
   "id": "fea73f6f",
   "metadata": {},
   "outputs": [],
   "source": [
    "import json"
   ]
  },
  {
   "cell_type": "code",
   "execution_count": 61,
   "id": "dfe1def4",
   "metadata": {},
   "outputs": [],
   "source": [
    "people_string ='''\n",
    "{\n",
    "\"people\":[\n",
    "{\n",
    "\"name\" : \"John Smith\",\n",
    "\"phone\":\"123-456-789\",\n",
    "\"emails\":[\"neilpatterson@bogusemail.com\",\"johnrobinson@bogusemail.com\"],\n",
    "\"has_license\":false\n",
    "},\n",
    "{\n",
    "\"name\":\"Ram Kumar\",\n",
    "\"phone\":\"456-789-123\",\n",
    "\"emails\":null,\n",
    "\"has_license\":true\n",
    "}\n",
    "]\n",
    "}\n",
    "'''"
   ]
  },
  {
   "cell_type": "code",
   "execution_count": 62,
   "id": "104af83f",
   "metadata": {},
   "outputs": [],
   "source": [
    "data = json.loads(people_string)"
   ]
  },
  {
   "cell_type": "code",
   "execution_count": 63,
   "id": "5d72c920",
   "metadata": {},
   "outputs": [
    {
     "name": "stdout",
     "output_type": "stream",
     "text": [
      "{'people': [{'name': 'John Smith', 'phone': '123-456-789', 'emails': ['neilpatterson@bogusemail.com', 'johnrobinson@bogusemail.com'], 'has_license': False}, {'name': 'Ram Kumar', 'phone': '456-789-123', 'emails': None, 'has_license': True}]}\n"
     ]
    }
   ],
   "source": [
    "print(data)"
   ]
  },
  {
   "cell_type": "code",
   "execution_count": 60,
   "id": "7af7a6bf",
   "metadata": {},
   "outputs": [
    {
     "data": {
      "text/plain": [
       "dict"
      ]
     },
     "execution_count": 60,
     "metadata": {},
     "output_type": "execute_result"
    }
   ],
   "source": [
    "type(data)"
   ]
  },
  {
   "cell_type": "code",
   "execution_count": 65,
   "id": "f5c119aa",
   "metadata": {},
   "outputs": [
    {
     "data": {
      "text/plain": [
       "[{'name': 'John Smith',\n",
       "  'phone': '123-456-789',\n",
       "  'emails': ['neilpatterson@bogusemail.com', 'johnrobinson@bogusemail.com'],\n",
       "  'has_license': False},\n",
       " {'name': 'Ram Kumar',\n",
       "  'phone': '456-789-123',\n",
       "  'emails': None,\n",
       "  'has_license': True}]"
      ]
     },
     "execution_count": 65,
     "metadata": {},
     "output_type": "execute_result"
    }
   ],
   "source": [
    "data[\"people\"]"
   ]
  },
  {
   "cell_type": "code",
   "execution_count": 67,
   "id": "eecba230",
   "metadata": {},
   "outputs": [
    {
     "name": "stdout",
     "output_type": "stream",
     "text": [
      "John Smith\n",
      "Ram Kumar\n"
     ]
    }
   ],
   "source": [
    "for per in data['people']:\n",
    "    print(per['name'])"
   ]
  },
  {
   "cell_type": "code",
   "execution_count": 69,
   "id": "f0fd42b0",
   "metadata": {},
   "outputs": [],
   "source": [
    "for p in data['people']:\n",
    "    del p['emails']"
   ]
  },
  {
   "cell_type": "code",
   "execution_count": 70,
   "id": "d9a4c3ab",
   "metadata": {},
   "outputs": [],
   "source": [
    "//json to string\n",
    "new_str= json.dumps(data)"
   ]
  },
  {
   "cell_type": "code",
   "execution_count": 71,
   "id": "3f50de4e",
   "metadata": {},
   "outputs": [
    {
     "data": {
      "text/plain": [
       "'{\"people\": [{\"name\": \"John Smith\", \"phone\": \"123-456-789\", \"has_license\": false}, {\"name\": \"Ram Kumar\", \"phone\": \"456-789-123\", \"has_license\": true}]}'"
      ]
     },
     "execution_count": 71,
     "metadata": {},
     "output_type": "execute_result"
    }
   ],
   "source": [
    "new_str"
   ]
  },
  {
   "cell_type": "code",
   "execution_count": 72,
   "id": "98a17197",
   "metadata": {},
   "outputs": [
    {
     "name": "stdout",
     "output_type": "stream",
     "text": [
      "{\n",
      "  \"people\": [\n",
      "    {\n",
      "      \"name\": \"John Smith\",\n",
      "      \"phone\": \"123-456-789\",\n",
      "      \"has_license\": false\n",
      "    },\n",
      "    {\n",
      "      \"name\": \"Ram Kumar\",\n",
      "      \"phone\": \"456-789-123\",\n",
      "      \"has_license\": true\n",
      "    }\n",
      "  ]\n",
      "}\n"
     ]
    }
   ],
   "source": [
    "new_str1 = json.dumps(data,indent=2)\n",
    "print(new_str1)"
   ]
  },
  {
   "cell_type": "code",
   "execution_count": 74,
   "id": "7223246a",
   "metadata": {},
   "outputs": [
    {
     "name": "stdout",
     "output_type": "stream",
     "text": [
      "{'name': 'Alabama', 'abbreviation': 'AL', 'area_codes': ['205', '251', '256', '334', '938']}\n",
      "{'name': 'Alaska', 'abbreviation': 'AK', 'area_codes': ['907']}\n",
      "{'name': 'Arizona', 'abbreviation': 'AZ', 'area_codes': ['480', '520', '602', '623', '928']}\n",
      "{'name': 'Arkansas', 'abbreviation': 'AR', 'area_codes': ['479', '501', '870']}\n",
      "{'name': 'California', 'abbreviation': 'CA', 'area_codes': ['209', '213', '310', '323', '408', '415', '424', '442', '510', '530', '559', '562', '619', '626', '628', '650', '657', '661', '669', '707', '714', '747', '760', '805', '818', '831', '858', '909', '916', '925', '949', '951']}\n",
      "{'name': 'Colorado', 'abbreviation': 'CO', 'area_codes': ['303', '719', '720', '970']}\n",
      "{'name': 'Connecticut', 'abbreviation': 'CT', 'area_codes': ['203', '475', '860', '959']}\n",
      "{'name': 'Delaware', 'abbreviation': 'DE', 'area_codes': ['302']}\n",
      "{'name': 'Florida', 'abbreviation': 'FL', 'area_codes': ['239', '305', '321', '352', '386', '407', '561', '727', '754', '772', '786', '813', '850', '863', '904', '941', '954']}\n",
      "{'name': 'Georgia', 'abbreviation': 'GA', 'area_codes': ['229', '404', '470', '478', '678', '706', '762', '770', '912']}\n",
      "{'name': 'Hawaii', 'abbreviation': 'HI', 'area_codes': ['808']}\n",
      "{'name': 'Idaho', 'abbreviation': 'ID', 'area_codes': ['208']}\n",
      "{'name': 'Illinois', 'abbreviation': 'IL', 'area_codes': ['217', '224', '309', '312', '331', '618', '630', '708', '773', '779', '815', '847', '872']}\n",
      "{'name': 'Indiana', 'abbreviation': 'IN', 'area_codes': ['219', '260', '317', '463', '574', '765', '812', '930']}\n",
      "{'name': 'Iowa', 'abbreviation': 'IA', 'area_codes': ['319', '515', '563', '641', '712']}\n",
      "{'name': 'Kansas', 'abbreviation': 'KS', 'area_codes': ['316', '620', '785', '913']}\n",
      "{'name': 'Kentucky', 'abbreviation': 'KY', 'area_codes': ['270', '364', '502', '606', '859']}\n",
      "{'name': 'Louisiana', 'abbreviation': 'LA', 'area_codes': ['225', '318', '337', '504', '985']}\n",
      "{'name': 'Maine', 'abbreviation': 'ME', 'area_codes': ['207']}\n",
      "{'name': 'Maryland', 'abbreviation': 'MD', 'area_codes': ['240', '301', '410', '443', '667']}\n",
      "{'name': 'Massachusetts', 'abbreviation': 'MA', 'area_codes': ['339', '351', '413', '508', '617', '774', '781', '857', '978']}\n",
      "{'name': 'Michigan', 'abbreviation': 'MI', 'area_codes': ['231', '248', '269', '313', '517', '586', '616', '734', '810', '906', '947', '989']}\n",
      "{'name': 'Minnesota', 'abbreviation': 'MN', 'area_codes': ['218', '320', '507', '612', '651', '763', '952']}\n",
      "{'name': 'Mississippi', 'abbreviation': 'MS', 'area_codes': ['228', '601', '662', '769']}\n",
      "{'name': 'Missouri', 'abbreviation': 'MO', 'area_codes': ['314', '417', '573', '636', '660', '816']}\n",
      "{'name': 'Montana', 'abbreviation': 'MT', 'area_codes': ['406']}\n",
      "{'name': 'Nebraska', 'abbreviation': 'NE', 'area_codes': ['308', '402', '531']}\n",
      "{'name': 'Nevada', 'abbreviation': 'NV', 'area_codes': ['702', '725', '775']}\n",
      "{'name': 'New Hampshire', 'abbreviation': 'NH', 'area_codes': ['603']}\n",
      "{'name': 'New Jersey', 'abbreviation': 'NJ', 'area_codes': ['201', '551', '609', '732', '848', '856', '862', '908', '973']}\n",
      "{'name': 'New Mexico', 'abbreviation': 'NM', 'area_codes': ['505', '575']}\n",
      "{'name': 'New York', 'abbreviation': 'NY', 'area_codes': ['212', '315', '332', '347', '516', '518', '585', '607', '631', '646', '680', '716', '718', '845', '914', '917', '929', '934']}\n",
      "{'name': 'North Carolina', 'abbreviation': 'NC', 'area_codes': ['252', '336', '704', '743', '828', '910', '919', '980', '984']}\n",
      "{'name': 'North Dakota', 'abbreviation': 'ND', 'area_codes': ['701']}\n",
      "{'name': 'Ohio', 'abbreviation': 'OH', 'area_codes': ['216', '220', '234', '330', '380', '419', '440', '513', '567', '614', '740', '937']}\n",
      "{'name': 'Oklahoma', 'abbreviation': 'OK', 'area_codes': ['405', '539', '580', '918']}\n",
      "{'name': 'Oregon', 'abbreviation': 'OR', 'area_codes': ['458', '503', '541', '971']}\n",
      "{'name': 'Pennsylvania', 'abbreviation': 'PA', 'area_codes': ['215', '267', '272', '412', '484', '570', '610', '717', '724', '814', '878']}\n",
      "{'name': 'Rhode Island', 'abbreviation': 'RI', 'area_codes': ['401']}\n",
      "{'name': 'South Carolina', 'abbreviation': 'SC', 'area_codes': ['803', '843', '854', '864']}\n",
      "{'name': 'South Dakota', 'abbreviation': 'SD', 'area_codes': ['605']}\n",
      "{'name': 'Tennessee', 'abbreviation': 'TN', 'area_codes': ['423', '615', '629', '731', '865', '901', '931']}\n",
      "{'name': 'Texas', 'abbreviation': 'TX', 'area_codes': ['210', '214', '254', '281', '325', '346', '361', '409', '430', '432', '469', '512', '682', '713', '737', '806', '817', '830', '832', '903', '915', '936', '940', '956', '972', '979']}\n",
      "{'name': 'Utah', 'abbreviation': 'UT', 'area_codes': ['385', '435', '801']}\n",
      "{'name': 'Vermont', 'abbreviation': 'VT', 'area_codes': ['802']}\n",
      "{'name': 'Virginia', 'abbreviation': 'VA', 'area_codes': ['276', '434', '540', '571', '703', '757', '804']}\n",
      "{'name': 'Washington', 'abbreviation': 'WA', 'area_codes': ['206', '253', '360', '425', '509']}\n",
      "{'name': 'West Virginia', 'abbreviation': 'WV', 'area_codes': ['304', '681']}\n",
      "{'name': 'Wisconsin', 'abbreviation': 'WI', 'area_codes': ['262', '414', '534', '608', '715', '920']}\n",
      "{'name': 'Wyoming', 'abbreviation': 'WY', 'area_codes': ['307']}\n"
     ]
    }
   ],
   "source": [
    "with open(r'C:\\Users\\Krishna\\data\\python_code\\states.json') as f:\n",
    "    datastates = json.load(f)\n",
    "    for state in datastates['states']:\n",
    "        print(state)"
   ]
  },
  {
   "cell_type": "code",
   "execution_count": 76,
   "id": "6e8caa7b",
   "metadata": {},
   "outputs": [
    {
     "name": "stdout",
     "output_type": "stream",
     "text": [
      "Alabama AL\n",
      "Alaska AK\n",
      "Arizona AZ\n",
      "Arkansas AR\n",
      "California CA\n",
      "Colorado CO\n",
      "Connecticut CT\n",
      "Delaware DE\n",
      "Florida FL\n",
      "Georgia GA\n",
      "Hawaii HI\n",
      "Idaho ID\n",
      "Illinois IL\n",
      "Indiana IN\n",
      "Iowa IA\n",
      "Kansas KS\n",
      "Kentucky KY\n",
      "Louisiana LA\n",
      "Maine ME\n",
      "Maryland MD\n",
      "Massachusetts MA\n",
      "Michigan MI\n",
      "Minnesota MN\n",
      "Mississippi MS\n",
      "Missouri MO\n",
      "Montana MT\n",
      "Nebraska NE\n",
      "Nevada NV\n",
      "New Hampshire NH\n",
      "New Jersey NJ\n",
      "New Mexico NM\n",
      "New York NY\n",
      "North Carolina NC\n",
      "North Dakota ND\n",
      "Ohio OH\n",
      "Oklahoma OK\n",
      "Oregon OR\n",
      "Pennsylvania PA\n",
      "Rhode Island RI\n",
      "South Carolina SC\n",
      "South Dakota SD\n",
      "Tennessee TN\n",
      "Texas TX\n",
      "Utah UT\n",
      "Vermont VT\n",
      "Virginia VA\n",
      "Washington WA\n",
      "West Virginia WV\n",
      "Wisconsin WI\n",
      "Wyoming WY\n"
     ]
    }
   ],
   "source": [
    "with open(r'C:\\Users\\Krishna\\data\\python_code\\states.json') as f:\n",
    "    datastates = json.load(f)\n",
    "    for state in datastates['states']:\n",
    "        print(state['name'],state['abbreviation'])"
   ]
  },
  {
   "cell_type": "code",
   "execution_count": 78,
   "id": "3aa94dda",
   "metadata": {},
   "outputs": [],
   "source": [
    "with open(r'C:\\Users\\Krishna\\data\\python_code\\states.json') as f:\n",
    "    datastates = json.load(f)\n",
    "    for state in datastates['states']:\n",
    "        del state['area_codes']\n",
    "\n"
   ]
  },
  {
   "cell_type": "code",
   "execution_count": 81,
   "id": "2e45ddea",
   "metadata": {},
   "outputs": [],
   "source": [
    "with open(r'C:\\Users\\Krishna\\data\\python_code\\cp_states.json','w') as f:\n",
    "    json.dump(datastates,f,indent=2)"
   ]
  },
  {
   "cell_type": "code",
   "execution_count": null,
   "id": "ea6569d5",
   "metadata": {},
   "outputs": [],
   "source": []
  }
 ],
 "metadata": {
  "kernelspec": {
   "display_name": "Python 3 (ipykernel)",
   "language": "python",
   "name": "python3"
  },
  "language_info": {
   "codemirror_mode": {
    "name": "ipython",
    "version": 3
   },
   "file_extension": ".py",
   "mimetype": "text/x-python",
   "name": "python",
   "nbconvert_exporter": "python",
   "pygments_lexer": "ipython3",
   "version": "3.9.13"
  }
 },
 "nbformat": 4,
 "nbformat_minor": 5
}
