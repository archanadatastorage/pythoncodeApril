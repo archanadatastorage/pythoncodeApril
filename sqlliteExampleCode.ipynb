{
 "cells": [
  {
   "cell_type": "code",
   "execution_count": 1,
   "id": "817f6a5e",
   "metadata": {},
   "outputs": [],
   "source": [
    "import sqlite3"
   ]
  },
  {
   "cell_type": "code",
   "execution_count": 2,
   "id": "d308a29b",
   "metadata": {},
   "outputs": [],
   "source": [
    "conn = sqlite3.connect('employee.db')"
   ]
  },
  {
   "cell_type": "code",
   "execution_count": 3,
   "id": "2c28ae78",
   "metadata": {},
   "outputs": [],
   "source": [
    "c = conn.cursor()"
   ]
  },
  {
   "cell_type": "code",
   "execution_count": 4,
   "id": "754ed892",
   "metadata": {},
   "outputs": [
    {
     "data": {
      "text/plain": [
       "sqlite3.Cursor"
      ]
     },
     "execution_count": 4,
     "metadata": {},
     "output_type": "execute_result"
    }
   ],
   "source": [
    "type(c)"
   ]
  },
  {
   "cell_type": "code",
   "execution_count": 5,
   "id": "2ea604b1",
   "metadata": {},
   "outputs": [
    {
     "data": {
      "text/plain": [
       "<sqlite3.Cursor at 0x2e61e8a9d50>"
      ]
     },
     "execution_count": 5,
     "metadata": {},
     "output_type": "execute_result"
    }
   ],
   "source": [
    "c"
   ]
  },
  {
   "cell_type": "code",
   "execution_count": 6,
   "id": "d0611e77",
   "metadata": {},
   "outputs": [
    {
     "ename": "OperationalError",
     "evalue": "table employee already exists",
     "output_type": "error",
     "traceback": [
      "\u001b[1;31m---------------------------------------------------------------------------\u001b[0m",
      "\u001b[1;31mOperationalError\u001b[0m                          Traceback (most recent call last)",
      "\u001b[1;32m~\\AppData\\Local\\Temp\\ipykernel_29148\\1674512279.py\u001b[0m in \u001b[0;36m<module>\u001b[1;34m\u001b[0m\n\u001b[0;32m      1\u001b[0m \u001b[1;31m#create a table\u001b[0m\u001b[1;33m\u001b[0m\u001b[1;33m\u001b[0m\u001b[0m\n\u001b[1;32m----> 2\u001b[1;33m c.execute(\"\"\" CREATE TABLE employee(\n\u001b[0m\u001b[0;32m      3\u001b[0m \u001b[0mfirst\u001b[0m \u001b[0mtext\u001b[0m\u001b[1;33m,\u001b[0m\u001b[1;33m\u001b[0m\u001b[1;33m\u001b[0m\u001b[0m\n\u001b[0;32m      4\u001b[0m \u001b[0mlast\u001b[0m \u001b[0mtext\u001b[0m\u001b[1;33m,\u001b[0m\u001b[1;33m\u001b[0m\u001b[1;33m\u001b[0m\u001b[0m\n\u001b[0;32m      5\u001b[0m \u001b[0mpay\u001b[0m \u001b[0minteger\u001b[0m\u001b[1;33m\u001b[0m\u001b[1;33m\u001b[0m\u001b[0m\n",
      "\u001b[1;31mOperationalError\u001b[0m: table employee already exists"
     ]
    }
   ],
   "source": [
    "#create a table\n",
    "c.execute(\"\"\" CREATE TABLE employee(\n",
    "first text,\n",
    "last text,\n",
    "pay integer\n",
    ")\"\"\")"
   ]
  },
  {
   "cell_type": "code",
   "execution_count": null,
   "id": "725f0ab6",
   "metadata": {},
   "outputs": [],
   "source": [
    "conn.commit()"
   ]
  },
  {
   "cell_type": "code",
   "execution_count": null,
   "id": "2c0d5fdb",
   "metadata": {},
   "outputs": [],
   "source": [
    "#c.execute(\"INSERT INTO  employee VALUES('Ram','Kumar',89000)\")\n",
    "c.execute(\"INSERT INTO  employee VALUES('Laxman','Kumar',80000)\")"
   ]
  },
  {
   "cell_type": "code",
   "execution_count": null,
   "id": "f9a900e1",
   "metadata": {},
   "outputs": [],
   "source": [
    "c.execute(\"SELECT * FROM employee where last='Kumar'\")\n",
    "print(c.fetchmany(3))"
   ]
  },
  {
   "cell_type": "code",
   "execution_count": null,
   "id": "9516c593",
   "metadata": {},
   "outputs": [],
   "source": [
    "c.execute(\"UPDATE employee set pay=85000 WHERE first='Laxman'\")"
   ]
  },
  {
   "cell_type": "code",
   "execution_count": null,
   "id": "c4f40940",
   "metadata": {},
   "outputs": [],
   "source": [
    "c.execute(\"SELECT * FROM employee where last='Kumar'\")\n",
    "print(c.fetchmany(3))"
   ]
  },
  {
   "cell_type": "code",
   "execution_count": null,
   "id": "bc7a6b68",
   "metadata": {},
   "outputs": [],
   "source": [
    "c.execute(\"DELETE FROM employee where first='Ram'\")"
   ]
  },
  {
   "cell_type": "code",
   "execution_count": 7,
   "id": "dca7d5f4",
   "metadata": {},
   "outputs": [
    {
     "name": "stdout",
     "output_type": "stream",
     "text": [
      "[('Laxman', 'Kumar', 85000)]\n"
     ]
    }
   ],
   "source": [
    "c.execute(\"SELECT * FROM employee where last='Kumar'\")\n",
    "print(c.fetchmany(3))"
   ]
  },
  {
   "cell_type": "code",
   "execution_count": null,
   "id": "fbd049bc",
   "metadata": {},
   "outputs": [],
   "source": [
    "conn.commit()\n"
   ]
  },
  {
   "cell_type": "code",
   "execution_count": null,
   "id": "1d8f3c9c",
   "metadata": {},
   "outputs": [],
   "source": [
    "conn.close()"
   ]
  },
  {
   "cell_type": "code",
   "execution_count": null,
   "id": "ff3b394e",
   "metadata": {},
   "outputs": [],
   "source": []
  }
 ],
 "metadata": {
  "kernelspec": {
   "display_name": "Python 3 (ipykernel)",
   "language": "python",
   "name": "python3"
  },
  "language_info": {
   "codemirror_mode": {
    "name": "ipython",
    "version": 3
   },
   "file_extension": ".py",
   "mimetype": "text/x-python",
   "name": "python",
   "nbconvert_exporter": "python",
   "pygments_lexer": "ipython3",
   "version": "3.9.13"
  }
 },
 "nbformat": 4,
 "nbformat_minor": 5
}
