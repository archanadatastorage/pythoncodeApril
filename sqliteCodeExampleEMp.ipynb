{
 "cells": [
  {
   "cell_type": "code",
   "execution_count": 1,
   "id": "779f2eec",
   "metadata": {},
   "outputs": [],
   "source": [
    "class Employee:\n",
    "    def __init__(self,first,last,pay):\n",
    "        self.first=first\n",
    "        self.last=last\n",
    "        self.pay=pay\n",
    "    \n",
    "    @property\n",
    "    def email(self):\n",
    "        return '{}.{}@gmail.com'.format(sel.first,self.last)\n",
    "    \n",
    "    @property\n",
    "    def firstname(self):\n",
    "        return '{} {}'.format(self.first,self.last)\n",
    "    \n",
    "    def __repr__(self):\n",
    "        return \"Employee('{}','{}',{})\".format(self.first,self.last,self.pay)\n"
   ]
  },
  {
   "cell_type": "code",
   "execution_count": 2,
   "id": "47fccce1",
   "metadata": {},
   "outputs": [],
   "source": [
    "import sqlite3"
   ]
  },
  {
   "cell_type": "code",
   "execution_count": 3,
   "id": "7b75914d",
   "metadata": {},
   "outputs": [],
   "source": [
    "conn = sqlite3.connect(\"employee.db\")"
   ]
  },
  {
   "cell_type": "code",
   "execution_count": 4,
   "id": "24950ec7",
   "metadata": {},
   "outputs": [],
   "source": [
    "emp1 = Employee('John','Smith',80000)\n",
    "emp2= Employee(\"Mary\",\"Smith\",90000)"
   ]
  },
  {
   "cell_type": "code",
   "execution_count": 11,
   "id": "b1da088a",
   "metadata": {},
   "outputs": [],
   "source": [
    "emp3 = Employee('Sia','Sharma',90200)"
   ]
  },
  {
   "cell_type": "code",
   "execution_count": 13,
   "id": "77ba0a0f",
   "metadata": {},
   "outputs": [],
   "source": [
    "emp4= Employee('Radha','Rani',78000)"
   ]
  },
  {
   "cell_type": "code",
   "execution_count": 5,
   "id": "522de995",
   "metadata": {},
   "outputs": [],
   "source": [
    "c= conn.cursor()"
   ]
  },
  {
   "cell_type": "code",
   "execution_count": 8,
   "id": "b30a2ea7",
   "metadata": {},
   "outputs": [
    {
     "data": {
      "text/plain": [
       "<sqlite3.Cursor at 0x2b6a1ad9b20>"
      ]
     },
     "execution_count": 8,
     "metadata": {},
     "output_type": "execute_result"
    }
   ],
   "source": [
    "#Syntax1 : insert a row suing format string\n",
    "c.execute(\"INSERT INTO employee VALUES('{}','{}',{})\".format(emp1.first,emp1.last,emp1.pay))"
   ]
  },
  {
   "cell_type": "code",
   "execution_count": 10,
   "id": "aa4c66c8",
   "metadata": {},
   "outputs": [
    {
     "data": {
      "text/plain": [
       "<sqlite3.Cursor at 0x2b6a1ad9b20>"
      ]
     },
     "execution_count": 10,
     "metadata": {},
     "output_type": "execute_result"
    }
   ],
   "source": [
    "#Syntax2 : insert a row using tuple\n",
    "c.execute(\"INSERT INTO employee VALUES(?,?,?)\",(emp2.first,emp2.last,emp2.pay))"
   ]
  },
  {
   "cell_type": "code",
   "execution_count": 12,
   "id": "9d8b3fc6",
   "metadata": {},
   "outputs": [
    {
     "data": {
      "text/plain": [
       "<sqlite3.Cursor at 0x2b6a1ad9b20>"
      ]
     },
     "execution_count": 12,
     "metadata": {},
     "output_type": "execute_result"
    }
   ],
   "source": [
    "#Syntax3 : insert a row using dictionary\n",
    "c.execute(\"INSERT INTO employee VALUES(:first,:last,:pay)\",{'first':emp3.first,'last':emp3.last,'pay':emp3.pay})"
   ]
  },
  {
   "cell_type": "code",
   "execution_count": 14,
   "id": "016a4a7c",
   "metadata": {},
   "outputs": [
    {
     "data": {
      "text/plain": [
       "<sqlite3.Cursor at 0x2b6a1ad9b20>"
      ]
     },
     "execution_count": 14,
     "metadata": {},
     "output_type": "execute_result"
    }
   ],
   "source": [
    "#Syntax3 : insert a row using dictionary\n",
    "c.execute(\"INSERT INTO employee VALUES(:fname,:lname,:sal)\",{'fname':emp4.first,'lname':emp4.last,'sal':emp4.pay})"
   ]
  },
  {
   "cell_type": "code",
   "execution_count": 15,
   "id": "2937794a",
   "metadata": {},
   "outputs": [],
   "source": [
    "conn.commit()"
   ]
  },
  {
   "cell_type": "code",
   "execution_count": 16,
   "id": "195e4615",
   "metadata": {},
   "outputs": [
    {
     "name": "stdout",
     "output_type": "stream",
     "text": [
      "[('Laxman', 'Kumar', 85000), ('John', 'Smith', 80000), ('Mary', 'Smith', 90000), ('Sia', 'Sharma', 90200), ('Radha', 'Rani', 78000)]\n"
     ]
    }
   ],
   "source": [
    "c.execute(\"SELECT * FROM  employee\")\n",
    "print(c.fetchall())"
   ]
  },
  {
   "cell_type": "code",
   "execution_count": 17,
   "id": "85251918",
   "metadata": {},
   "outputs": [
    {
     "name": "stdout",
     "output_type": "stream",
     "text": [
      "[('John', 'Smith', 80000), ('Mary', 'Smith', 90000)]\n"
     ]
    }
   ],
   "source": [
    "c.execute(\"SELECT * FROM  employee WHERE last='Smith'\")\n",
    "print(c.fetchall())"
   ]
  },
  {
   "cell_type": "code",
   "execution_count": 18,
   "id": "ce79b49b",
   "metadata": {},
   "outputs": [
    {
     "name": "stdout",
     "output_type": "stream",
     "text": [
      "[('John', 'Smith', 80000), ('Mary', 'Smith', 90000)]\n"
     ]
    }
   ],
   "source": [
    "c.execute(\"SELECT * FROM  employee WHERE last=?\",('Smith',))\n",
    "print(c.fetchall())"
   ]
  },
  {
   "cell_type": "code",
   "execution_count": 19,
   "id": "a3752a4d",
   "metadata": {},
   "outputs": [
    {
     "name": "stdout",
     "output_type": "stream",
     "text": [
      "[('Laxman', 'Kumar', 85000), ('Mary', 'Smith', 90000), ('Sia', 'Sharma', 90200)]\n"
     ]
    }
   ],
   "source": [
    "c.execute(\"SELECT * FROM  employee WHERE pay>?\",(80000,))\n",
    "print(c.fetchall())"
   ]
  },
  {
   "cell_type": "code",
   "execution_count": 20,
   "id": "cf1ec7d7",
   "metadata": {},
   "outputs": [
    {
     "name": "stdout",
     "output_type": "stream",
     "text": [
      "[('Radha', 'Rani', 78000)]\n"
     ]
    }
   ],
   "source": [
    "c.execute(\"SELECT * FROM  employee WHERE last=:lname\",{'lname':'Rani'})\n",
    "print(c.fetchall())"
   ]
  },
  {
   "cell_type": "code",
   "execution_count": 21,
   "id": "0bbe3326",
   "metadata": {},
   "outputs": [],
   "source": [
    "def insert_emp(emp):\n",
    "    with conn:\n",
    "        c.execute(\"INSERT INTO employee VALUES(:fname,:lname,:sal)\",{'fname':emp.first,'lname':emp.last,'sal':emp.pay})"
   ]
  },
  {
   "cell_type": "code",
   "execution_count": 29,
   "id": "f8d33bfb",
   "metadata": {},
   "outputs": [],
   "source": [
    "def get_emps_by_name(lname):\n",
    "    with conn:\n",
    "        c.execute(\"SELECT * FROM  employee WHERE last=:lname\",{'lname':lname})\n",
    "        return c.fetchall()\n",
    "        "
   ]
  },
  {
   "cell_type": "code",
   "execution_count": 42,
   "id": "31a45577",
   "metadata": {},
   "outputs": [],
   "source": [
    "def update_pay(emp,pay):\n",
    "    with conn:\n",
    "        c.execute(\"\"\" UPDATE employee SET pay=:pay \n",
    "        WHERE first=:first AND last=:last\"\"\",{'first':emp.first,'last':emp.last,'pay':pay})"
   ]
  },
  {
   "cell_type": "code",
   "execution_count": 25,
   "id": "af2121ac",
   "metadata": {},
   "outputs": [],
   "source": [
    "def remove_emp(emp):\n",
    "    with conn:\n",
    "        c.execute(\"DELETE FROM employee where first=:first AND last=:last\",{'first':emp.first,'last':emp.last})"
   ]
  },
  {
   "cell_type": "code",
   "execution_count": 26,
   "id": "63caf40c",
   "metadata": {},
   "outputs": [],
   "source": [
    "emp5 = Employee('Mickey','Max',78000)"
   ]
  },
  {
   "cell_type": "code",
   "execution_count": 27,
   "id": "ab852c9a",
   "metadata": {},
   "outputs": [],
   "source": [
    "insert_emp(emp5)"
   ]
  },
  {
   "cell_type": "code",
   "execution_count": 32,
   "id": "371818cd",
   "metadata": {},
   "outputs": [
    {
     "name": "stdout",
     "output_type": "stream",
     "text": [
      "[('John', 'Smith', 80000), ('Mary', 'Smith', 90000)]\n"
     ]
    }
   ],
   "source": [
    "emp6 = get_emps_by_name('Smith')\n",
    "print(emp6)"
   ]
  },
  {
   "cell_type": "code",
   "execution_count": 43,
   "id": "5548779c",
   "metadata": {},
   "outputs": [],
   "source": [
    "update_pay(emp1,82000)"
   ]
  },
  {
   "cell_type": "code",
   "execution_count": 44,
   "id": "31ee5e58",
   "metadata": {},
   "outputs": [
    {
     "name": "stdout",
     "output_type": "stream",
     "text": [
      "[('John', 'Smith', 82000), ('Mary', 'Smith', 90000)]\n"
     ]
    }
   ],
   "source": [
    "emp6 = get_emps_by_name('Smith')\n",
    "print(emp6)"
   ]
  },
  {
   "cell_type": "code",
   "execution_count": 45,
   "id": "6d77ba6d",
   "metadata": {},
   "outputs": [],
   "source": [
    "remove_emp(emp2)"
   ]
  },
  {
   "cell_type": "code",
   "execution_count": 46,
   "id": "ed6fcc44",
   "metadata": {},
   "outputs": [
    {
     "name": "stdout",
     "output_type": "stream",
     "text": [
      "[('John', 'Smith', 82000)]\n"
     ]
    }
   ],
   "source": [
    "emp6 = get_emps_by_name('Smith')\n",
    "print(emp6)"
   ]
  },
  {
   "cell_type": "code",
   "execution_count": null,
   "id": "e7a75619",
   "metadata": {},
   "outputs": [],
   "source": []
  }
 ],
 "metadata": {
  "kernelspec": {
   "display_name": "Python 3 (ipykernel)",
   "language": "python",
   "name": "python3"
  },
  "language_info": {
   "codemirror_mode": {
    "name": "ipython",
    "version": 3
   },
   "file_extension": ".py",
   "mimetype": "text/x-python",
   "name": "python",
   "nbconvert_exporter": "python",
   "pygments_lexer": "ipython3",
   "version": "3.9.13"
  }
 },
 "nbformat": 4,
 "nbformat_minor": 5
}
