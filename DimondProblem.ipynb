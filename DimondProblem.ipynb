{
 "cells": [
  {
   "cell_type": "code",
   "execution_count": 1,
   "id": "75e050ab",
   "metadata": {},
   "outputs": [],
   "source": [
    "#Dimond Problem"
   ]
  },
  {
   "cell_type": "code",
   "execution_count": 12,
   "id": "e5807050",
   "metadata": {},
   "outputs": [],
   "source": [
    "class GrandParent:\n",
    "    def Show(self):\n",
    "        print(\" I am GrandParent\")"
   ]
  },
  {
   "cell_type": "code",
   "execution_count": 13,
   "id": "ee953511",
   "metadata": {},
   "outputs": [],
   "source": [
    "class Parent1(GrandParent):\n",
    "    def Show(self):\n",
    "        print(\"I am Parent1\")"
   ]
  },
  {
   "cell_type": "code",
   "execution_count": 14,
   "id": "85ec55aa",
   "metadata": {},
   "outputs": [],
   "source": [
    "class Parent2(GrandParent):\n",
    "    \n",
    "    def Show(self):\n",
    "        print(\"I am Parent2\")"
   ]
  },
  {
   "cell_type": "code",
   "execution_count": 15,
   "id": "f558e6f0",
   "metadata": {},
   "outputs": [],
   "source": [
    "class child(Parent1,Parent2):\n",
    "    pass"
   ]
  },
  {
   "cell_type": "code",
   "execution_count": 16,
   "id": "771f9b43",
   "metadata": {},
   "outputs": [],
   "source": [
    "ch = child()"
   ]
  },
  {
   "cell_type": "code",
   "execution_count": 17,
   "id": "f1ef1a5d",
   "metadata": {},
   "outputs": [
    {
     "name": "stdout",
     "output_type": "stream",
     "text": [
      "Help on class child in module __main__:\n",
      "\n",
      "class child(Parent1, Parent2)\n",
      " |  Method resolution order:\n",
      " |      child\n",
      " |      Parent1\n",
      " |      Parent2\n",
      " |      GrandParent\n",
      " |      builtins.object\n",
      " |  \n",
      " |  Methods inherited from Parent1:\n",
      " |  \n",
      " |  Show(self)\n",
      " |  \n",
      " |  ----------------------------------------------------------------------\n",
      " |  Data descriptors inherited from GrandParent:\n",
      " |  \n",
      " |  __dict__\n",
      " |      dictionary for instance variables (if defined)\n",
      " |  \n",
      " |  __weakref__\n",
      " |      list of weak references to the object (if defined)\n",
      "\n"
     ]
    }
   ],
   "source": [
    "help(child)"
   ]
  },
  {
   "cell_type": "code",
   "execution_count": 18,
   "id": "375d1a8e",
   "metadata": {},
   "outputs": [
    {
     "name": "stdout",
     "output_type": "stream",
     "text": [
      "I am Parent1\n"
     ]
    }
   ],
   "source": [
    "ch.Show()"
   ]
  },
  {
   "cell_type": "code",
   "execution_count": 19,
   "id": "7a7cc9b5",
   "metadata": {},
   "outputs": [],
   "source": [
    "class child(Parent2,Parent1):\n",
    "    pass"
   ]
  },
  {
   "cell_type": "code",
   "execution_count": 20,
   "id": "1ce29080",
   "metadata": {},
   "outputs": [],
   "source": [
    "chobj = child()"
   ]
  },
  {
   "cell_type": "code",
   "execution_count": 22,
   "id": "5b2c2fe6",
   "metadata": {},
   "outputs": [
    {
     "name": "stdout",
     "output_type": "stream",
     "text": [
      "I am Parent2\n"
     ]
    }
   ],
   "source": [
    "chobj.Show()"
   ]
  },
  {
   "cell_type": "code",
   "execution_count": 23,
   "id": "1455790b",
   "metadata": {},
   "outputs": [],
   "source": [
    "class GrandParent:\n",
    "    def Show(self):\n",
    "        print(\" I am GrandParent\")\n",
    "class Parent1(GrandParent):\n",
    "    def Show(self):\n",
    "        print(\"I am Parent1\")\n",
    "class Parent2(GrandParent):\n",
    "    def Show(self):\n",
    "        print(\"I am Parent2\")\n",
    "class child(Parent1,Parent2):\n",
    "    pass"
   ]
  },
  {
   "cell_type": "code",
   "execution_count": 24,
   "id": "3dfb5509",
   "metadata": {},
   "outputs": [],
   "source": [
    "ch1 = child()"
   ]
  },
  {
   "cell_type": "code",
   "execution_count": 26,
   "id": "4512c506",
   "metadata": {},
   "outputs": [
    {
     "name": "stdout",
     "output_type": "stream",
     "text": [
      "I am Parent1\n"
     ]
    }
   ],
   "source": [
    "ch1.Show()"
   ]
  },
  {
   "cell_type": "code",
   "execution_count": 28,
   "id": "41bb3383",
   "metadata": {},
   "outputs": [],
   "source": [
    "class GrandParent:\n",
    "    def Show(self):\n",
    "        print(\" I am GrandParent\")\n",
    "class Parent1(GrandParent):\n",
    "    def Show(self):\n",
    "        print(\"I am Parent1\")\n",
    "class Parent2(GrandParent):\n",
    "    def Show(self):\n",
    "        print(\"I am Parent2\")\n",
    "class child(Parent2,Parent1):\n",
    "    pass"
   ]
  },
  {
   "cell_type": "code",
   "execution_count": 29,
   "id": "c3d747d8",
   "metadata": {},
   "outputs": [],
   "source": [
    "ch2= child()"
   ]
  },
  {
   "cell_type": "code",
   "execution_count": 31,
   "id": "5da0d097",
   "metadata": {},
   "outputs": [
    {
     "name": "stdout",
     "output_type": "stream",
     "text": [
      "I am Parent2\n"
     ]
    }
   ],
   "source": [
    "ch2.Show()"
   ]
  },
  {
   "cell_type": "code",
   "execution_count": 32,
   "id": "8bfca7c6",
   "metadata": {},
   "outputs": [],
   "source": [
    "class GrandParent:\n",
    "    def Show(self):\n",
    "        print(\" I am GrandParent\")\n",
    "class Parent1(GrandParent):\n",
    "    def ShowP1(self):\n",
    "        print(\"I am Parent1\")\n",
    "class Parent2(GrandParent):\n",
    "    def ShowP2(self):\n",
    "        print(\"I am Parent2\")\n",
    "class child(Parent1,Parent2):\n",
    "    pass"
   ]
  },
  {
   "cell_type": "code",
   "execution_count": 33,
   "id": "d064c689",
   "metadata": {},
   "outputs": [],
   "source": [
    "ch3 = child()"
   ]
  },
  {
   "cell_type": "code",
   "execution_count": 34,
   "id": "ae2e6b61",
   "metadata": {},
   "outputs": [
    {
     "name": "stdout",
     "output_type": "stream",
     "text": [
      " I am GrandParent\n"
     ]
    }
   ],
   "source": [
    "ch3.Show()"
   ]
  },
  {
   "cell_type": "code",
   "execution_count": 38,
   "id": "62da38d4",
   "metadata": {},
   "outputs": [],
   "source": [
    "class GrandParent:\n",
    "    def Show(self):\n",
    "        print(\" I am GrandParent\")\n",
    "class Parent1(GrandParent):\n",
    "    def Show(self):\n",
    "        print(\"I am Parent1\")\n",
    "class Parent2(GrandParent):\n",
    "    def Show(self):\n",
    "        print(\"I am Parent2\")\n",
    "class child(Parent1,Parent2):\n",
    "    def Show(self):\n",
    "        print(\"I am child\")"
   ]
  },
  {
   "cell_type": "code",
   "execution_count": 39,
   "id": "a69ace61",
   "metadata": {},
   "outputs": [],
   "source": [
    "ch4 = child()"
   ]
  },
  {
   "cell_type": "code",
   "execution_count": 40,
   "id": "ad27b3e6",
   "metadata": {},
   "outputs": [
    {
     "name": "stdout",
     "output_type": "stream",
     "text": [
      "I am child\n"
     ]
    }
   ],
   "source": [
    "ch4.Show()"
   ]
  },
  {
   "cell_type": "code",
   "execution_count": 41,
   "id": "eec43a8e",
   "metadata": {},
   "outputs": [],
   "source": [
    "class GrandParent:\n",
    "    def Show(self):\n",
    "        print(\" I am GrandParent\")\n",
    "class Parent1(GrandParent):\n",
    "    def Show(self):\n",
    "        print(\"I am Parent1\")\n",
    "class Parent2(GrandParent):\n",
    "    def Show(self):\n",
    "        print(\"I am Parent2\")\n",
    "class child(Parent1,Parent2):\n",
    "    def Show(self):\n",
    "        print(\"I am child\")\n",
    "        Parent1.Show(self)"
   ]
  },
  {
   "cell_type": "code",
   "execution_count": 42,
   "id": "15deed10",
   "metadata": {},
   "outputs": [],
   "source": [
    "ch5 = child()"
   ]
  },
  {
   "cell_type": "code",
   "execution_count": 43,
   "id": "2d26374b",
   "metadata": {},
   "outputs": [
    {
     "name": "stdout",
     "output_type": "stream",
     "text": [
      "I am child\n",
      "I am Parent1\n"
     ]
    }
   ],
   "source": [
    "ch5.Show()"
   ]
  },
  {
   "cell_type": "code",
   "execution_count": 44,
   "id": "cde17401",
   "metadata": {},
   "outputs": [],
   "source": [
    "class GrandParent:\n",
    "    def Show(self):\n",
    "        print(\" I am GrandParent\")\n",
    "class Parent1(GrandParent):\n",
    "    def Show(self):\n",
    "        print(\"I am Parent1\")\n",
    "class Parent2(GrandParent):\n",
    "    def Show(self):\n",
    "        print(\"I am Parent2\")\n",
    "class child(Parent1,Parent2):\n",
    "    def Show(self):\n",
    "        print(\"I am child\")\n",
    "        Parent1.Show(self)\n",
    "        Parent2.Show(self)\n",
    "        GrandParent.Show(self)"
   ]
  },
  {
   "cell_type": "code",
   "execution_count": 45,
   "id": "1d682c51",
   "metadata": {},
   "outputs": [],
   "source": [
    "ch7 = child()"
   ]
  },
  {
   "cell_type": "code",
   "execution_count": 46,
   "id": "2f6aeb82",
   "metadata": {},
   "outputs": [
    {
     "name": "stdout",
     "output_type": "stream",
     "text": [
      "I am child\n",
      "I am Parent1\n",
      "I am Parent2\n",
      " I am GrandParent\n"
     ]
    }
   ],
   "source": [
    "ch7.Show()"
   ]
  },
  {
   "cell_type": "code",
   "execution_count": 50,
   "id": "15a0d212",
   "metadata": {},
   "outputs": [],
   "source": [
    "class GrandParent:\n",
    "    def Show(self):\n",
    "        print(\" I am GrandParent\")\n",
    "class Parent1(GrandParent):\n",
    "    def Show(self):\n",
    "        print(\"I am Parent1\")\n",
    "class Parent2(GrandParent):\n",
    "    def Show(self):\n",
    "        print(\"I am Parent2\")\n",
    "class child(Parent1,Parent2):\n",
    "    def Show(self):\n",
    "        print(\"I am child\")\n",
    "        super().Show()"
   ]
  },
  {
   "cell_type": "code",
   "execution_count": 51,
   "id": "45770ab6",
   "metadata": {},
   "outputs": [],
   "source": [
    "ch6 = child()"
   ]
  },
  {
   "cell_type": "code",
   "execution_count": 52,
   "id": "5cb56664",
   "metadata": {},
   "outputs": [
    {
     "name": "stdout",
     "output_type": "stream",
     "text": [
      "I am child\n",
      "I am Parent1\n"
     ]
    }
   ],
   "source": [
    "ch6.Show()"
   ]
  },
  {
   "cell_type": "code",
   "execution_count": 59,
   "id": "71a5bda6",
   "metadata": {},
   "outputs": [],
   "source": [
    "class GrandParent:\n",
    "    def Show(self):\n",
    "        print(\" I am GrandParent\")\n",
    "class Parent1(GrandParent):\n",
    "    def Show(self):\n",
    "        print(\"I am Parent1\")\n",
    "        super().Show()\n",
    "class Parent2(GrandParent):\n",
    "    def Show(self):\n",
    "        print(\"I am Parent2\")\n",
    "        super().Show()\n",
    "class child(Parent1,Parent2):\n",
    "    def Show(self):\n",
    "        print(\"I am child\")\n",
    "        super().Show()"
   ]
  },
  {
   "cell_type": "code",
   "execution_count": 60,
   "id": "4c94aa80",
   "metadata": {},
   "outputs": [],
   "source": [
    "ch8 = child()"
   ]
  },
  {
   "cell_type": "code",
   "execution_count": 61,
   "id": "470c96d2",
   "metadata": {},
   "outputs": [
    {
     "name": "stdout",
     "output_type": "stream",
     "text": [
      "I am child\n",
      "I am Parent1\n",
      "I am Parent2\n",
      " I am GrandParent\n"
     ]
    }
   ],
   "source": [
    "ch8.Show()"
   ]
  },
  {
   "cell_type": "code",
   "execution_count": 64,
   "id": "2efa827b",
   "metadata": {},
   "outputs": [],
   "source": [
    "class GrandParent:\n",
    "    def Show(self):\n",
    "        print(\" I am GrandParent\")\n",
    "class Parent1(GrandParent):\n",
    "    def Show(self):\n",
    "        print(\"I am Parent1\")\n",
    "        super().Show()\n",
    "class Parent2(GrandParent):\n",
    "    def Show(self):\n",
    "        print(\"I am Parent2\")\n",
    "        super().Show()\n",
    "class Parent3(GrandParent):\n",
    "    def Show(self):\n",
    "        print(\"I am Parent3\")\n",
    "        #super().Show()\n",
    "class child(Parent1,Parent2,Parent3):\n",
    "    def Show(self):\n",
    "        print(\"I am child\")\n",
    "        super().Show()"
   ]
  },
  {
   "cell_type": "code",
   "execution_count": 65,
   "id": "5c08fdf2",
   "metadata": {},
   "outputs": [],
   "source": [
    "ch9= child()"
   ]
  },
  {
   "cell_type": "code",
   "execution_count": 66,
   "id": "af360263",
   "metadata": {},
   "outputs": [
    {
     "name": "stdout",
     "output_type": "stream",
     "text": [
      "I am child\n",
      "I am Parent1\n",
      "I am Parent2\n",
      "I am Parent3\n"
     ]
    }
   ],
   "source": [
    "ch9.Show()"
   ]
  },
  {
   "cell_type": "code",
   "execution_count": 67,
   "id": "9d4f15e2",
   "metadata": {},
   "outputs": [],
   "source": [
    "class GrandParent:\n",
    "    def Show(self):\n",
    "        print(\" I am GrandParent\")\n",
    "class Parent1(GrandParent):\n",
    "    def Show(self):\n",
    "        print(\"I am Parent1\")\n",
    "        super().Show()\n",
    "class Parent2(GrandParent):\n",
    "    def Show(self):\n",
    "        print(\"I am Parent2\")\n",
    "        super().Show()\n",
    "class Parent3(GrandParent):\n",
    "    def Show(self):\n",
    "        print(\"I am Parent3\")\n",
    "        super().Show()\n",
    "class child(Parent1,Parent2,Parent3):\n",
    "    def Show(self):\n",
    "        print(\"I am child\")\n",
    "        super().Show()"
   ]
  },
  {
   "cell_type": "code",
   "execution_count": 68,
   "id": "74ff4560",
   "metadata": {},
   "outputs": [],
   "source": [
    "ch10 = child()"
   ]
  },
  {
   "cell_type": "code",
   "execution_count": 69,
   "id": "ed35a4f2",
   "metadata": {},
   "outputs": [
    {
     "name": "stdout",
     "output_type": "stream",
     "text": [
      "I am child\n",
      "I am Parent1\n",
      "I am Parent2\n",
      "I am Parent3\n",
      " I am GrandParent\n"
     ]
    }
   ],
   "source": [
    "ch10.Show()"
   ]
  },
  {
   "cell_type": "code",
   "execution_count": 70,
   "id": "72d16f08",
   "metadata": {},
   "outputs": [],
   "source": [
    "#Composition"
   ]
  },
  {
   "cell_type": "code",
   "execution_count": 76,
   "id": "c1742a8c",
   "metadata": {},
   "outputs": [],
   "source": [
    "class cordinate:\n",
    "    def __init__(self,x,y):\n",
    "        self.x=x\n",
    "        self.y=y\n",
    "    def __repr__(self):\n",
    "        return \"(\"+str(self.x)+\",\"+str(self.y)+\")\""
   ]
  },
  {
   "cell_type": "code",
   "execution_count": 72,
   "id": "17b7b585",
   "metadata": {},
   "outputs": [
    {
     "data": {
      "text/plain": [
       "['Show',\n",
       " '__class__',\n",
       " '__delattr__',\n",
       " '__dict__',\n",
       " '__dir__',\n",
       " '__doc__',\n",
       " '__eq__',\n",
       " '__format__',\n",
       " '__ge__',\n",
       " '__getattribute__',\n",
       " '__gt__',\n",
       " '__hash__',\n",
       " '__init__',\n",
       " '__init_subclass__',\n",
       " '__le__',\n",
       " '__lt__',\n",
       " '__module__',\n",
       " '__ne__',\n",
       " '__new__',\n",
       " '__reduce__',\n",
       " '__reduce_ex__',\n",
       " '__repr__',\n",
       " '__setattr__',\n",
       " '__sizeof__',\n",
       " '__str__',\n",
       " '__subclasshook__',\n",
       " '__weakref__']"
      ]
     },
     "execution_count": 72,
     "metadata": {},
     "output_type": "execute_result"
    }
   ],
   "source": [
    "dir(ch10)"
   ]
  },
  {
   "cell_type": "code",
   "execution_count": 73,
   "id": "3419966f",
   "metadata": {},
   "outputs": [
    {
     "data": {
      "text/plain": [
       "'<__main__.child object at 0x000002635FB88E80>'"
      ]
     },
     "execution_count": 73,
     "metadata": {},
     "output_type": "execute_result"
    }
   ],
   "source": [
    "repr(ch10)"
   ]
  },
  {
   "cell_type": "code",
   "execution_count": 74,
   "id": "6c613c60",
   "metadata": {},
   "outputs": [
    {
     "data": {
      "text/plain": [
       "'<__main__.child object at 0x000002635FB88E80>'"
      ]
     },
     "execution_count": 74,
     "metadata": {},
     "output_type": "execute_result"
    }
   ],
   "source": [
    "str(ch10)"
   ]
  },
  {
   "cell_type": "code",
   "execution_count": 77,
   "id": "5886b8f9",
   "metadata": {},
   "outputs": [],
   "source": [
    "Point1 = cordinate(2,3)"
   ]
  },
  {
   "cell_type": "code",
   "execution_count": 78,
   "id": "9288e293",
   "metadata": {},
   "outputs": [
    {
     "data": {
      "text/plain": [
       "(2,3)"
      ]
     },
     "execution_count": 78,
     "metadata": {},
     "output_type": "execute_result"
    }
   ],
   "source": [
    "Point1"
   ]
  },
  {
   "cell_type": "code",
   "execution_count": 82,
   "id": "9630fd20",
   "metadata": {},
   "outputs": [],
   "source": [
    "class Shape:\n",
    "    def __init__(self,cordinate):\n",
    "        self.cordinate =cordinate\n",
    "    def __repr__(self):\n",
    "        s=''\n",
    "        for t in self.cordinate:\n",
    "            s=\"(\"+str(t.x)+\",\"+str(t.y)+\")\" +s\n",
    "        return s"
   ]
  },
  {
   "cell_type": "code",
   "execution_count": 83,
   "id": "fcabdf92",
   "metadata": {},
   "outputs": [],
   "source": [
    "line = Shape([cordinate(0,0),cordinate(0,5)])"
   ]
  },
  {
   "cell_type": "code",
   "execution_count": 84,
   "id": "39973eea",
   "metadata": {},
   "outputs": [
    {
     "data": {
      "text/plain": [
       "(0,5)(0,0)"
      ]
     },
     "execution_count": 84,
     "metadata": {},
     "output_type": "execute_result"
    }
   ],
   "source": [
    "line"
   ]
  },
  {
   "cell_type": "code",
   "execution_count": 85,
   "id": "0a3db1ed",
   "metadata": {},
   "outputs": [],
   "source": [
    "triangle = Shape([cordinate(0,0),cordinate(0,5),cordinate(5,5)])"
   ]
  },
  {
   "cell_type": "code",
   "execution_count": 86,
   "id": "9cd33cd6",
   "metadata": {},
   "outputs": [
    {
     "data": {
      "text/plain": [
       "(5,5)(0,5)(0,0)"
      ]
     },
     "execution_count": 86,
     "metadata": {},
     "output_type": "execute_result"
    }
   ],
   "source": [
    "triangle\n"
   ]
  },
  {
   "cell_type": "code",
   "execution_count": 87,
   "id": "c4526af8",
   "metadata": {},
   "outputs": [],
   "source": [
    "#nested classes\n",
    "class Outer:\n",
    "    def __init__(self,num):\n",
    "        self.number = num\n",
    "    def show(self):\n",
    "        print(\"Outer class\" + str(self.number))\n",
    "    class Inner:\n",
    "        pass"
   ]
  },
  {
   "cell_type": "code",
   "execution_count": 89,
   "id": "7f34e481",
   "metadata": {},
   "outputs": [],
   "source": [
    "obj = Outer(12)"
   ]
  },
  {
   "cell_type": "code",
   "execution_count": 90,
   "id": "289e69e0",
   "metadata": {},
   "outputs": [
    {
     "name": "stdout",
     "output_type": "stream",
     "text": [
      "Help on class Outer in module __main__:\n",
      "\n",
      "class Outer(builtins.object)\n",
      " |  Outer(num)\n",
      " |  \n",
      " |  Methods defined here:\n",
      " |  \n",
      " |  __init__(self, num)\n",
      " |      Initialize self.  See help(type(self)) for accurate signature.\n",
      " |  \n",
      " |  show(self)\n",
      " |  \n",
      " |  ----------------------------------------------------------------------\n",
      " |  Data descriptors defined here:\n",
      " |  \n",
      " |  __dict__\n",
      " |      dictionary for instance variables (if defined)\n",
      " |  \n",
      " |  __weakref__\n",
      " |      list of weak references to the object (if defined)\n",
      " |  \n",
      " |  ----------------------------------------------------------------------\n",
      " |  Data and other attributes defined here:\n",
      " |  \n",
      " |  Inner = <class '__main__.Outer.Inner'>\n",
      "\n"
     ]
    }
   ],
   "source": [
    "help(Outer)"
   ]
  },
  {
   "cell_type": "code",
   "execution_count": 91,
   "id": "10f1ac5c",
   "metadata": {},
   "outputs": [
    {
     "data": {
      "text/plain": [
       "12"
      ]
     },
     "execution_count": 91,
     "metadata": {},
     "output_type": "execute_result"
    }
   ],
   "source": [
    "obj.number"
   ]
  },
  {
   "cell_type": "code",
   "execution_count": 92,
   "id": "2a5bf83d",
   "metadata": {},
   "outputs": [
    {
     "name": "stdout",
     "output_type": "stream",
     "text": [
      "Outer class12\n"
     ]
    }
   ],
   "source": [
    "obj.show()"
   ]
  },
  {
   "cell_type": "code",
   "execution_count": 93,
   "id": "32732a4b",
   "metadata": {},
   "outputs": [],
   "source": [
    "objIn = obj.Inner()"
   ]
  },
  {
   "cell_type": "code",
   "execution_count": 94,
   "id": "73003c2c",
   "metadata": {},
   "outputs": [
    {
     "data": {
      "text/plain": [
       "<__main__.Outer.Inner at 0x2636006af70>"
      ]
     },
     "execution_count": 94,
     "metadata": {},
     "output_type": "execute_result"
    }
   ],
   "source": [
    "objIn"
   ]
  },
  {
   "cell_type": "code",
   "execution_count": 95,
   "id": "a6006cf9",
   "metadata": {},
   "outputs": [],
   "source": [
    "class Outer:\n",
    "    def __init__(self,num):\n",
    "        self.number = num\n",
    "    def show(self):\n",
    "        print(\"Outer class\" + str(self.number))\n",
    "    class Inner:\n",
    "        def __init__(self,num2):\n",
    "            self.number2= num2\n",
    "        def display(self):\n",
    "            print(\"Inner class\")"
   ]
  },
  {
   "cell_type": "code",
   "execution_count": 96,
   "id": "77183eaa",
   "metadata": {},
   "outputs": [
    {
     "name": "stdout",
     "output_type": "stream",
     "text": [
      "Help on class Outer in module __main__:\n",
      "\n",
      "class Outer(builtins.object)\n",
      " |  Outer(num)\n",
      " |  \n",
      " |  Methods defined here:\n",
      " |  \n",
      " |  __init__(self, num)\n",
      " |      Initialize self.  See help(type(self)) for accurate signature.\n",
      " |  \n",
      " |  show(self)\n",
      " |  \n",
      " |  ----------------------------------------------------------------------\n",
      " |  Data descriptors defined here:\n",
      " |  \n",
      " |  __dict__\n",
      " |      dictionary for instance variables (if defined)\n",
      " |  \n",
      " |  __weakref__\n",
      " |      list of weak references to the object (if defined)\n",
      " |  \n",
      " |  ----------------------------------------------------------------------\n",
      " |  Data and other attributes defined here:\n",
      " |  \n",
      " |  Inner = <class '__main__.Outer.Inner'>\n",
      "\n"
     ]
    }
   ],
   "source": [
    "help(Outer)"
   ]
  },
  {
   "cell_type": "code",
   "execution_count": 97,
   "id": "c2c11208",
   "metadata": {},
   "outputs": [],
   "source": [
    "objOuter = Outer(3)"
   ]
  },
  {
   "cell_type": "code",
   "execution_count": 98,
   "id": "5c67ed9d",
   "metadata": {},
   "outputs": [],
   "source": [
    "inObj = objOuter.Inner(45)"
   ]
  },
  {
   "cell_type": "code",
   "execution_count": 99,
   "id": "95a7611e",
   "metadata": {},
   "outputs": [
    {
     "name": "stdout",
     "output_type": "stream",
     "text": [
      "Outer class3\n"
     ]
    }
   ],
   "source": [
    "objOuter.show()"
   ]
  },
  {
   "cell_type": "code",
   "execution_count": 100,
   "id": "c16e4da9",
   "metadata": {},
   "outputs": [
    {
     "name": "stdout",
     "output_type": "stream",
     "text": [
      "Inner class\n"
     ]
    }
   ],
   "source": [
    "inObj.display()"
   ]
  },
  {
   "cell_type": "code",
   "execution_count": 109,
   "id": "5f5bb400",
   "metadata": {},
   "outputs": [],
   "source": [
    "class Outer:\n",
    "    def __init__(self,num):\n",
    "        self.number = num\n",
    "    def show(self):\n",
    "        print(\"Outer class\" + str(self.number))\n",
    "    class Inner:\n",
    "        def __init__(self,num2):\n",
    "            self.number2= num2\n",
    "        def display(self):\n",
    "            print(\"Inner class\"+str(self.number2 ))"
   ]
  },
  {
   "cell_type": "code",
   "execution_count": 110,
   "id": "e5383f45",
   "metadata": {},
   "outputs": [],
   "source": [
    "obj1 = Outer(3)"
   ]
  },
  {
   "cell_type": "code",
   "execution_count": 111,
   "id": "c1b197c5",
   "metadata": {},
   "outputs": [],
   "source": [
    "inobj1 = obj1.Inner(5)"
   ]
  },
  {
   "cell_type": "code",
   "execution_count": 112,
   "id": "e342d048",
   "metadata": {},
   "outputs": [
    {
     "name": "stdout",
     "output_type": "stream",
     "text": [
      "Inner class5\n"
     ]
    }
   ],
   "source": [
    "inobj1.display()"
   ]
  },
  {
   "cell_type": "code",
   "execution_count": null,
   "id": "6e54434a",
   "metadata": {},
   "outputs": [],
   "source": []
  },
  {
   "cell_type": "code",
   "execution_count": null,
   "id": "df036e22",
   "metadata": {},
   "outputs": [],
   "source": []
  },
  {
   "cell_type": "code",
   "execution_count": null,
   "id": "19d23ee2",
   "metadata": {},
   "outputs": [],
   "source": []
  },
  {
   "cell_type": "code",
   "execution_count": null,
   "id": "4f38de44",
   "metadata": {},
   "outputs": [],
   "source": [
    "\n"
   ]
  },
  {
   "cell_type": "code",
   "execution_count": null,
   "id": "6f5dae83",
   "metadata": {},
   "outputs": [],
   "source": []
  },
  {
   "cell_type": "code",
   "execution_count": null,
   "id": "b49824c6",
   "metadata": {},
   "outputs": [],
   "source": []
  }
 ],
 "metadata": {
  "kernelspec": {
   "display_name": "Python 3 (ipykernel)",
   "language": "python",
   "name": "python3"
  },
  "language_info": {
   "codemirror_mode": {
    "name": "ipython",
    "version": 3
   },
   "file_extension": ".py",
   "mimetype": "text/x-python",
   "name": "python",
   "nbconvert_exporter": "python",
   "pygments_lexer": "ipython3",
   "version": "3.9.13"
  }
 },
 "nbformat": 4,
 "nbformat_minor": 5
}
