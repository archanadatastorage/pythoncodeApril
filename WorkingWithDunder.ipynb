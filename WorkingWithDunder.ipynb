{
 "cells": [
  {
   "cell_type": "code",
   "execution_count": 1,
   "id": "4da423eb",
   "metadata": {},
   "outputs": [],
   "source": [
    "class Employee():\n",
    "    raise_amt=1.04\n",
    "    counter =0\n",
    "    def __init__(self,first,last,pay):\n",
    "        self.first=first\n",
    "        self.last=last\n",
    "        self.pay=pay\n",
    "        self.email= self.first+\".\"+self.last+\"@gmail.com\"\n",
    "        Employee.counter +=1\n",
    "        \n",
    "    def fullname(self):\n",
    "        return '{} {}'.format(self.first,self.last)\n",
    "    \n",
    "    def apply_raise(self):\n",
    "        self.pay=self.pay*Employee.raise_amt"
   ]
  },
  {
   "cell_type": "code",
   "execution_count": 2,
   "id": "3e3fc0d9",
   "metadata": {},
   "outputs": [],
   "source": [
    "Emp1= Employee('Ram','Kumar',80000)"
   ]
  },
  {
   "cell_type": "code",
   "execution_count": 3,
   "id": "d0aba452",
   "metadata": {},
   "outputs": [],
   "source": [
    "Emp2 = Employee('John','Smith',60000)"
   ]
  },
  {
   "cell_type": "code",
   "execution_count": 5,
   "id": "a1c7cabe",
   "metadata": {},
   "outputs": [
    {
     "data": {
      "text/plain": [
       "'Ram Kumar'"
      ]
     },
     "execution_count": 5,
     "metadata": {},
     "output_type": "execute_result"
    }
   ],
   "source": [
    "Emp1.fullname()"
   ]
  },
  {
   "cell_type": "code",
   "execution_count": 6,
   "id": "5ede762b",
   "metadata": {},
   "outputs": [
    {
     "data": {
      "text/plain": [
       "['__class__',\n",
       " '__delattr__',\n",
       " '__dict__',\n",
       " '__dir__',\n",
       " '__doc__',\n",
       " '__eq__',\n",
       " '__format__',\n",
       " '__ge__',\n",
       " '__getattribute__',\n",
       " '__gt__',\n",
       " '__hash__',\n",
       " '__init__',\n",
       " '__init_subclass__',\n",
       " '__le__',\n",
       " '__lt__',\n",
       " '__module__',\n",
       " '__ne__',\n",
       " '__new__',\n",
       " '__reduce__',\n",
       " '__reduce_ex__',\n",
       " '__repr__',\n",
       " '__setattr__',\n",
       " '__sizeof__',\n",
       " '__str__',\n",
       " '__subclasshook__',\n",
       " '__weakref__',\n",
       " 'apply_raise',\n",
       " 'counter',\n",
       " 'fullname',\n",
       " 'raise_amt']"
      ]
     },
     "execution_count": 6,
     "metadata": {},
     "output_type": "execute_result"
    }
   ],
   "source": [
    "dir(Employee)"
   ]
  },
  {
   "cell_type": "code",
   "execution_count": 7,
   "id": "bf45895b",
   "metadata": {},
   "outputs": [
    {
     "data": {
      "text/plain": [
       "5"
      ]
     },
     "execution_count": 7,
     "metadata": {},
     "output_type": "execute_result"
    }
   ],
   "source": [
    "len('India')"
   ]
  },
  {
   "cell_type": "code",
   "execution_count": 8,
   "id": "8568f113",
   "metadata": {},
   "outputs": [
    {
     "data": {
      "text/plain": [
       "3"
      ]
     },
     "execution_count": 8,
     "metadata": {},
     "output_type": "execute_result"
    }
   ],
   "source": [
    "1+2"
   ]
  },
  {
   "cell_type": "code",
   "execution_count": 9,
   "id": "1b9bd4d1",
   "metadata": {},
   "outputs": [
    {
     "data": {
      "text/plain": [
       "3"
      ]
     },
     "execution_count": 9,
     "metadata": {},
     "output_type": "execute_result"
    }
   ],
   "source": [
    "int.__add__(1,2)"
   ]
  },
  {
   "cell_type": "code",
   "execution_count": 11,
   "id": "ad120be9",
   "metadata": {},
   "outputs": [
    {
     "data": {
      "text/plain": [
       "'hi India'"
      ]
     },
     "execution_count": 11,
     "metadata": {},
     "output_type": "execute_result"
    }
   ],
   "source": [
    "str.__add__('hi',' India')"
   ]
  },
  {
   "cell_type": "code",
   "execution_count": 12,
   "id": "b425aabb",
   "metadata": {},
   "outputs": [
    {
     "data": {
      "text/plain": [
       "'hi India'"
      ]
     },
     "execution_count": 12,
     "metadata": {},
     "output_type": "execute_result"
    }
   ],
   "source": [
    "'hi' + ' India'"
   ]
  },
  {
   "cell_type": "code",
   "execution_count": 13,
   "id": "90461023",
   "metadata": {},
   "outputs": [
    {
     "data": {
      "text/plain": [
       "'<__main__.Employee object at 0x000001EB0A331A90>'"
      ]
     },
     "execution_count": 13,
     "metadata": {},
     "output_type": "execute_result"
    }
   ],
   "source": [
    "repr(Emp1)"
   ]
  },
  {
   "cell_type": "code",
   "execution_count": 15,
   "id": "55fe59de",
   "metadata": {},
   "outputs": [
    {
     "data": {
      "text/plain": [
       "<__main__.Employee at 0x1eb0a331a90>"
      ]
     },
     "execution_count": 15,
     "metadata": {},
     "output_type": "execute_result"
    }
   ],
   "source": [
    "Emp1"
   ]
  },
  {
   "cell_type": "code",
   "execution_count": 16,
   "id": "22fa1558",
   "metadata": {},
   "outputs": [
    {
     "data": {
      "text/plain": [
       "'<__main__.Employee object at 0x000001EB0A331A90>'"
      ]
     },
     "execution_count": 16,
     "metadata": {},
     "output_type": "execute_result"
    }
   ],
   "source": [
    "str(Emp1)"
   ]
  },
  {
   "cell_type": "code",
   "execution_count": 17,
   "id": "93d03dd4",
   "metadata": {},
   "outputs": [
    {
     "data": {
      "text/plain": [
       "'3.6666666666666665'"
      ]
     },
     "execution_count": 17,
     "metadata": {},
     "output_type": "execute_result"
    }
   ],
   "source": [
    "str(11.0/3.0)"
   ]
  },
  {
   "cell_type": "code",
   "execution_count": 18,
   "id": "060455db",
   "metadata": {},
   "outputs": [
    {
     "data": {
      "text/plain": [
       "'3.6666666666666665'"
      ]
     },
     "execution_count": 18,
     "metadata": {},
     "output_type": "execute_result"
    }
   ],
   "source": [
    "repr(11.0/3.0)"
   ]
  },
  {
   "cell_type": "code",
   "execution_count": 35,
   "id": "2bb6fded",
   "metadata": {},
   "outputs": [],
   "source": [
    "class Employee():\n",
    "    raise_amt=1.04\n",
    "    counter =0\n",
    "    def __init__(self,first,last,pay):\n",
    "        self.first=first\n",
    "        self.last=last\n",
    "        self.pay=pay\n",
    "        self.email= self.first+\".\"+self.last+\"@gmail.com\"\n",
    "        Employee.counter +=1\n",
    "        \n",
    "    def fullname(self):\n",
    "        return '{} {}'.format(self.first,self.last)\n",
    "    \n",
    "    def apply_raise(self):\n",
    "        self.pay=self.pay*Employee.raise_amt\n",
    "    \n",
    "    def __repr__(self):\n",
    "        return \"Employee('{}','{}','{}')\".format(self.first,self.last,self.pay)\n",
    "    \n",
    "    def __str__(self):\n",
    "        return '{} {}'.format(self.fullname(),self.email)\n",
    "    def __add__(self,other):\n",
    "        return self.pay + other.pay\n",
    "    def __len__(self):\n",
    "        return len(self.fullname())"
   ]
  },
  {
   "cell_type": "code",
   "execution_count": 36,
   "id": "95ea03c7",
   "metadata": {},
   "outputs": [],
   "source": [
    "Emp1= Employee('Ram','Kumar',80000)\n",
    "Emp2 = Employee('John','Smith',60000)"
   ]
  },
  {
   "cell_type": "code",
   "execution_count": 37,
   "id": "a136656d",
   "metadata": {},
   "outputs": [
    {
     "data": {
      "text/plain": [
       "Employee('Ram','Kumar','80000')"
      ]
     },
     "execution_count": 37,
     "metadata": {},
     "output_type": "execute_result"
    }
   ],
   "source": [
    "Emp1"
   ]
  },
  {
   "cell_type": "code",
   "execution_count": 38,
   "id": "157c1862",
   "metadata": {},
   "outputs": [
    {
     "data": {
      "text/plain": [
       "'Ram Kumar Ram.Kumar@gmail.com'"
      ]
     },
     "execution_count": 38,
     "metadata": {},
     "output_type": "execute_result"
    }
   ],
   "source": [
    "str(Emp1)"
   ]
  },
  {
   "cell_type": "code",
   "execution_count": 39,
   "id": "fe64b0dd",
   "metadata": {},
   "outputs": [
    {
     "data": {
      "text/plain": [
       "3"
      ]
     },
     "execution_count": 39,
     "metadata": {},
     "output_type": "execute_result"
    }
   ],
   "source": [
    "1+2"
   ]
  },
  {
   "cell_type": "code",
   "execution_count": 40,
   "id": "9c1b6ef7",
   "metadata": {},
   "outputs": [
    {
     "data": {
      "text/plain": [
       "140000"
      ]
     },
     "execution_count": 40,
     "metadata": {},
     "output_type": "execute_result"
    }
   ],
   "source": [
    "Emp1 +Emp2"
   ]
  },
  {
   "cell_type": "markdown",
   "id": "53e0645c",
   "metadata": {},
   "source": []
  },
  {
   "cell_type": "code",
   "execution_count": 41,
   "id": "8a6c98c0",
   "metadata": {},
   "outputs": [
    {
     "data": {
      "text/plain": [
       "9"
      ]
     },
     "execution_count": 41,
     "metadata": {},
     "output_type": "execute_result"
    }
   ],
   "source": [
    "len(Emp1)"
   ]
  },
  {
   "cell_type": "code",
   "execution_count": 42,
   "id": "0d8b6970",
   "metadata": {},
   "outputs": [],
   "source": [
    "#closure"
   ]
  },
  {
   "cell_type": "code",
   "execution_count": 43,
   "id": "a4ddc3cb",
   "metadata": {},
   "outputs": [],
   "source": [
    "def outerFun():\n",
    "    msg=\"hi\"\n",
    "    def inner_fun():\n",
    "        print(msg)\n",
    "    return inner_fun()"
   ]
  },
  {
   "cell_type": "code",
   "execution_count": 44,
   "id": "102de5c5",
   "metadata": {},
   "outputs": [
    {
     "name": "stdout",
     "output_type": "stream",
     "text": [
      "hi\n"
     ]
    }
   ],
   "source": [
    "outerFun()"
   ]
  },
  {
   "cell_type": "code",
   "execution_count": 45,
   "id": "f0272641",
   "metadata": {},
   "outputs": [],
   "source": [
    "def outerFun():\n",
    "    msg=\"hi\"\n",
    "    def inner_fun():\n",
    "        print(msg)\n",
    "    return inner_fun"
   ]
  },
  {
   "cell_type": "code",
   "execution_count": 47,
   "id": "1e469039",
   "metadata": {},
   "outputs": [],
   "source": [
    "fun1 =outerFun()"
   ]
  },
  {
   "cell_type": "code",
   "execution_count": 48,
   "id": "71b18354",
   "metadata": {},
   "outputs": [
    {
     "data": {
      "text/plain": [
       "function"
      ]
     },
     "execution_count": 48,
     "metadata": {},
     "output_type": "execute_result"
    }
   ],
   "source": [
    "type(fun1)"
   ]
  },
  {
   "cell_type": "code",
   "execution_count": 49,
   "id": "0878219a",
   "metadata": {},
   "outputs": [
    {
     "name": "stdout",
     "output_type": "stream",
     "text": [
      "hi\n"
     ]
    }
   ],
   "source": [
    "fun1()"
   ]
  },
  {
   "cell_type": "code",
   "execution_count": 50,
   "id": "d0809d04",
   "metadata": {},
   "outputs": [],
   "source": [
    "def outerFun(message):\n",
    "    msg=message\n",
    "    def inner_fun():\n",
    "        print(msg)\n",
    "    return inner_fun"
   ]
  },
  {
   "cell_type": "code",
   "execution_count": 51,
   "id": "0d565184",
   "metadata": {},
   "outputs": [],
   "source": [
    "fun2 = outerFun(\"India\")"
   ]
  },
  {
   "cell_type": "code",
   "execution_count": 52,
   "id": "09bf72c3",
   "metadata": {},
   "outputs": [
    {
     "name": "stdout",
     "output_type": "stream",
     "text": [
      "India\n"
     ]
    }
   ],
   "source": [
    "fun2()"
   ]
  },
  {
   "cell_type": "code",
   "execution_count": 53,
   "id": "188d5484",
   "metadata": {},
   "outputs": [],
   "source": [
    "fun2 =outerFun(\"hello\")"
   ]
  },
  {
   "cell_type": "code",
   "execution_count": 54,
   "id": "3e94239e",
   "metadata": {},
   "outputs": [
    {
     "name": "stdout",
     "output_type": "stream",
     "text": [
      "hello\n"
     ]
    }
   ],
   "source": [
    "fun2()"
   ]
  },
  {
   "cell_type": "code",
   "execution_count": 60,
   "id": "da245cf0",
   "metadata": {},
   "outputs": [],
   "source": [
    "def decorator_outer(func1):\n",
    "    def innerfun():\n",
    "        print(func1.__name__)\n",
    "        return func1()\n",
    "    return innerfun"
   ]
  },
  {
   "cell_type": "code",
   "execution_count": 61,
   "id": "11f89137",
   "metadata": {},
   "outputs": [],
   "source": [
    "@decorator_outer\n",
    "def display():\n",
    "    print(\"I am display function\")"
   ]
  },
  {
   "cell_type": "code",
   "execution_count": 62,
   "id": "d1350f4f",
   "metadata": {},
   "outputs": [
    {
     "name": "stdout",
     "output_type": "stream",
     "text": [
      "display\n",
      "I am display function\n"
     ]
    }
   ],
   "source": [
    "display()"
   ]
  },
  {
   "cell_type": "code",
   "execution_count": 63,
   "id": "e53b52d7",
   "metadata": {},
   "outputs": [],
   "source": [
    "def decor1(func):\n",
    "    def inner():\n",
    "        return func().upper()\n",
    "    return inner"
   ]
  },
  {
   "cell_type": "code",
   "execution_count": 64,
   "id": "43296f76",
   "metadata": {},
   "outputs": [],
   "source": [
    "def decor2(func):\n",
    "    def inner():\n",
    "        return func().split(' ')\n",
    "    return inner"
   ]
  },
  {
   "cell_type": "code",
   "execution_count": 76,
   "id": "def461b5",
   "metadata": {},
   "outputs": [],
   "source": [
    "@decor2\n",
    "@decor1\n",
    "def get_name():\n",
    "    fname='ram'\n",
    "    lname='kumar'\n",
    "    fullname = fname +' ' +lname\n",
    "    return fullname"
   ]
  },
  {
   "cell_type": "code",
   "execution_count": 66,
   "id": "f430d4b1",
   "metadata": {},
   "outputs": [],
   "source": []
  },
  {
   "cell_type": "code",
   "execution_count": 77,
   "id": "9a6e6b36",
   "metadata": {},
   "outputs": [
    {
     "data": {
      "text/plain": [
       "['RAM', 'KUMAR']"
      ]
     },
     "execution_count": 77,
     "metadata": {},
     "output_type": "execute_result"
    }
   ],
   "source": [
    "get_name()"
   ]
  },
  {
   "cell_type": "code",
   "execution_count": 80,
   "id": "e0885dd3",
   "metadata": {},
   "outputs": [
    {
     "data": {
      "text/plain": [
       "True"
      ]
     },
     "execution_count": 80,
     "metadata": {},
     "output_type": "execute_result"
    }
   ],
   "source": [
    "callable(get_name)"
   ]
  },
  {
   "cell_type": "code",
   "execution_count": 81,
   "id": "f389d920",
   "metadata": {},
   "outputs": [
    {
     "data": {
      "text/plain": [
       "True"
      ]
     },
     "execution_count": 81,
     "metadata": {},
     "output_type": "execute_result"
    }
   ],
   "source": [
    "callable(Employee)"
   ]
  },
  {
   "cell_type": "code",
   "execution_count": 82,
   "id": "f5794465",
   "metadata": {},
   "outputs": [
    {
     "data": {
      "text/plain": [
       "False"
      ]
     },
     "execution_count": 82,
     "metadata": {},
     "output_type": "execute_result"
    }
   ],
   "source": [
    "callable(Emp1)"
   ]
  },
  {
   "cell_type": "code",
   "execution_count": 85,
   "id": "20498fd9",
   "metadata": {},
   "outputs": [
    {
     "data": {
      "text/plain": [
       "['__add__',\n",
       " '__class__',\n",
       " '__delattr__',\n",
       " '__dict__',\n",
       " '__dir__',\n",
       " '__doc__',\n",
       " '__eq__',\n",
       " '__format__',\n",
       " '__ge__',\n",
       " '__getattribute__',\n",
       " '__gt__',\n",
       " '__hash__',\n",
       " '__init__',\n",
       " '__init_subclass__',\n",
       " '__le__',\n",
       " '__len__',\n",
       " '__lt__',\n",
       " '__module__',\n",
       " '__ne__',\n",
       " '__new__',\n",
       " '__reduce__',\n",
       " '__reduce_ex__',\n",
       " '__repr__',\n",
       " '__setattr__',\n",
       " '__sizeof__',\n",
       " '__str__',\n",
       " '__subclasshook__',\n",
       " '__weakref__',\n",
       " 'apply_raise',\n",
       " 'counter',\n",
       " 'email',\n",
       " 'first',\n",
       " 'fullname',\n",
       " 'last',\n",
       " 'pay',\n",
       " 'raise_amt']"
      ]
     },
     "execution_count": 85,
     "metadata": {},
     "output_type": "execute_result"
    }
   ],
   "source": [
    "dir(Emp1)"
   ]
  },
  {
   "cell_type": "code",
   "execution_count": 86,
   "id": "3633ec0c",
   "metadata": {},
   "outputs": [],
   "source": [
    "class Customer:\n",
    "    def __call__(self):\n",
    "        print(\"hello\")"
   ]
  },
  {
   "cell_type": "code",
   "execution_count": 87,
   "id": "354c12c8",
   "metadata": {},
   "outputs": [],
   "source": [
    "cust2 = Customer()"
   ]
  },
  {
   "cell_type": "code",
   "execution_count": 88,
   "id": "10ed6d7d",
   "metadata": {},
   "outputs": [
    {
     "data": {
      "text/plain": [
       "True"
      ]
     },
     "execution_count": 88,
     "metadata": {},
     "output_type": "execute_result"
    }
   ],
   "source": [
    "callable(Customer)"
   ]
  },
  {
   "cell_type": "code",
   "execution_count": 89,
   "id": "fde5e2ba",
   "metadata": {},
   "outputs": [
    {
     "data": {
      "text/plain": [
       "True"
      ]
     },
     "execution_count": 89,
     "metadata": {},
     "output_type": "execute_result"
    }
   ],
   "source": [
    "callable(cust2)"
   ]
  },
  {
   "cell_type": "code",
   "execution_count": 90,
   "id": "279dde93",
   "metadata": {},
   "outputs": [
    {
     "name": "stdout",
     "output_type": "stream",
     "text": [
      "hello\n"
     ]
    }
   ],
   "source": [
    "#object as function\n",
    "cust2()"
   ]
  },
  {
   "cell_type": "code",
   "execution_count": 113,
   "id": "bb835c57",
   "metadata": {},
   "outputs": [],
   "source": [
    "class Decorator:\n",
    "    def __init__(self,func):\n",
    "        self.function = func\n",
    "    def __call__(self,a,b):\n",
    "        res1 = self.function(a,b)\n",
    "        return res1+2"
   ]
  },
  {
   "cell_type": "code",
   "execution_count": 114,
   "id": "1a87ef29",
   "metadata": {},
   "outputs": [],
   "source": [
    "@Decorator\n",
    "def multi(a,b):\n",
    "    return a+b"
   ]
  },
  {
   "cell_type": "code",
   "execution_count": 115,
   "id": "cd38693e",
   "metadata": {},
   "outputs": [
    {
     "data": {
      "text/plain": [
       "7"
      ]
     },
     "execution_count": 115,
     "metadata": {},
     "output_type": "execute_result"
    }
   ],
   "source": [
    "multi(2,3)"
   ]
  },
  {
   "cell_type": "code",
   "execution_count": 116,
   "id": "b785dc3c",
   "metadata": {},
   "outputs": [],
   "source": [
    "obj = Decorator(multi)"
   ]
  },
  {
   "cell_type": "code",
   "execution_count": 117,
   "id": "cc2a5d06",
   "metadata": {},
   "outputs": [
    {
     "data": {
      "text/plain": [
       "9"
      ]
     },
     "execution_count": 117,
     "metadata": {},
     "output_type": "execute_result"
    }
   ],
   "source": [
    "obj(2,3)"
   ]
  },
  {
   "cell_type": "code",
   "execution_count": 118,
   "id": "bc86b274",
   "metadata": {},
   "outputs": [
    {
     "data": {
      "text/plain": [
       "7"
      ]
     },
     "execution_count": 118,
     "metadata": {},
     "output_type": "execute_result"
    }
   ],
   "source": [
    "obj.__call__(1,2)"
   ]
  },
  {
   "cell_type": "code",
   "execution_count": 162,
   "id": "49ed2f29",
   "metadata": {},
   "outputs": [],
   "source": [
    "class Employee():\n",
    "    raise_amt=1.04\n",
    "  \n",
    "    def __init__(self,first,last,pay):\n",
    "        self.first=first\n",
    "        self.last=last\n",
    "        self.pay=pay\n",
    "    #getter\n",
    "    @property\n",
    "    def email(self):\n",
    "        return '{}.{}@gmail.com'.format(self.first,self.last)\n",
    "      \n",
    "    @property\n",
    "    def fullname(self):\n",
    "        return '{} {}'.format(self.first,self.last)\n",
    "    \n",
    "    #setter\n",
    "    @fullname.setter\n",
    "    def fullname(self,name):\n",
    "        first,last = name.split(' ')\n",
    "        self.first=first\n",
    "        self.last=last\n",
    "    \n",
    "    @fullname.deleter\n",
    "    def fullname(self):\n",
    "        self.first= None\n",
    "        self.last=None\n",
    "    def apply_raise(self):\n",
    "        self.pay=self.pay*Employee.raise_amt\n"
   ]
  },
  {
   "cell_type": "code",
   "execution_count": 163,
   "id": "e15bae5c",
   "metadata": {},
   "outputs": [],
   "source": [
    "Emp1= Employee('Ram','Kumar',80000)\n",
    "Emp2 = Employee('John','Smith',60000)"
   ]
  },
  {
   "cell_type": "code",
   "execution_count": 168,
   "id": "d589000e",
   "metadata": {},
   "outputs": [
    {
     "data": {
      "text/plain": [
       "'None None'"
      ]
     },
     "execution_count": 168,
     "metadata": {},
     "output_type": "execute_result"
    }
   ],
   "source": [
    "Emp1.fullname"
   ]
  },
  {
   "cell_type": "code",
   "execution_count": 169,
   "id": "e18d7761",
   "metadata": {},
   "outputs": [
    {
     "data": {
      "text/plain": [
       "'None.None@gmail.com'"
      ]
     },
     "execution_count": 169,
     "metadata": {},
     "output_type": "execute_result"
    }
   ],
   "source": [
    "Emp1.email"
   ]
  },
  {
   "cell_type": "code",
   "execution_count": 166,
   "id": "1865fbb5",
   "metadata": {},
   "outputs": [
    {
     "data": {
      "text/plain": [
       "'Ram'"
      ]
     },
     "execution_count": 166,
     "metadata": {},
     "output_type": "execute_result"
    }
   ],
   "source": [
    "Emp1.first"
   ]
  },
  {
   "cell_type": "code",
   "execution_count": 167,
   "id": "7f4c8c89",
   "metadata": {},
   "outputs": [],
   "source": [
    "del Emp1.fullname"
   ]
  },
  {
   "cell_type": "code",
   "execution_count": 156,
   "id": "ef77e291",
   "metadata": {},
   "outputs": [
    {
     "data": {
      "text/plain": [
       "'Kumar'"
      ]
     },
     "execution_count": 156,
     "metadata": {},
     "output_type": "execute_result"
    }
   ],
   "source": [
    "Emp1.last"
   ]
  },
  {
   "cell_type": "code",
   "execution_count": 145,
   "id": "6d332372",
   "metadata": {},
   "outputs": [],
   "source": [
    "Emp1.first='Ravan'"
   ]
  },
  {
   "cell_type": "code",
   "execution_count": 146,
   "id": "c6818660",
   "metadata": {},
   "outputs": [
    {
     "data": {
      "text/plain": [
       "'Ravan'"
      ]
     },
     "execution_count": 146,
     "metadata": {},
     "output_type": "execute_result"
    }
   ],
   "source": [
    "Emp1.first"
   ]
  },
  {
   "cell_type": "code",
   "execution_count": 160,
   "id": "977deaeb",
   "metadata": {},
   "outputs": [
    {
     "data": {
      "text/plain": [
       "'Sia Kumari'"
      ]
     },
     "execution_count": 160,
     "metadata": {},
     "output_type": "execute_result"
    }
   ],
   "source": [
    "Emp1.fullname"
   ]
  },
  {
   "cell_type": "code",
   "execution_count": 161,
   "id": "40303fdd",
   "metadata": {},
   "outputs": [
    {
     "data": {
      "text/plain": [
       "'Sia.Kumari@gmail.com'"
      ]
     },
     "execution_count": 161,
     "metadata": {},
     "output_type": "execute_result"
    }
   ],
   "source": [
    "Emp1.email"
   ]
  },
  {
   "cell_type": "code",
   "execution_count": 159,
   "id": "1f41ba67",
   "metadata": {},
   "outputs": [],
   "source": [
    "Emp1.fullname='Sia Kumari'"
   ]
  },
  {
   "cell_type": "code",
   "execution_count": 149,
   "id": "9339a0ba",
   "metadata": {},
   "outputs": [
    {
     "data": {
      "text/plain": [
       "['__class__',\n",
       " '__delattr__',\n",
       " '__dict__',\n",
       " '__dir__',\n",
       " '__doc__',\n",
       " '__eq__',\n",
       " '__format__',\n",
       " '__ge__',\n",
       " '__getattribute__',\n",
       " '__gt__',\n",
       " '__hash__',\n",
       " '__init__',\n",
       " '__init_subclass__',\n",
       " '__le__',\n",
       " '__lt__',\n",
       " '__module__',\n",
       " '__ne__',\n",
       " '__new__',\n",
       " '__reduce__',\n",
       " '__reduce_ex__',\n",
       " '__repr__',\n",
       " '__setattr__',\n",
       " '__sizeof__',\n",
       " '__str__',\n",
       " '__subclasshook__',\n",
       " '__weakref__',\n",
       " 'apply_raise',\n",
       " 'email',\n",
       " 'first',\n",
       " 'fullname',\n",
       " 'last',\n",
       " 'pay',\n",
       " 'raise_amt']"
      ]
     },
     "execution_count": 149,
     "metadata": {},
     "output_type": "execute_result"
    }
   ],
   "source": [
    "dir(Emp1)"
   ]
  },
  {
   "cell_type": "code",
   "execution_count": 150,
   "id": "e9897f7e",
   "metadata": {},
   "outputs": [
    {
     "name": "stdout",
     "output_type": "stream",
     "text": [
      "Help on Employee in module __main__ object:\n",
      "\n",
      "class Employee(builtins.object)\n",
      " |  Employee(first, last, pay)\n",
      " |  \n",
      " |  Methods defined here:\n",
      " |  \n",
      " |  __init__(self, first, last, pay)\n",
      " |      Initialize self.  See help(type(self)) for accurate signature.\n",
      " |  \n",
      " |  apply_raise(self)\n",
      " |  \n",
      " |  ----------------------------------------------------------------------\n",
      " |  Readonly properties defined here:\n",
      " |  \n",
      " |  email\n",
      " |  \n",
      " |  fullname\n",
      " |  \n",
      " |  ----------------------------------------------------------------------\n",
      " |  Data descriptors defined here:\n",
      " |  \n",
      " |  __dict__\n",
      " |      dictionary for instance variables (if defined)\n",
      " |  \n",
      " |  __weakref__\n",
      " |      list of weak references to the object (if defined)\n",
      " |  \n",
      " |  ----------------------------------------------------------------------\n",
      " |  Data and other attributes defined here:\n",
      " |  \n",
      " |  raise_amt = 1.04\n",
      "\n"
     ]
    }
   ],
   "source": [
    "help(Emp1)"
   ]
  },
  {
   "cell_type": "code",
   "execution_count": 170,
   "id": "5107916c",
   "metadata": {},
   "outputs": [],
   "source": [
    "class Person:\n",
    "    def __init__(self,first,last):\n",
    "        self.first=first                                                             #public\n",
    "        self.__last=last                                                             #private"
   ]
  },
  {
   "cell_type": "code",
   "execution_count": 171,
   "id": "89e2e9a3",
   "metadata": {},
   "outputs": [
    {
     "name": "stdout",
     "output_type": "stream",
     "text": [
      "Help on class Person in module __main__:\n",
      "\n",
      "class Person(builtins.object)\n",
      " |  Person(first, last)\n",
      " |  \n",
      " |  Methods defined here:\n",
      " |  \n",
      " |  __init__(self, first, last)\n",
      " |      Initialize self.  See help(type(self)) for accurate signature.\n",
      " |  \n",
      " |  ----------------------------------------------------------------------\n",
      " |  Data descriptors defined here:\n",
      " |  \n",
      " |  __dict__\n",
      " |      dictionary for instance variables (if defined)\n",
      " |  \n",
      " |  __weakref__\n",
      " |      list of weak references to the object (if defined)\n",
      "\n"
     ]
    }
   ],
   "source": [
    "help(Person)"
   ]
  },
  {
   "cell_type": "code",
   "execution_count": 172,
   "id": "4568265d",
   "metadata": {},
   "outputs": [
    {
     "data": {
      "text/plain": [
       "['__class__',\n",
       " '__delattr__',\n",
       " '__dict__',\n",
       " '__dir__',\n",
       " '__doc__',\n",
       " '__eq__',\n",
       " '__format__',\n",
       " '__ge__',\n",
       " '__getattribute__',\n",
       " '__gt__',\n",
       " '__hash__',\n",
       " '__init__',\n",
       " '__init_subclass__',\n",
       " '__le__',\n",
       " '__lt__',\n",
       " '__module__',\n",
       " '__ne__',\n",
       " '__new__',\n",
       " '__reduce__',\n",
       " '__reduce_ex__',\n",
       " '__repr__',\n",
       " '__setattr__',\n",
       " '__sizeof__',\n",
       " '__str__',\n",
       " '__subclasshook__',\n",
       " '__weakref__']"
      ]
     },
     "execution_count": 172,
     "metadata": {},
     "output_type": "execute_result"
    }
   ],
   "source": [
    "dir(Person)"
   ]
  },
  {
   "cell_type": "code",
   "execution_count": 173,
   "id": "73b83d98",
   "metadata": {},
   "outputs": [],
   "source": [
    "p1 = Person(\"Ram\",\"Kumar\")"
   ]
  },
  {
   "cell_type": "code",
   "execution_count": 174,
   "id": "81657313",
   "metadata": {},
   "outputs": [
    {
     "data": {
      "text/plain": [
       "'Ram'"
      ]
     },
     "execution_count": 174,
     "metadata": {},
     "output_type": "execute_result"
    }
   ],
   "source": [
    "p1.first"
   ]
  },
  {
   "cell_type": "code",
   "execution_count": 176,
   "id": "8c53676e",
   "metadata": {},
   "outputs": [
    {
     "ename": "AttributeError",
     "evalue": "'Person' object has no attribute '__last'",
     "output_type": "error",
     "traceback": [
      "\u001b[1;31m---------------------------------------------------------------------------\u001b[0m",
      "\u001b[1;31mAttributeError\u001b[0m                            Traceback (most recent call last)",
      "\u001b[1;32m~\\AppData\\Local\\Temp\\ipykernel_32888\\1448280442.py\u001b[0m in \u001b[0;36m<module>\u001b[1;34m\u001b[0m\n\u001b[1;32m----> 1\u001b[1;33m \u001b[0mp1\u001b[0m\u001b[1;33m.\u001b[0m\u001b[0m__last\u001b[0m\u001b[1;33m\u001b[0m\u001b[1;33m\u001b[0m\u001b[0m\n\u001b[0m",
      "\u001b[1;31mAttributeError\u001b[0m: 'Person' object has no attribute '__last'"
     ]
    }
   ],
   "source": [
    "p1.__last"
   ]
  },
  {
   "cell_type": "code",
   "execution_count": 177,
   "id": "aa8cdcfe",
   "metadata": {},
   "outputs": [
    {
     "data": {
      "text/plain": [
       "['_Person__last',\n",
       " '__class__',\n",
       " '__delattr__',\n",
       " '__dict__',\n",
       " '__dir__',\n",
       " '__doc__',\n",
       " '__eq__',\n",
       " '__format__',\n",
       " '__ge__',\n",
       " '__getattribute__',\n",
       " '__gt__',\n",
       " '__hash__',\n",
       " '__init__',\n",
       " '__init_subclass__',\n",
       " '__le__',\n",
       " '__lt__',\n",
       " '__module__',\n",
       " '__ne__',\n",
       " '__new__',\n",
       " '__reduce__',\n",
       " '__reduce_ex__',\n",
       " '__repr__',\n",
       " '__setattr__',\n",
       " '__sizeof__',\n",
       " '__str__',\n",
       " '__subclasshook__',\n",
       " '__weakref__',\n",
       " 'first']"
      ]
     },
     "execution_count": 177,
     "metadata": {},
     "output_type": "execute_result"
    }
   ],
   "source": [
    "#Name Mangling\n",
    "dir(p1)"
   ]
  },
  {
   "cell_type": "code",
   "execution_count": 178,
   "id": "bc43507a",
   "metadata": {},
   "outputs": [
    {
     "ename": "AttributeError",
     "evalue": "'Person' object has no attribute '__last'",
     "output_type": "error",
     "traceback": [
      "\u001b[1;31m---------------------------------------------------------------------------\u001b[0m",
      "\u001b[1;31mAttributeError\u001b[0m                            Traceback (most recent call last)",
      "\u001b[1;32m~\\AppData\\Local\\Temp\\ipykernel_32888\\1448280442.py\u001b[0m in \u001b[0;36m<module>\u001b[1;34m\u001b[0m\n\u001b[1;32m----> 1\u001b[1;33m \u001b[0mp1\u001b[0m\u001b[1;33m.\u001b[0m\u001b[0m__last\u001b[0m\u001b[1;33m\u001b[0m\u001b[1;33m\u001b[0m\u001b[0m\n\u001b[0m",
      "\u001b[1;31mAttributeError\u001b[0m: 'Person' object has no attribute '__last'"
     ]
    }
   ],
   "source": [
    "p1.__last"
   ]
  },
  {
   "cell_type": "code",
   "execution_count": 179,
   "id": "0a20bc41",
   "metadata": {},
   "outputs": [
    {
     "data": {
      "text/plain": [
       "'Kumar'"
      ]
     },
     "execution_count": 179,
     "metadata": {},
     "output_type": "execute_result"
    }
   ],
   "source": [
    "p1._Person__last"
   ]
  },
  {
   "cell_type": "code",
   "execution_count": null,
   "id": "a4156f09",
   "metadata": {},
   "outputs": [],
   "source": []
  }
 ],
 "metadata": {
  "kernelspec": {
   "display_name": "Python 3 (ipykernel)",
   "language": "python",
   "name": "python3"
  },
  "language_info": {
   "codemirror_mode": {
    "name": "ipython",
    "version": 3
   },
   "file_extension": ".py",
   "mimetype": "text/x-python",
   "name": "python",
   "nbconvert_exporter": "python",
   "pygments_lexer": "ipython3",
   "version": "3.9.13"
  }
 },
 "nbformat": 4,
 "nbformat_minor": 5
}
