{
 "cells": [
  {
   "cell_type": "code",
   "execution_count": 1,
   "id": "8cc8cf4f",
   "metadata": {},
   "outputs": [],
   "source": [
    "class Employee:\n",
    "    pass"
   ]
  },
  {
   "cell_type": "code",
   "execution_count": 2,
   "id": "71ef26cb",
   "metadata": {},
   "outputs": [
    {
     "data": {
      "text/plain": [
       "type"
      ]
     },
     "execution_count": 2,
     "metadata": {},
     "output_type": "execute_result"
    }
   ],
   "source": [
    "type(Employee)"
   ]
  },
  {
   "cell_type": "code",
   "execution_count": 3,
   "id": "6e381199",
   "metadata": {},
   "outputs": [],
   "source": [
    "emp1 = Employee()"
   ]
  },
  {
   "cell_type": "code",
   "execution_count": 4,
   "id": "c2c75fe2",
   "metadata": {},
   "outputs": [
    {
     "data": {
      "text/plain": [
       "<__main__.Employee at 0x279aa71bee0>"
      ]
     },
     "execution_count": 4,
     "metadata": {},
     "output_type": "execute_result"
    }
   ],
   "source": [
    "emp1"
   ]
  },
  {
   "cell_type": "code",
   "execution_count": 5,
   "id": "4dd5d9b8",
   "metadata": {},
   "outputs": [],
   "source": [
    "emp2 = Employee()"
   ]
  },
  {
   "cell_type": "code",
   "execution_count": 6,
   "id": "f53d37c9",
   "metadata": {},
   "outputs": [
    {
     "data": {
      "text/plain": [
       "<__main__.Employee at 0x279acc87bb0>"
      ]
     },
     "execution_count": 6,
     "metadata": {},
     "output_type": "execute_result"
    }
   ],
   "source": [
    "emp2"
   ]
  },
  {
   "cell_type": "code",
   "execution_count": 7,
   "id": "1f1c6e1c",
   "metadata": {},
   "outputs": [
    {
     "data": {
      "text/plain": [
       "__main__.Employee"
      ]
     },
     "execution_count": 7,
     "metadata": {},
     "output_type": "execute_result"
    }
   ],
   "source": [
    "type(emp1)"
   ]
  },
  {
   "cell_type": "code",
   "execution_count": 8,
   "id": "4e8f4f03",
   "metadata": {},
   "outputs": [
    {
     "name": "stdout",
     "output_type": "stream",
     "text": [
      "<__main__.Employee object at 0x00000279AA71BEE0>\n"
     ]
    }
   ],
   "source": [
    "print(emp1)"
   ]
  },
  {
   "cell_type": "code",
   "execution_count": 9,
   "id": "fcc3f8aa",
   "metadata": {},
   "outputs": [
    {
     "data": {
      "text/plain": [
       "mappingproxy({'__module__': '__main__',\n",
       "              '__dict__': <attribute '__dict__' of 'Employee' objects>,\n",
       "              '__weakref__': <attribute '__weakref__' of 'Employee' objects>,\n",
       "              '__doc__': None})"
      ]
     },
     "execution_count": 9,
     "metadata": {},
     "output_type": "execute_result"
    }
   ],
   "source": [
    "Employee.__dict__"
   ]
  },
  {
   "cell_type": "code",
   "execution_count": 10,
   "id": "267e9a77",
   "metadata": {},
   "outputs": [
    {
     "data": {
      "text/plain": [
       "{}"
      ]
     },
     "execution_count": 10,
     "metadata": {},
     "output_type": "execute_result"
    }
   ],
   "source": [
    "emp1.__dict__"
   ]
  },
  {
   "cell_type": "code",
   "execution_count": 11,
   "id": "9834adc1",
   "metadata": {},
   "outputs": [
    {
     "data": {
      "text/plain": [
       "{}"
      ]
     },
     "execution_count": 11,
     "metadata": {},
     "output_type": "execute_result"
    }
   ],
   "source": [
    "emp2.__dict__"
   ]
  },
  {
   "cell_type": "code",
   "execution_count": 12,
   "id": "afba6793",
   "metadata": {},
   "outputs": [],
   "source": [
    "emp1.first='Ram'"
   ]
  },
  {
   "cell_type": "code",
   "execution_count": 13,
   "id": "e90b9d51",
   "metadata": {},
   "outputs": [
    {
     "data": {
      "text/plain": [
       "{'first': 'Ram'}"
      ]
     },
     "execution_count": 13,
     "metadata": {},
     "output_type": "execute_result"
    }
   ],
   "source": [
    "emp1.__dict__"
   ]
  },
  {
   "cell_type": "code",
   "execution_count": 14,
   "id": "f5b3cf57",
   "metadata": {},
   "outputs": [],
   "source": [
    "emp1.last='kumar'\n",
    "emp1.pay=60000\n",
    "emp1.email='ram.kumar@gmail.com'"
   ]
  },
  {
   "cell_type": "code",
   "execution_count": 15,
   "id": "4c0c9518",
   "metadata": {},
   "outputs": [
    {
     "data": {
      "text/plain": [
       "{'first': 'Ram', 'last': 'kumar', 'pay': 60000, 'email': 'ram.kumar@gmail.com'}"
      ]
     },
     "execution_count": 15,
     "metadata": {},
     "output_type": "execute_result"
    }
   ],
   "source": [
    "emp1.__dict__"
   ]
  },
  {
   "cell_type": "code",
   "execution_count": 16,
   "id": "3522129a",
   "metadata": {},
   "outputs": [
    {
     "data": {
      "text/plain": [
       "{}"
      ]
     },
     "execution_count": 16,
     "metadata": {},
     "output_type": "execute_result"
    }
   ],
   "source": [
    "emp2.__dict__"
   ]
  },
  {
   "cell_type": "code",
   "execution_count": 17,
   "id": "9b2be46c",
   "metadata": {},
   "outputs": [],
   "source": [
    "emp2.first='laxman'\n",
    "emp2.last='kr'\n",
    "emp2.pay=45000\n",
    "emp2.email='laxman.kr@gmail.com'"
   ]
  },
  {
   "cell_type": "code",
   "execution_count": 18,
   "id": "3d7c796b",
   "metadata": {},
   "outputs": [
    {
     "data": {
      "text/plain": [
       "{'first': 'laxman', 'last': 'kr', 'pay': 45000, 'email': 'laxman.kr@gmail.com'}"
      ]
     },
     "execution_count": 18,
     "metadata": {},
     "output_type": "execute_result"
    }
   ],
   "source": [
    "emp2.__dict__"
   ]
  },
  {
   "cell_type": "code",
   "execution_count": 19,
   "id": "c6aa2629",
   "metadata": {},
   "outputs": [
    {
     "data": {
      "text/plain": [
       "'Ram'"
      ]
     },
     "execution_count": 19,
     "metadata": {},
     "output_type": "execute_result"
    }
   ],
   "source": [
    "emp1.first"
   ]
  },
  {
   "cell_type": "code",
   "execution_count": 20,
   "id": "2fe7ac2a",
   "metadata": {},
   "outputs": [
    {
     "data": {
      "text/plain": [
       "mappingproxy({'__module__': '__main__',\n",
       "              '__dict__': <attribute '__dict__' of 'Employee' objects>,\n",
       "              '__weakref__': <attribute '__weakref__' of 'Employee' objects>,\n",
       "              '__doc__': None})"
      ]
     },
     "execution_count": 20,
     "metadata": {},
     "output_type": "execute_result"
    }
   ],
   "source": [
    "Employee.__dict__"
   ]
  },
  {
   "cell_type": "code",
   "execution_count": 21,
   "id": "4db8ed67",
   "metadata": {},
   "outputs": [
    {
     "data": {
      "text/plain": [
       "'laxman.kr@gmail.com'"
      ]
     },
     "execution_count": 21,
     "metadata": {},
     "output_type": "execute_result"
    }
   ],
   "source": [
    "emp2.email"
   ]
  },
  {
   "cell_type": "code",
   "execution_count": 23,
   "id": "39539a0a",
   "metadata": {},
   "outputs": [],
   "source": [
    "#Attributes/ instance variables\n",
    "class Employee:\n",
    "    def  __init__(self, fname,lname,salary):\n",
    "        self.first=fname\n",
    "        self.last=lname\n",
    "        self.pay=salary\n",
    "        self.email = fname+'.'+lname+'@gmail.com'\n",
    "        "
   ]
  },
  {
   "cell_type": "code",
   "execution_count": 24,
   "id": "9e3df0a4",
   "metadata": {},
   "outputs": [
    {
     "data": {
      "text/plain": [
       "mappingproxy({'__module__': '__main__',\n",
       "              '__init__': <function __main__.Employee.__init__(self, fname, lname, salary)>,\n",
       "              '__dict__': <attribute '__dict__' of 'Employee' objects>,\n",
       "              '__weakref__': <attribute '__weakref__' of 'Employee' objects>,\n",
       "              '__doc__': None})"
      ]
     },
     "execution_count": 24,
     "metadata": {},
     "output_type": "execute_result"
    }
   ],
   "source": [
    "Employee.__dict__"
   ]
  },
  {
   "cell_type": "code",
   "execution_count": 25,
   "id": "96cc296e",
   "metadata": {},
   "outputs": [],
   "source": [
    "emp1= Employee('Ram','Kumar',49032)"
   ]
  },
  {
   "cell_type": "code",
   "execution_count": 26,
   "id": "df5bb193",
   "metadata": {},
   "outputs": [],
   "source": [
    "emp2 = Employee('laxman','sharma',23456)"
   ]
  },
  {
   "cell_type": "code",
   "execution_count": 27,
   "id": "11bbd193",
   "metadata": {},
   "outputs": [
    {
     "data": {
      "text/plain": [
       "{'first': 'Ram', 'last': 'Kumar', 'pay': 49032, 'email': 'Ram.Kumar@gmail.com'}"
      ]
     },
     "execution_count": 27,
     "metadata": {},
     "output_type": "execute_result"
    }
   ],
   "source": [
    "emp1.__dict__"
   ]
  },
  {
   "cell_type": "code",
   "execution_count": 29,
   "id": "4e3d1924",
   "metadata": {},
   "outputs": [
    {
     "data": {
      "text/plain": [
       "{'first': 'laxman',\n",
       " 'last': 'sharma',\n",
       " 'pay': 23456,\n",
       " 'email': 'laxman.sharma@gmail.com'}"
      ]
     },
     "execution_count": 29,
     "metadata": {},
     "output_type": "execute_result"
    }
   ],
   "source": [
    "emp2.__dict__"
   ]
  },
  {
   "cell_type": "code",
   "execution_count": 30,
   "id": "a4855a6a",
   "metadata": {},
   "outputs": [
    {
     "data": {
      "text/plain": [
       "'Ram.Kumar@gmail.com'"
      ]
     },
     "execution_count": 30,
     "metadata": {},
     "output_type": "execute_result"
    }
   ],
   "source": [
    "emp1.email"
   ]
  },
  {
   "cell_type": "code",
   "execution_count": 31,
   "id": "88eb1bf5",
   "metadata": {},
   "outputs": [
    {
     "name": "stdout",
     "output_type": "stream",
     "text": [
      "Ram Kumar\n"
     ]
    }
   ],
   "source": [
    "print('{} {}'.format(emp1.first,emp1.last))"
   ]
  },
  {
   "cell_type": "code",
   "execution_count": 35,
   "id": "46690bd2",
   "metadata": {},
   "outputs": [],
   "source": [
    "#method\n",
    "class Employee:\n",
    "    def  __init__(self, fname,lname,salary):\n",
    "        self.first=fname\n",
    "        self.last=lname\n",
    "        self.pay=salary\n",
    "        self.email = fname+'.'+lname+'@gmail.com'\n",
    "    \n",
    "    def fullname(self):\n",
    "        return '{} {}'.format(self.first,self.last)"
   ]
  },
  {
   "cell_type": "code",
   "execution_count": 36,
   "id": "4e66617f",
   "metadata": {},
   "outputs": [],
   "source": [
    "emp1= Employee('Ram','Kumar',49032)"
   ]
  },
  {
   "cell_type": "code",
   "execution_count": 37,
   "id": "cdf7e50b",
   "metadata": {},
   "outputs": [
    {
     "data": {
      "text/plain": [
       "'Ram Kumar'"
      ]
     },
     "execution_count": 37,
     "metadata": {},
     "output_type": "execute_result"
    }
   ],
   "source": [
    "emp1.fullname()"
   ]
  },
  {
   "cell_type": "code",
   "execution_count": 38,
   "id": "a283784e",
   "metadata": {},
   "outputs": [
    {
     "data": {
      "text/plain": [
       "mappingproxy({'__module__': '__main__',\n",
       "              '__init__': <function __main__.Employee.__init__(self, fname, lname, salary)>,\n",
       "              'fullname': <function __main__.Employee.fullname(self)>,\n",
       "              '__dict__': <attribute '__dict__' of 'Employee' objects>,\n",
       "              '__weakref__': <attribute '__weakref__' of 'Employee' objects>,\n",
       "              '__doc__': None})"
      ]
     },
     "execution_count": 38,
     "metadata": {},
     "output_type": "execute_result"
    }
   ],
   "source": [
    "Employee.__dict__"
   ]
  },
  {
   "cell_type": "code",
   "execution_count": 39,
   "id": "d3b2b179",
   "metadata": {},
   "outputs": [
    {
     "data": {
      "text/plain": [
       "{'first': 'Ram', 'last': 'Kumar', 'pay': 49032, 'email': 'Ram.Kumar@gmail.com'}"
      ]
     },
     "execution_count": 39,
     "metadata": {},
     "output_type": "execute_result"
    }
   ],
   "source": [
    "emp1.__dict__"
   ]
  },
  {
   "cell_type": "code",
   "execution_count": 40,
   "id": "9c97382b",
   "metadata": {},
   "outputs": [
    {
     "data": {
      "text/plain": [
       "'Ram Kumar'"
      ]
     },
     "execution_count": 40,
     "metadata": {},
     "output_type": "execute_result"
    }
   ],
   "source": [
    "emp1.fullname()"
   ]
  },
  {
   "cell_type": "code",
   "execution_count": 41,
   "id": "605c49f0",
   "metadata": {},
   "outputs": [
    {
     "data": {
      "text/plain": [
       "<bound method Employee.fullname of <__main__.Employee object at 0x00000279ACC67F10>>"
      ]
     },
     "execution_count": 41,
     "metadata": {},
     "output_type": "execute_result"
    }
   ],
   "source": [
    "emp1.fullname"
   ]
  },
  {
   "cell_type": "code",
   "execution_count": 42,
   "id": "6d70efb2",
   "metadata": {},
   "outputs": [
    {
     "data": {
      "text/plain": [
       "'Ram Kumar'"
      ]
     },
     "execution_count": 42,
     "metadata": {},
     "output_type": "execute_result"
    }
   ],
   "source": [
    "Employee.fullname(emp1)"
   ]
  },
  {
   "cell_type": "code",
   "execution_count": 43,
   "id": "182f0ae0",
   "metadata": {},
   "outputs": [],
   "source": [
    "class Employee:\n",
    "    def  __init__(self, fname,lname,salary):\n",
    "        self.first=fname\n",
    "        self.last=lname\n",
    "        self.pay=salary\n",
    "        self.email = fname+'.'+lname+'@gmail.com'\n",
    "    \n",
    "    def fullname(self):\n",
    "        return '{} {}'.format(self.first,self.last)\n",
    "    def apply_raise(self):\n",
    "        self.pay = self.pay *1.04"
   ]
  },
  {
   "cell_type": "code",
   "execution_count": 49,
   "id": "05d8c6ea",
   "metadata": {},
   "outputs": [],
   "source": [
    "emp1 = Employee('John','Smith',50000)"
   ]
  },
  {
   "cell_type": "code",
   "execution_count": 45,
   "id": "6e0f6637",
   "metadata": {},
   "outputs": [],
   "source": [
    "emp2 = Employee('Amit','Singh',20000)"
   ]
  },
  {
   "cell_type": "code",
   "execution_count": 50,
   "id": "dd907425",
   "metadata": {},
   "outputs": [
    {
     "data": {
      "text/plain": [
       "50000"
      ]
     },
     "execution_count": 50,
     "metadata": {},
     "output_type": "execute_result"
    }
   ],
   "source": [
    "emp1.pay"
   ]
  },
  {
   "cell_type": "code",
   "execution_count": 51,
   "id": "90f0d9c6",
   "metadata": {},
   "outputs": [],
   "source": [
    "emp1.apply_raise()"
   ]
  },
  {
   "cell_type": "code",
   "execution_count": 52,
   "id": "00b878f7",
   "metadata": {},
   "outputs": [
    {
     "data": {
      "text/plain": [
       "52000.0"
      ]
     },
     "execution_count": 52,
     "metadata": {},
     "output_type": "execute_result"
    }
   ],
   "source": [
    "emp1.pay"
   ]
  },
  {
   "cell_type": "code",
   "execution_count": 53,
   "id": "67bc0263",
   "metadata": {},
   "outputs": [],
   "source": [
    "#class varible\n",
    "class Employee:\n",
    "    #class varible\n",
    "    raise_amount = 1.04\n",
    "    \n",
    "    #constructor\n",
    "    def  __init__(self, fname,lname,salary):\n",
    "        self.first=fname\n",
    "        self.last=lname\n",
    "        self.pay=salary\n",
    "        self.email = fname+'.'+lname+'@gmail.com'\n",
    "    \n",
    "    #Regular method\n",
    "    def fullname(self):\n",
    "        return '{} {}'.format(self.first,self.last)\n",
    "    \n",
    "    def apply_raise(self):\n",
    "        self.pay = self.pay * Employee.raise_amount"
   ]
  },
  {
   "cell_type": "code",
   "execution_count": 54,
   "id": "e1cdc097",
   "metadata": {},
   "outputs": [],
   "source": [
    "emp1= Employee('Ram','Sharma',50000)"
   ]
  },
  {
   "cell_type": "code",
   "execution_count": 55,
   "id": "3581ca41",
   "metadata": {},
   "outputs": [],
   "source": [
    "emp2=Employee('John','Smith',40000)"
   ]
  },
  {
   "cell_type": "code",
   "execution_count": 56,
   "id": "65044cff",
   "metadata": {},
   "outputs": [
    {
     "data": {
      "text/plain": [
       "1.04"
      ]
     },
     "execution_count": 56,
     "metadata": {},
     "output_type": "execute_result"
    }
   ],
   "source": [
    "emp1.raise_amount"
   ]
  },
  {
   "cell_type": "code",
   "execution_count": 57,
   "id": "e8cf158f",
   "metadata": {},
   "outputs": [
    {
     "data": {
      "text/plain": [
       "1.04"
      ]
     },
     "execution_count": 57,
     "metadata": {},
     "output_type": "execute_result"
    }
   ],
   "source": [
    "emp2.raise_amount"
   ]
  },
  {
   "cell_type": "code",
   "execution_count": 58,
   "id": "27f191c1",
   "metadata": {},
   "outputs": [
    {
     "data": {
      "text/plain": [
       "1.04"
      ]
     },
     "execution_count": 58,
     "metadata": {},
     "output_type": "execute_result"
    }
   ],
   "source": [
    "Employee.raise_amount"
   ]
  },
  {
   "cell_type": "code",
   "execution_count": 59,
   "id": "7087864b",
   "metadata": {},
   "outputs": [],
   "source": [
    "emp1.apply_raise()"
   ]
  },
  {
   "cell_type": "code",
   "execution_count": 60,
   "id": "d07f2b19",
   "metadata": {},
   "outputs": [
    {
     "data": {
      "text/plain": [
       "52000.0"
      ]
     },
     "execution_count": 60,
     "metadata": {},
     "output_type": "execute_result"
    }
   ],
   "source": [
    "emp1.pay"
   ]
  },
  {
   "cell_type": "code",
   "execution_count": 61,
   "id": "92f2b9a1",
   "metadata": {},
   "outputs": [
    {
     "data": {
      "text/plain": [
       "mappingproxy({'__module__': '__main__',\n",
       "              'raise_amount': 1.04,\n",
       "              '__init__': <function __main__.Employee.__init__(self, fname, lname, salary)>,\n",
       "              'fullname': <function __main__.Employee.fullname(self)>,\n",
       "              'apply_raise': <function __main__.Employee.apply_raise(self)>,\n",
       "              '__dict__': <attribute '__dict__' of 'Employee' objects>,\n",
       "              '__weakref__': <attribute '__weakref__' of 'Employee' objects>,\n",
       "              '__doc__': None})"
      ]
     },
     "execution_count": 61,
     "metadata": {},
     "output_type": "execute_result"
    }
   ],
   "source": [
    "Employee.__dict__"
   ]
  },
  {
   "cell_type": "code",
   "execution_count": 62,
   "id": "31df75e8",
   "metadata": {},
   "outputs": [
    {
     "data": {
      "text/plain": [
       "{'first': 'Ram',\n",
       " 'last': 'Sharma',\n",
       " 'pay': 52000.0,\n",
       " 'email': 'Ram.Sharma@gmail.com'}"
      ]
     },
     "execution_count": 62,
     "metadata": {},
     "output_type": "execute_result"
    }
   ],
   "source": [
    "emp1.__dict__"
   ]
  },
  {
   "cell_type": "code",
   "execution_count": 63,
   "id": "86726ee4",
   "metadata": {},
   "outputs": [
    {
     "data": {
      "text/plain": [
       "1.04"
      ]
     },
     "execution_count": 63,
     "metadata": {},
     "output_type": "execute_result"
    }
   ],
   "source": [
    "emp1.raise_amount"
   ]
  },
  {
   "cell_type": "code",
   "execution_count": 64,
   "id": "e1a8d6ab",
   "metadata": {},
   "outputs": [
    {
     "data": {
      "text/plain": [
       "1.04"
      ]
     },
     "execution_count": 64,
     "metadata": {},
     "output_type": "execute_result"
    }
   ],
   "source": [
    "Employee.raise_amount"
   ]
  },
  {
   "cell_type": "code",
   "execution_count": 65,
   "id": "fdeb6d98",
   "metadata": {},
   "outputs": [
    {
     "data": {
      "text/plain": [
       "1.04"
      ]
     },
     "execution_count": 65,
     "metadata": {},
     "output_type": "execute_result"
    }
   ],
   "source": [
    "emp2.raise_amount"
   ]
  },
  {
   "cell_type": "code",
   "execution_count": 66,
   "id": "dbc309a0",
   "metadata": {},
   "outputs": [],
   "source": [
    "Employee.raise_amount=1.05"
   ]
  },
  {
   "cell_type": "code",
   "execution_count": 67,
   "id": "7b55065f",
   "metadata": {},
   "outputs": [
    {
     "data": {
      "text/plain": [
       "1.05"
      ]
     },
     "execution_count": 67,
     "metadata": {},
     "output_type": "execute_result"
    }
   ],
   "source": [
    "emp1.raise_amount"
   ]
  },
  {
   "cell_type": "code",
   "execution_count": 68,
   "id": "fc4c78bc",
   "metadata": {},
   "outputs": [
    {
     "data": {
      "text/plain": [
       "1.05"
      ]
     },
     "execution_count": 68,
     "metadata": {},
     "output_type": "execute_result"
    }
   ],
   "source": [
    "Employee.raise_amount"
   ]
  },
  {
   "cell_type": "code",
   "execution_count": 69,
   "id": "7f58b55f",
   "metadata": {},
   "outputs": [
    {
     "data": {
      "text/plain": [
       "1.05"
      ]
     },
     "execution_count": 69,
     "metadata": {},
     "output_type": "execute_result"
    }
   ],
   "source": [
    "emp2.raise_amount"
   ]
  },
  {
   "cell_type": "code",
   "execution_count": 70,
   "id": "bd0be7e7",
   "metadata": {},
   "outputs": [
    {
     "data": {
      "text/plain": [
       "mappingproxy({'__module__': '__main__',\n",
       "              'raise_amount': 1.05,\n",
       "              '__init__': <function __main__.Employee.__init__(self, fname, lname, salary)>,\n",
       "              'fullname': <function __main__.Employee.fullname(self)>,\n",
       "              'apply_raise': <function __main__.Employee.apply_raise(self)>,\n",
       "              '__dict__': <attribute '__dict__' of 'Employee' objects>,\n",
       "              '__weakref__': <attribute '__weakref__' of 'Employee' objects>,\n",
       "              '__doc__': None})"
      ]
     },
     "execution_count": 70,
     "metadata": {},
     "output_type": "execute_result"
    }
   ],
   "source": [
    "Employee.__dict__"
   ]
  },
  {
   "cell_type": "code",
   "execution_count": 71,
   "id": "30fa818e",
   "metadata": {},
   "outputs": [
    {
     "data": {
      "text/plain": [
       "{'first': 'Ram',\n",
       " 'last': 'Sharma',\n",
       " 'pay': 52000.0,\n",
       " 'email': 'Ram.Sharma@gmail.com'}"
      ]
     },
     "execution_count": 71,
     "metadata": {},
     "output_type": "execute_result"
    }
   ],
   "source": [
    "emp1.__dict__"
   ]
  },
  {
   "cell_type": "code",
   "execution_count": 72,
   "id": "5596c563",
   "metadata": {},
   "outputs": [],
   "source": [
    "emp1.raise_amount=1.06"
   ]
  },
  {
   "cell_type": "code",
   "execution_count": 73,
   "id": "cdbe550e",
   "metadata": {},
   "outputs": [
    {
     "data": {
      "text/plain": [
       "{'first': 'Ram',\n",
       " 'last': 'Sharma',\n",
       " 'pay': 52000.0,\n",
       " 'email': 'Ram.Sharma@gmail.com',\n",
       " 'raise_amount': 1.06}"
      ]
     },
     "execution_count": 73,
     "metadata": {},
     "output_type": "execute_result"
    }
   ],
   "source": [
    "emp1.__dict__"
   ]
  },
  {
   "cell_type": "code",
   "execution_count": 74,
   "id": "5639d986",
   "metadata": {},
   "outputs": [
    {
     "data": {
      "text/plain": [
       "mappingproxy({'__module__': '__main__',\n",
       "              'raise_amount': 1.05,\n",
       "              '__init__': <function __main__.Employee.__init__(self, fname, lname, salary)>,\n",
       "              'fullname': <function __main__.Employee.fullname(self)>,\n",
       "              'apply_raise': <function __main__.Employee.apply_raise(self)>,\n",
       "              '__dict__': <attribute '__dict__' of 'Employee' objects>,\n",
       "              '__weakref__': <attribute '__weakref__' of 'Employee' objects>,\n",
       "              '__doc__': None})"
      ]
     },
     "execution_count": 74,
     "metadata": {},
     "output_type": "execute_result"
    }
   ],
   "source": [
    "Employee.__dict__"
   ]
  },
  {
   "cell_type": "code",
   "execution_count": 75,
   "id": "5798a226",
   "metadata": {},
   "outputs": [
    {
     "data": {
      "text/plain": [
       "{'first': 'John',\n",
       " 'last': 'Smith',\n",
       " 'pay': 40000,\n",
       " 'email': 'John.Smith@gmail.com'}"
      ]
     },
     "execution_count": 75,
     "metadata": {},
     "output_type": "execute_result"
    }
   ],
   "source": [
    "emp2.__dict__"
   ]
  },
  {
   "cell_type": "code",
   "execution_count": 76,
   "id": "66318b89",
   "metadata": {},
   "outputs": [],
   "source": [
    "class Employee:\n",
    "    #class varible\n",
    "    raise_amount = 1.04\n",
    "    no_of_emp=0\n",
    "    #constructor\n",
    "    def  __init__(self, fname,lname,salary):\n",
    "        self.first=fname\n",
    "        self.last=lname\n",
    "        self.pay=salary\n",
    "        self.email = fname+'.'+lname+'@gmail.com'\n",
    "        Employee.no_of_emp +=1\n",
    "    \n",
    "    #Regular method\n",
    "    def fullname(self):\n",
    "        return '{} {}'.format(self.first,self.last)\n",
    "    \n",
    "    def apply_raise(self):\n",
    "        self.pay = self.pay * Employee.raise_amount"
   ]
  },
  {
   "cell_type": "code",
   "execution_count": 77,
   "id": "957d27a9",
   "metadata": {},
   "outputs": [
    {
     "data": {
      "text/plain": [
       "0"
      ]
     },
     "execution_count": 77,
     "metadata": {},
     "output_type": "execute_result"
    }
   ],
   "source": [
    "Employee.no_of_emp"
   ]
  },
  {
   "cell_type": "code",
   "execution_count": 78,
   "id": "f6e362ec",
   "metadata": {},
   "outputs": [],
   "source": [
    "emp1 = Employee('Ram','Kumar',50000)"
   ]
  },
  {
   "cell_type": "code",
   "execution_count": 79,
   "id": "fe3f3f79",
   "metadata": {},
   "outputs": [
    {
     "data": {
      "text/plain": [
       "1"
      ]
     },
     "execution_count": 79,
     "metadata": {},
     "output_type": "execute_result"
    }
   ],
   "source": [
    "Employee.no_of_emp"
   ]
  },
  {
   "cell_type": "code",
   "execution_count": 80,
   "id": "c9b9ba93",
   "metadata": {},
   "outputs": [],
   "source": [
    "emp2=Employee('John','Smith',7829)"
   ]
  },
  {
   "cell_type": "code",
   "execution_count": 81,
   "id": "0fa35230",
   "metadata": {},
   "outputs": [
    {
     "data": {
      "text/plain": [
       "2"
      ]
     },
     "execution_count": 81,
     "metadata": {},
     "output_type": "execute_result"
    }
   ],
   "source": [
    "Employee.no_of_emp"
   ]
  },
  {
   "cell_type": "code",
   "execution_count": 93,
   "id": "0181bc2e",
   "metadata": {},
   "outputs": [],
   "source": [
    "#class method\n",
    "class Employee:\n",
    "    #class varible\n",
    "    raise_amount = 1.04\n",
    "    no_of_emp=0\n",
    "    #constructor\n",
    "    def  __init__(self, fname,lname,salary):\n",
    "        self.first=fname\n",
    "        self.last=lname\n",
    "        self.pay=salary\n",
    "        self.email = fname+'.'+lname+'@gmail.com'\n",
    "        Employee.no_of_emp +=1\n",
    "    \n",
    "    #Regular method\n",
    "    def fullname(self):\n",
    "        return '{} {}'.format(self.first,self.last)\n",
    "    \n",
    "    def apply_raise(self):\n",
    "        self.pay = self.pay * Employee.raise_amount\n",
    "    \n",
    "    #class method\n",
    "    def set_raise_amount(cls,amount):\n",
    "        Employee.raise_amount =amount\n",
    "    "
   ]
  },
  {
   "cell_type": "code",
   "execution_count": 94,
   "id": "733747f3",
   "metadata": {},
   "outputs": [],
   "source": [
    "emp1 = Employee('Ram','Kumar',50000)"
   ]
  },
  {
   "cell_type": "code",
   "execution_count": 95,
   "id": "c426675d",
   "metadata": {},
   "outputs": [],
   "source": [
    "emp2=Employee('John','Smith',7829)"
   ]
  },
  {
   "cell_type": "code",
   "execution_count": 96,
   "id": "f5d3689e",
   "metadata": {},
   "outputs": [
    {
     "data": {
      "text/plain": [
       "mappingproxy({'__module__': '__main__',\n",
       "              'raise_amount': 1.04,\n",
       "              'no_of_emp': 2,\n",
       "              '__init__': <function __main__.Employee.__init__(self, fname, lname, salary)>,\n",
       "              'fullname': <function __main__.Employee.fullname(self)>,\n",
       "              'apply_raise': <function __main__.Employee.apply_raise(self)>,\n",
       "              'set_raise_amount': <function __main__.Employee.set_raise_amount(cls, amount)>,\n",
       "              '__dict__': <attribute '__dict__' of 'Employee' objects>,\n",
       "              '__weakref__': <attribute '__weakref__' of 'Employee' objects>,\n",
       "              '__doc__': None})"
      ]
     },
     "execution_count": 96,
     "metadata": {},
     "output_type": "execute_result"
    }
   ],
   "source": [
    "Employee.__dict__"
   ]
  },
  {
   "cell_type": "code",
   "execution_count": 97,
   "id": "41317023",
   "metadata": {},
   "outputs": [
    {
     "data": {
      "text/plain": [
       "1.04"
      ]
     },
     "execution_count": 97,
     "metadata": {},
     "output_type": "execute_result"
    }
   ],
   "source": [
    "emp1.raise_amount"
   ]
  },
  {
   "cell_type": "code",
   "execution_count": 98,
   "id": "832e6036",
   "metadata": {},
   "outputs": [
    {
     "data": {
      "text/plain": [
       "1.04"
      ]
     },
     "execution_count": 98,
     "metadata": {},
     "output_type": "execute_result"
    }
   ],
   "source": [
    "emp2.raise_amount"
   ]
  },
  {
   "cell_type": "code",
   "execution_count": 99,
   "id": "53d138ed",
   "metadata": {},
   "outputs": [
    {
     "data": {
      "text/plain": [
       "1.04"
      ]
     },
     "execution_count": 99,
     "metadata": {},
     "output_type": "execute_result"
    }
   ],
   "source": [
    "Employee.raise_amount"
   ]
  },
  {
   "cell_type": "code",
   "execution_count": 100,
   "id": "91b8d48a",
   "metadata": {},
   "outputs": [],
   "source": [
    "emp1.set_raise_amount(1.05)"
   ]
  },
  {
   "cell_type": "code",
   "execution_count": 101,
   "id": "09df4394",
   "metadata": {},
   "outputs": [
    {
     "data": {
      "text/plain": [
       "1.05"
      ]
     },
     "execution_count": 101,
     "metadata": {},
     "output_type": "execute_result"
    }
   ],
   "source": [
    "emp1.raise_amount"
   ]
  },
  {
   "cell_type": "code",
   "execution_count": 102,
   "id": "f6f80346",
   "metadata": {},
   "outputs": [
    {
     "data": {
      "text/plain": [
       "1.05"
      ]
     },
     "execution_count": 102,
     "metadata": {},
     "output_type": "execute_result"
    }
   ],
   "source": [
    "emp2.raise_amount"
   ]
  },
  {
   "cell_type": "code",
   "execution_count": 103,
   "id": "049badb5",
   "metadata": {},
   "outputs": [
    {
     "data": {
      "text/plain": [
       "1.05"
      ]
     },
     "execution_count": 103,
     "metadata": {},
     "output_type": "execute_result"
    }
   ],
   "source": [
    "Employee.raise_amount"
   ]
  },
  {
   "cell_type": "code",
   "execution_count": 104,
   "id": "b0c699c6",
   "metadata": {},
   "outputs": [
    {
     "data": {
      "text/plain": [
       "{'first': 'Ram', 'last': 'Kumar', 'pay': 50000, 'email': 'Ram.Kumar@gmail.com'}"
      ]
     },
     "execution_count": 104,
     "metadata": {},
     "output_type": "execute_result"
    }
   ],
   "source": [
    "emp1.__dict__"
   ]
  },
  {
   "cell_type": "code",
   "execution_count": 105,
   "id": "825635b2",
   "metadata": {},
   "outputs": [],
   "source": [
    "Employee.raise_amount =1.06"
   ]
  },
  {
   "cell_type": "code",
   "execution_count": 106,
   "id": "9d420988",
   "metadata": {},
   "outputs": [
    {
     "data": {
      "text/plain": [
       "1.06"
      ]
     },
     "execution_count": 106,
     "metadata": {},
     "output_type": "execute_result"
    }
   ],
   "source": [
    "emp1.raise_amount"
   ]
  },
  {
   "cell_type": "code",
   "execution_count": 107,
   "id": "74a2f04b",
   "metadata": {},
   "outputs": [
    {
     "data": {
      "text/plain": [
       "1.06"
      ]
     },
     "execution_count": 107,
     "metadata": {},
     "output_type": "execute_result"
    }
   ],
   "source": [
    "emp2.raise_amount"
   ]
  },
  {
   "cell_type": "code",
   "execution_count": 108,
   "id": "62135944",
   "metadata": {},
   "outputs": [
    {
     "data": {
      "text/plain": [
       "1.06"
      ]
     },
     "execution_count": 108,
     "metadata": {},
     "output_type": "execute_result"
    }
   ],
   "source": [
    "Employee.raise_amount"
   ]
  },
  {
   "cell_type": "code",
   "execution_count": 109,
   "id": "86a391bb",
   "metadata": {},
   "outputs": [],
   "source": [
    "import datetime"
   ]
  },
  {
   "cell_type": "code",
   "execution_count": 110,
   "id": "350e1ab3",
   "metadata": {},
   "outputs": [],
   "source": [
    "mydata= datetime.date(2025,4,14)"
   ]
  },
  {
   "cell_type": "code",
   "execution_count": 111,
   "id": "69f32382",
   "metadata": {},
   "outputs": [
    {
     "data": {
      "text/plain": [
       "datetime.date(2025, 4, 14)"
      ]
     },
     "execution_count": 111,
     "metadata": {},
     "output_type": "execute_result"
    }
   ],
   "source": [
    "mydata\n"
   ]
  },
  {
   "cell_type": "code",
   "execution_count": 112,
   "id": "2ce3aa0e",
   "metadata": {},
   "outputs": [
    {
     "data": {
      "text/plain": [
       "14"
      ]
     },
     "execution_count": 112,
     "metadata": {},
     "output_type": "execute_result"
    }
   ],
   "source": [
    "mydata.day"
   ]
  },
  {
   "cell_type": "code",
   "execution_count": 113,
   "id": "bbb888e4",
   "metadata": {},
   "outputs": [
    {
     "data": {
      "text/plain": [
       "0"
      ]
     },
     "execution_count": 113,
     "metadata": {},
     "output_type": "execute_result"
    }
   ],
   "source": [
    "mydata.weekday()"
   ]
  },
  {
   "cell_type": "code",
   "execution_count": 114,
   "id": "38b414e0",
   "metadata": {},
   "outputs": [],
   "source": [
    "mydata1= datetime.date(2025,4,13)"
   ]
  },
  {
   "cell_type": "code",
   "execution_count": 115,
   "id": "ba084f19",
   "metadata": {},
   "outputs": [
    {
     "data": {
      "text/plain": [
       "6"
      ]
     },
     "execution_count": 115,
     "metadata": {},
     "output_type": "execute_result"
    }
   ],
   "source": [
    "mydata1.weekday()"
   ]
  },
  {
   "cell_type": "code",
   "execution_count": 116,
   "id": "adee7e58",
   "metadata": {},
   "outputs": [],
   "source": [
    "#static method\n",
    "class Employee:\n",
    "    #class varible\n",
    "    raise_amount = 1.04\n",
    "    no_of_emp=0\n",
    "    #constructor\n",
    "    def  __init__(self, fname,lname,salary):\n",
    "        self.first=fname\n",
    "        self.last=lname\n",
    "        self.pay=salary\n",
    "        self.email = fname+'.'+lname+'@gmail.com'\n",
    "        Employee.no_of_emp +=1\n",
    "    \n",
    "    #Regular method\n",
    "    def fullname(self):\n",
    "        return '{} {}'.format(self.first,self.last)\n",
    "    \n",
    "    def apply_raise(self):\n",
    "        self.pay = self.pay * Employee.raise_amount\n",
    "    \n",
    "    #class method\n",
    "    def set_raise_amount(cls,amount):\n",
    "        Employee.raise_amount =amount\n",
    "    \n",
    "    #static method\n",
    "    def is_workday(day):\n",
    "        if day.weekday() == 5 or day.weekday() ==6 :\n",
    "            return False\n",
    "        return True"
   ]
  },
  {
   "cell_type": "code",
   "execution_count": 117,
   "id": "a570bf3c",
   "metadata": {},
   "outputs": [
    {
     "data": {
      "text/plain": [
       "True"
      ]
     },
     "execution_count": 117,
     "metadata": {},
     "output_type": "execute_result"
    }
   ],
   "source": [
    "Employee.is_workday(mydata)"
   ]
  },
  {
   "cell_type": "code",
   "execution_count": 118,
   "id": "edcbc96c",
   "metadata": {},
   "outputs": [
    {
     "data": {
      "text/plain": [
       "False"
      ]
     },
     "execution_count": 118,
     "metadata": {},
     "output_type": "execute_result"
    }
   ],
   "source": [
    "Employee.is_workday(mydata1)"
   ]
  },
  {
   "cell_type": "code",
   "execution_count": 119,
   "id": "575e84f5",
   "metadata": {},
   "outputs": [],
   "source": [
    "emp1 = Employee('Ram','Kumar',50000)"
   ]
  },
  {
   "cell_type": "code",
   "execution_count": 120,
   "id": "2960498a",
   "metadata": {},
   "outputs": [
    {
     "data": {
      "text/plain": [
       "mappingproxy({'__module__': '__main__',\n",
       "              'raise_amount': 1.04,\n",
       "              'no_of_emp': 1,\n",
       "              '__init__': <function __main__.Employee.__init__(self, fname, lname, salary)>,\n",
       "              'fullname': <function __main__.Employee.fullname(self)>,\n",
       "              'apply_raise': <function __main__.Employee.apply_raise(self)>,\n",
       "              'set_raise_amount': <function __main__.Employee.set_raise_amount(cls, amount)>,\n",
       "              'is_workday': <function __main__.Employee.is_workday(day)>,\n",
       "              '__dict__': <attribute '__dict__' of 'Employee' objects>,\n",
       "              '__weakref__': <attribute '__weakref__' of 'Employee' objects>,\n",
       "              '__doc__': None})"
      ]
     },
     "execution_count": 120,
     "metadata": {},
     "output_type": "execute_result"
    }
   ],
   "source": [
    "Employee.__dict__"
   ]
  },
  {
   "cell_type": "code",
   "execution_count": 121,
   "id": "3b9269e2",
   "metadata": {},
   "outputs": [
    {
     "ename": "TypeError",
     "evalue": "is_workday() takes 1 positional argument but 2 were given",
     "output_type": "error",
     "traceback": [
      "\u001b[1;31m---------------------------------------------------------------------------\u001b[0m",
      "\u001b[1;31mTypeError\u001b[0m                                 Traceback (most recent call last)",
      "\u001b[1;32m~\\AppData\\Local\\Temp\\ipykernel_19496\\2180108318.py\u001b[0m in \u001b[0;36m<module>\u001b[1;34m\u001b[0m\n\u001b[1;32m----> 1\u001b[1;33m \u001b[0memp1\u001b[0m\u001b[1;33m.\u001b[0m\u001b[0mis_workday\u001b[0m\u001b[1;33m(\u001b[0m\u001b[0mmydata\u001b[0m\u001b[1;33m)\u001b[0m\u001b[1;33m\u001b[0m\u001b[1;33m\u001b[0m\u001b[0m\n\u001b[0m",
      "\u001b[1;31mTypeError\u001b[0m: is_workday() takes 1 positional argument but 2 were given"
     ]
    }
   ],
   "source": [
    "emp1.is_workday(mydata)"
   ]
  },
  {
   "cell_type": "code",
   "execution_count": 129,
   "id": "bf4e2cd8",
   "metadata": {},
   "outputs": [],
   "source": [
    "class Employee:\n",
    "    #class varible\n",
    "    raise_amount = 1.04\n",
    "    no_of_emp=0\n",
    "    #constructor\n",
    "    def  __init__(self, fname,lname,salary):\n",
    "        self.first=fname\n",
    "        self.last=lname\n",
    "        self.pay=salary\n",
    "        self.email = fname+'.'+lname+'@gmail.com'\n",
    "        Employee.no_of_emp +=1\n",
    "    \n",
    "    #Regular method\n",
    "    def fullname(self):\n",
    "        return '{} {}'.format(self.first,self.last)\n",
    "    \n",
    "    def apply_raise(self):\n",
    "        self.pay = self.pay * Employee.raise_amount\n",
    "    \n",
    "    #class method\n",
    "    @classmethod\n",
    "    def set_raise_amount(cls,amount):\n",
    "        Employee.raise_amount =amount\n",
    "    \n",
    "    #static method\n",
    "    def is_workday(day):\n",
    "        if day.weekday() == 5 or day.weekday() ==6 :\n",
    "            return False\n",
    "        return True\n",
    "    \n",
    "    @classmethod\n",
    "    def fromString(cls,emp_str):\n",
    "        fname,last,pay = emp_str.split('-')\n",
    "        return Employee(fname,last,pay)"
   ]
  },
  {
   "cell_type": "code",
   "execution_count": 123,
   "id": "b838fbad",
   "metadata": {},
   "outputs": [],
   "source": [
    "data1 = 'Ram-kumar-50000'"
   ]
  },
  {
   "cell_type": "code",
   "execution_count": 130,
   "id": "cc9de08f",
   "metadata": {},
   "outputs": [],
   "source": [
    "emp1= Employee('John','Smith',40000)"
   ]
  },
  {
   "cell_type": "markdown",
   "id": "108a2804",
   "metadata": {},
   "source": []
  },
  {
   "cell_type": "code",
   "execution_count": 131,
   "id": "2e4495fa",
   "metadata": {},
   "outputs": [
    {
     "data": {
      "text/plain": [
       "'John Smith'"
      ]
     },
     "execution_count": 131,
     "metadata": {},
     "output_type": "execute_result"
    }
   ],
   "source": [
    "emp1.fullname()"
   ]
  },
  {
   "cell_type": "code",
   "execution_count": 132,
   "id": "1645b7cd",
   "metadata": {},
   "outputs": [],
   "source": [
    "emp2=Employee.fromString(data1)"
   ]
  },
  {
   "cell_type": "markdown",
   "id": "3e1465f7",
   "metadata": {},
   "source": []
  },
  {
   "cell_type": "code",
   "execution_count": 133,
   "id": "e884bdc4",
   "metadata": {},
   "outputs": [
    {
     "data": {
      "text/plain": [
       "'Ram kumar'"
      ]
     },
     "execution_count": 133,
     "metadata": {},
     "output_type": "execute_result"
    }
   ],
   "source": [
    "emp2.fullname()"
   ]
  },
  {
   "cell_type": "code",
   "execution_count": 134,
   "id": "3a35b0d1",
   "metadata": {},
   "outputs": [
    {
     "data": {
      "text/plain": [
       "{'first': 'John',\n",
       " 'last': 'Smith',\n",
       " 'pay': 40000,\n",
       " 'email': 'John.Smith@gmail.com'}"
      ]
     },
     "execution_count": 134,
     "metadata": {},
     "output_type": "execute_result"
    }
   ],
   "source": [
    "emp1.__dict__"
   ]
  },
  {
   "cell_type": "code",
   "execution_count": 135,
   "id": "23d71d63",
   "metadata": {},
   "outputs": [
    {
     "data": {
      "text/plain": [
       "{'first': 'Ram',\n",
       " 'last': 'kumar',\n",
       " 'pay': '50000',\n",
       " 'email': 'Ram.kumar@gmail.com'}"
      ]
     },
     "execution_count": 135,
     "metadata": {},
     "output_type": "execute_result"
    }
   ],
   "source": [
    "emp2.__dict__"
   ]
  },
  {
   "cell_type": "code",
   "execution_count": 136,
   "id": "9869479f",
   "metadata": {},
   "outputs": [],
   "source": [
    "#Single inhertitance\n",
    "class Developer(Employee):\n",
    "    pass"
   ]
  },
  {
   "cell_type": "code",
   "execution_count": 138,
   "id": "00bab80e",
   "metadata": {},
   "outputs": [],
   "source": [
    "dev1 = Developer('Ram','Kumar',50000)"
   ]
  },
  {
   "cell_type": "code",
   "execution_count": 139,
   "id": "d8eae676",
   "metadata": {},
   "outputs": [
    {
     "data": {
      "text/plain": [
       "'Ram Kumar'"
      ]
     },
     "execution_count": 139,
     "metadata": {},
     "output_type": "execute_result"
    }
   ],
   "source": [
    "dev1.fullname()"
   ]
  },
  {
   "cell_type": "code",
   "execution_count": 140,
   "id": "cb8f4332",
   "metadata": {},
   "outputs": [
    {
     "data": {
      "text/plain": [
       "'Ram.Kumar@gmail.com'"
      ]
     },
     "execution_count": 140,
     "metadata": {},
     "output_type": "execute_result"
    }
   ],
   "source": [
    "dev1.email"
   ]
  },
  {
   "cell_type": "code",
   "execution_count": 141,
   "id": "a9f888fa",
   "metadata": {},
   "outputs": [
    {
     "data": {
      "text/plain": [
       "mappingproxy({'__module__': '__main__',\n",
       "              'raise_amount': 1.04,\n",
       "              'no_of_emp': 3,\n",
       "              '__init__': <function __main__.Employee.__init__(self, fname, lname, salary)>,\n",
       "              'fullname': <function __main__.Employee.fullname(self)>,\n",
       "              'apply_raise': <function __main__.Employee.apply_raise(self)>,\n",
       "              'set_raise_amount': <classmethod at 0x279ad0e06a0>,\n",
       "              'is_workday': <function __main__.Employee.is_workday(day)>,\n",
       "              'fromString': <classmethod at 0x279ad0e0430>,\n",
       "              '__dict__': <attribute '__dict__' of 'Employee' objects>,\n",
       "              '__weakref__': <attribute '__weakref__' of 'Employee' objects>,\n",
       "              '__doc__': None})"
      ]
     },
     "execution_count": 141,
     "metadata": {},
     "output_type": "execute_result"
    }
   ],
   "source": [
    "Employee.__dict__"
   ]
  },
  {
   "cell_type": "code",
   "execution_count": 142,
   "id": "edb07c3f",
   "metadata": {},
   "outputs": [
    {
     "data": {
      "text/plain": [
       "mappingproxy({'__module__': '__main__', '__doc__': None})"
      ]
     },
     "execution_count": 142,
     "metadata": {},
     "output_type": "execute_result"
    }
   ],
   "source": [
    "Developer.__dict__"
   ]
  },
  {
   "cell_type": "code",
   "execution_count": 143,
   "id": "5511d784",
   "metadata": {},
   "outputs": [
    {
     "name": "stdout",
     "output_type": "stream",
     "text": [
      "Help on class Employee in module __main__:\n",
      "\n",
      "class Employee(builtins.object)\n",
      " |  Employee(fname, lname, salary)\n",
      " |  \n",
      " |  Methods defined here:\n",
      " |  \n",
      " |  __init__(self, fname, lname, salary)\n",
      " |      Initialize self.  See help(type(self)) for accurate signature.\n",
      " |  \n",
      " |  apply_raise(self)\n",
      " |  \n",
      " |  fullname(self)\n",
      " |      #Regular method\n",
      " |  \n",
      " |  is_workday(day)\n",
      " |      #static method\n",
      " |  \n",
      " |  ----------------------------------------------------------------------\n",
      " |  Class methods defined here:\n",
      " |  \n",
      " |  fromString(emp_str) from builtins.type\n",
      " |  \n",
      " |  set_raise_amount(amount) from builtins.type\n",
      " |      #class method\n",
      " |  \n",
      " |  ----------------------------------------------------------------------\n",
      " |  Data descriptors defined here:\n",
      " |  \n",
      " |  __dict__\n",
      " |      dictionary for instance variables (if defined)\n",
      " |  \n",
      " |  __weakref__\n",
      " |      list of weak references to the object (if defined)\n",
      " |  \n",
      " |  ----------------------------------------------------------------------\n",
      " |  Data and other attributes defined here:\n",
      " |  \n",
      " |  no_of_emp = 3\n",
      " |  \n",
      " |  raise_amount = 1.04\n",
      "\n"
     ]
    }
   ],
   "source": [
    "help(Employee)"
   ]
  },
  {
   "cell_type": "code",
   "execution_count": 144,
   "id": "213ac714",
   "metadata": {},
   "outputs": [
    {
     "name": "stdout",
     "output_type": "stream",
     "text": [
      "Help on class Developer in module __main__:\n",
      "\n",
      "class Developer(Employee)\n",
      " |  Developer(fname, lname, salary)\n",
      " |  \n",
      " |  Method resolution order:\n",
      " |      Developer\n",
      " |      Employee\n",
      " |      builtins.object\n",
      " |  \n",
      " |  Methods inherited from Employee:\n",
      " |  \n",
      " |  __init__(self, fname, lname, salary)\n",
      " |      Initialize self.  See help(type(self)) for accurate signature.\n",
      " |  \n",
      " |  apply_raise(self)\n",
      " |  \n",
      " |  fullname(self)\n",
      " |      #Regular method\n",
      " |  \n",
      " |  is_workday(day)\n",
      " |      #static method\n",
      " |  \n",
      " |  ----------------------------------------------------------------------\n",
      " |  Class methods inherited from Employee:\n",
      " |  \n",
      " |  fromString(emp_str) from builtins.type\n",
      " |  \n",
      " |  set_raise_amount(amount) from builtins.type\n",
      " |      #class method\n",
      " |  \n",
      " |  ----------------------------------------------------------------------\n",
      " |  Data descriptors inherited from Employee:\n",
      " |  \n",
      " |  __dict__\n",
      " |      dictionary for instance variables (if defined)\n",
      " |  \n",
      " |  __weakref__\n",
      " |      list of weak references to the object (if defined)\n",
      " |  \n",
      " |  ----------------------------------------------------------------------\n",
      " |  Data and other attributes inherited from Employee:\n",
      " |  \n",
      " |  no_of_emp = 3\n",
      " |  \n",
      " |  raise_amount = 1.04\n",
      "\n"
     ]
    }
   ],
   "source": [
    "help(Developer)"
   ]
  },
  {
   "cell_type": "code",
   "execution_count": 145,
   "id": "1ab2194d",
   "metadata": {},
   "outputs": [
    {
     "data": {
      "text/plain": [
       "3"
      ]
     },
     "execution_count": 145,
     "metadata": {},
     "output_type": "execute_result"
    }
   ],
   "source": [
    "dev1.no_of_emp"
   ]
  },
  {
   "cell_type": "code",
   "execution_count": 146,
   "id": "b780a316",
   "metadata": {},
   "outputs": [],
   "source": [
    "dev1.set_raise_amount(1.2)"
   ]
  },
  {
   "cell_type": "code",
   "execution_count": 147,
   "id": "47b33600",
   "metadata": {},
   "outputs": [
    {
     "data": {
      "text/plain": [
       "1.2"
      ]
     },
     "execution_count": 147,
     "metadata": {},
     "output_type": "execute_result"
    }
   ],
   "source": [
    "dev1.raise_amount"
   ]
  },
  {
   "cell_type": "code",
   "execution_count": 148,
   "id": "b87a69f6",
   "metadata": {},
   "outputs": [
    {
     "data": {
      "text/plain": [
       "mappingproxy({'__module__': '__main__',\n",
       "              'raise_amount': 1.2,\n",
       "              'no_of_emp': 3,\n",
       "              '__init__': <function __main__.Employee.__init__(self, fname, lname, salary)>,\n",
       "              'fullname': <function __main__.Employee.fullname(self)>,\n",
       "              'apply_raise': <function __main__.Employee.apply_raise(self)>,\n",
       "              'set_raise_amount': <classmethod at 0x279ad0e06a0>,\n",
       "              'is_workday': <function __main__.Employee.is_workday(day)>,\n",
       "              'fromString': <classmethod at 0x279ad0e0430>,\n",
       "              '__dict__': <attribute '__dict__' of 'Employee' objects>,\n",
       "              '__weakref__': <attribute '__weakref__' of 'Employee' objects>,\n",
       "              '__doc__': None})"
      ]
     },
     "execution_count": 148,
     "metadata": {},
     "output_type": "execute_result"
    }
   ],
   "source": [
    "Employee.__dict__"
   ]
  },
  {
   "cell_type": "code",
   "execution_count": 157,
   "id": "8e0b09e5",
   "metadata": {},
   "outputs": [],
   "source": [
    "class Developer(Employee):\n",
    "    raise_amount =1.10\n",
    "    def __init__(self,fname,lname,pay,prog_lang):\n",
    "        super().__init__(fname,lname,pay)\n",
    "        self.prog_lang = prog_lang"
   ]
  },
  {
   "cell_type": "code",
   "execution_count": 158,
   "id": "fd9f25cf",
   "metadata": {},
   "outputs": [],
   "source": [
    "dev1 = Developer('Ropa','Sharma',5000,'java')"
   ]
  },
  {
   "cell_type": "code",
   "execution_count": 159,
   "id": "995ba7b3",
   "metadata": {},
   "outputs": [
    {
     "data": {
      "text/plain": [
       "'Ropa'"
      ]
     },
     "execution_count": 159,
     "metadata": {},
     "output_type": "execute_result"
    }
   ],
   "source": [
    "dev1.first"
   ]
  },
  {
   "cell_type": "code",
   "execution_count": 160,
   "id": "66fa5347",
   "metadata": {},
   "outputs": [
    {
     "data": {
      "text/plain": [
       "5000"
      ]
     },
     "execution_count": 160,
     "metadata": {},
     "output_type": "execute_result"
    }
   ],
   "source": [
    "dev1.pay"
   ]
  },
  {
   "cell_type": "code",
   "execution_count": 161,
   "id": "3129ab1d",
   "metadata": {},
   "outputs": [
    {
     "data": {
      "text/plain": [
       "'java'"
      ]
     },
     "execution_count": 161,
     "metadata": {},
     "output_type": "execute_result"
    }
   ],
   "source": [
    "dev1.prog_lang"
   ]
  },
  {
   "cell_type": "code",
   "execution_count": 162,
   "id": "9660ace6",
   "metadata": {},
   "outputs": [
    {
     "data": {
      "text/plain": [
       "mappingproxy({'__module__': '__main__',\n",
       "              'raise_amount': 1.2,\n",
       "              'no_of_emp': 5,\n",
       "              '__init__': <function __main__.Employee.__init__(self, fname, lname, salary)>,\n",
       "              'fullname': <function __main__.Employee.fullname(self)>,\n",
       "              'apply_raise': <function __main__.Employee.apply_raise(self)>,\n",
       "              'set_raise_amount': <classmethod at 0x279ad0e06a0>,\n",
       "              'is_workday': <function __main__.Employee.is_workday(day)>,\n",
       "              'fromString': <classmethod at 0x279ad0e0430>,\n",
       "              '__dict__': <attribute '__dict__' of 'Employee' objects>,\n",
       "              '__weakref__': <attribute '__weakref__' of 'Employee' objects>,\n",
       "              '__doc__': None})"
      ]
     },
     "execution_count": 162,
     "metadata": {},
     "output_type": "execute_result"
    }
   ],
   "source": [
    "Employee.__dict__"
   ]
  },
  {
   "cell_type": "code",
   "execution_count": 163,
   "id": "8483531c",
   "metadata": {},
   "outputs": [
    {
     "data": {
      "text/plain": [
       "mappingproxy({'__module__': '__main__',\n",
       "              'raise_amount': 1.1,\n",
       "              '__init__': <function __main__.Developer.__init__(self, fname, lname, pay, prog_lang)>,\n",
       "              '__doc__': None})"
      ]
     },
     "execution_count": 163,
     "metadata": {},
     "output_type": "execute_result"
    }
   ],
   "source": [
    "Developer.__dict__"
   ]
  },
  {
   "cell_type": "code",
   "execution_count": 165,
   "id": "bcd8ceb1",
   "metadata": {},
   "outputs": [],
   "source": [
    "dev2 = Developer('Anu','Mehra',67892,'Python')"
   ]
  },
  {
   "cell_type": "code",
   "execution_count": 166,
   "id": "c655f188",
   "metadata": {},
   "outputs": [],
   "source": [
    "class Manager(Employee):\n",
    "    def __init__(self,fname,lname,pay,employees=None):\n",
    "        super().__init__(fname,lname,pay)\n",
    "        if employees is None :\n",
    "            self.employees= []\n",
    "        else:\n",
    "            self.employees =employees\n",
    "    \n",
    "    def add_emp(self,emp):\n",
    "        if emp not in self.employees:\n",
    "            self.employees.append(emp)\n",
    "    \n",
    "    def remove_emp(self,emp):\n",
    "        if emp in self.employees:\n",
    "            self.employees.remove(emp)\n",
    "    \n",
    "    def print_emp(self):\n",
    "        for emp in self.employees:\n",
    "            print('-->',emp.fullname())"
   ]
  },
  {
   "cell_type": "code",
   "execution_count": 167,
   "id": "cb4f4804",
   "metadata": {},
   "outputs": [],
   "source": [
    "mgr1= Manager('Aradhya','Deo',60000,[dev1])"
   ]
  },
  {
   "cell_type": "code",
   "execution_count": 168,
   "id": "d7721e10",
   "metadata": {},
   "outputs": [
    {
     "data": {
      "text/plain": [
       "'Aradhya.Deo@gmail.com'"
      ]
     },
     "execution_count": 168,
     "metadata": {},
     "output_type": "execute_result"
    }
   ],
   "source": [
    "mgr1.email"
   ]
  },
  {
   "cell_type": "code",
   "execution_count": 169,
   "id": "c59956be",
   "metadata": {},
   "outputs": [
    {
     "name": "stdout",
     "output_type": "stream",
     "text": [
      "--> Ropa Sharma\n"
     ]
    }
   ],
   "source": [
    "mgr1.print_emp()"
   ]
  },
  {
   "cell_type": "code",
   "execution_count": 170,
   "id": "efc3b743",
   "metadata": {},
   "outputs": [],
   "source": [
    "mgr1.add_emp(dev2)"
   ]
  },
  {
   "cell_type": "code",
   "execution_count": 171,
   "id": "5875b239",
   "metadata": {},
   "outputs": [
    {
     "name": "stdout",
     "output_type": "stream",
     "text": [
      "--> Ropa Sharma\n",
      "--> Anu Mehra\n"
     ]
    }
   ],
   "source": [
    "mgr1.print_emp()"
   ]
  },
  {
   "cell_type": "code",
   "execution_count": 172,
   "id": "824ac094",
   "metadata": {},
   "outputs": [],
   "source": [
    "mgr1.remove_emp(dev1)"
   ]
  },
  {
   "cell_type": "code",
   "execution_count": 173,
   "id": "1d85df85",
   "metadata": {},
   "outputs": [
    {
     "name": "stdout",
     "output_type": "stream",
     "text": [
      "--> Anu Mehra\n"
     ]
    }
   ],
   "source": [
    "mgr1.print_emp()"
   ]
  },
  {
   "cell_type": "code",
   "execution_count": 174,
   "id": "8d053db5",
   "metadata": {},
   "outputs": [
    {
     "data": {
      "text/plain": [
       "True"
      ]
     },
     "execution_count": 174,
     "metadata": {},
     "output_type": "execute_result"
    }
   ],
   "source": [
    "isinstance(mgr1,Manager)"
   ]
  },
  {
   "cell_type": "code",
   "execution_count": 175,
   "id": "942a4488",
   "metadata": {},
   "outputs": [
    {
     "data": {
      "text/plain": [
       "True"
      ]
     },
     "execution_count": 175,
     "metadata": {},
     "output_type": "execute_result"
    }
   ],
   "source": [
    "isinstance(mgr1,Employee)"
   ]
  },
  {
   "cell_type": "code",
   "execution_count": 176,
   "id": "cda3b2f3",
   "metadata": {},
   "outputs": [
    {
     "data": {
      "text/plain": [
       "False"
      ]
     },
     "execution_count": 176,
     "metadata": {},
     "output_type": "execute_result"
    }
   ],
   "source": [
    "isinstance(mgr1,Developer)"
   ]
  },
  {
   "cell_type": "code",
   "execution_count": 177,
   "id": "1834c0af",
   "metadata": {},
   "outputs": [
    {
     "data": {
      "text/plain": [
       "True"
      ]
     },
     "execution_count": 177,
     "metadata": {},
     "output_type": "execute_result"
    }
   ],
   "source": [
    "issubclass(Manager,Employee)"
   ]
  },
  {
   "cell_type": "code",
   "execution_count": 178,
   "id": "445d2439",
   "metadata": {},
   "outputs": [
    {
     "data": {
      "text/plain": [
       "True"
      ]
     },
     "execution_count": 178,
     "metadata": {},
     "output_type": "execute_result"
    }
   ],
   "source": [
    "issubclass(Developer,Employee)"
   ]
  },
  {
   "cell_type": "code",
   "execution_count": 179,
   "id": "95e86eac",
   "metadata": {},
   "outputs": [
    {
     "data": {
      "text/plain": [
       "False"
      ]
     },
     "execution_count": 179,
     "metadata": {},
     "output_type": "execute_result"
    }
   ],
   "source": [
    "issubclass(Developer,Manager)"
   ]
  },
  {
   "cell_type": "code",
   "execution_count": null,
   "id": "9edff1b1",
   "metadata": {},
   "outputs": [],
   "source": []
  }
 ],
 "metadata": {
  "kernelspec": {
   "display_name": "Python 3 (ipykernel)",
   "language": "python",
   "name": "python3"
  },
  "language_info": {
   "codemirror_mode": {
    "name": "ipython",
    "version": 3
   },
   "file_extension": ".py",
   "mimetype": "text/x-python",
   "name": "python",
   "nbconvert_exporter": "python",
   "pygments_lexer": "ipython3",
   "version": "3.9.13"
  }
 },
 "nbformat": 4,
 "nbformat_minor": 5
}
